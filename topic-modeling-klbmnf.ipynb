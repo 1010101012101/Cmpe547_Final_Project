{
 "cells": [
  {
   "cell_type": "markdown",
   "metadata": {},
   "source": [
    "# Topic Modeling using NMF and KLBNMF on Twitter Accounts\n",
    "\n",
    "In this notebook, we applied a probabilistic matrix decomposition algorithm called NMF and its variation KLBNMF to detect what kind of topics did a specific user tweet about and what are those topics about.\n",
    "\n",
    "\n",
    "## Natural Language Processing (NLP)\n",
    "\n",
    "The language of twitter is generally close to daily language. People share their ideas and emotions at any time of the day. Other than normal texts, tweets can include hashtags, emoticons, pictures, videos, gifs, urls etc. Even normal text part of the tweets may consist of misspelled words. Apart from these, one user may tweet in lots of language. For example, one tweet may be in Turkish, and another one in English. So we need to make a cleanup before using those tweets. The list of applied processes:\n",
    "\n",
    "* Remove Twitter Accounts that has less than 2000 words in their tweets\n",
    "* Remove URLs\n",
    "* Tokenization\n",
    "* Stop words\n",
    "* Remove non-English words from tweets\n",
    "* Remove non-English accounts\n",
    "* Delete accounts whose number of left tokens are less than 200\n",
    "* Stemming\n",
    "* Remove words that appears less than 6 timse in the whole corpus"
   ]
  },
  {
   "cell_type": "markdown",
   "metadata": {},
   "source": [
    "Importing the necessary libraries."
   ]
  },
  {
   "cell_type": "code",
   "execution_count": 1,
   "metadata": {
    "collapsed": false
   },
   "outputs": [
    {
     "name": "stderr",
     "output_type": "stream",
     "text": [
      "C:\\Users\\Burki\\Anaconda3\\lib\\site-packages\\gensim\\utils.py:855: UserWarning: detected Windows; aliasing chunkize to chunkize_serial\n",
      "  warnings.warn(\"detected Windows; aliasing chunkize to chunkize_serial\")\n",
      "C:\\Users\\Burki\\Anaconda3\\lib\\site-packages\\numpy\\lib\\utils.py:99: DeprecationWarning: `scipy.sparse.sparsetools` is deprecated!\n",
      "scipy.sparse.sparsetools is a private module for scipy.sparse, and should not be used.\n",
      "  warnings.warn(depdoc, DeprecationWarning)\n"
     ]
    }
   ],
   "source": [
    "import langid\n",
    "import logging\n",
    "import nltk\n",
    "import numpy as np\n",
    "import re\n",
    "import os\n",
    "import sys\n",
    "import time\n",
    "from collections import defaultdict\n",
    "from string import digits\n",
    "import pyLDAvis.gensim\n",
    "import pyLDAvis.sklearn\n",
    "from gensim import corpora, models, similarities, matutils\n",
    "import networkx as nx\n",
    "import string\n",
    "import math\n",
    "import pickle\n",
    "\n",
    "from time import time\n",
    "\n",
    "from sklearn.feature_extraction.text import TfidfVectorizer, CountVectorizer\n",
    "from sklearn.decomposition import NMF, LatentDirichletAllocation\n",
    "from sklearn.datasets import fetch_20newsgroups\n",
    "from sklearn.cluster import KMeans\n",
    "\n",
    "from collections import Counter\n",
    "\n",
    "import scipy.io\n",
    "from scipy import sparse"
   ]
  },
  {
   "cell_type": "markdown",
   "metadata": {},
   "source": [
    "## KLBNMF Codes"
   ]
  },
  {
   "cell_type": "code",
   "execution_count": 2,
   "metadata": {
    "collapsed": true
   },
   "outputs": [],
   "source": [
    "# %load gnmf_solvebynewton.py\n",
    "from __future__ import division\n",
    "import numpy as np\n",
    "import scipy as sp\n",
    "from scipy import special\n",
    "import numpy.matlib as M\n",
    "\n",
    "def gnmf_solvebynewton(c, a0 = None):\n",
    "\n",
    "    if a0 is None:\n",
    "        a0 = 0.1 * np.ones(np.shape(c))\n",
    "\n",
    "    M, N = np.shape(a0)\n",
    "    if len(np.shape(c)) == 0:\n",
    "        Mc , Nc = 1,1\n",
    "    else:\n",
    "        Mc, Nc = np.shape(c)\n",
    "\n",
    "\n",
    "\n",
    "    a = None\n",
    "    cond = 0\n",
    "\n",
    "    if (M == Mc and N == Nc):\n",
    "        a = a0\n",
    "        cond = 1\n",
    "\n",
    "    elif (Mc == 1 and Nc >1):\n",
    "        cond = 2\n",
    "        a = a0[0,:]\n",
    "    elif (Mc > 1 and Nc == 1):\n",
    "        cond = 3\n",
    "        a = a0[:,0]\n",
    "    elif (Mc == 1 and Nc == 1):\n",
    "        cond = 4\n",
    "        a = a0[0,0]\n",
    "\n",
    "    a2 = None\n",
    "    for index in range(10):\n",
    "        a2 = a - (np.log(a) - special.polygamma(0,a) + 1 - c) / (1/a - special.polygamma(1,a))\n",
    "        idx = np.where(a2<0)\n",
    "        if len(idx[0]) > 0:\n",
    "            if isinstance(a, float):\n",
    "                a2 = a / 2\n",
    "            else:\n",
    "                a2[idx] = a[idx] / 2\n",
    "        a = a2\n",
    "\n",
    "    if(cond == 2):\n",
    "        a = M.repmat(a,M,1)\n",
    "    elif(cond == 3):\n",
    "        a = M.repmat(a,1,N)\n",
    "    elif(cond == 4):\n",
    "        a = a * np.ones([M,N])\n",
    "\n",
    "    return a\n"
   ]
  },
  {
   "cell_type": "code",
   "execution_count": 3,
   "metadata": {
    "collapsed": true
   },
   "outputs": [],
   "source": [
    "# %load gnmf_vb_poisson_mult_fast.py\n",
    "from __future__ import division\n",
    "import numpy as np\n",
    "import scipy as sp\n",
    "import math\n",
    "from scipy import special\n",
    "import numpy.matlib as M\n",
    "\n",
    "def gnmf_vb_poisson_mult_fast(x,\n",
    "                            a_tm,\n",
    "                            b_tm,\n",
    "                            a_ve,\n",
    "                            b_ve,\n",
    "                            EPOCH =1000,\n",
    "                            Method = 'vb',\n",
    "                            Update = np.inf,\n",
    "                            tie_a_ve = 'clamp',\n",
    "                            tie_b_ve = 'clamp',\n",
    "                            tie_a_tm = 'clamp',\n",
    "                            tie_b_tm = 'clamp',\n",
    "                            print_period = 500\n",
    "                            ):\n",
    "\n",
    "    # Result initialiation\n",
    "    g = dict()\n",
    "    g['E_T'] = None\n",
    "    g['E_logT'] = None\n",
    "    g['E_V'] = None\n",
    "    g['E_logV'] = None\n",
    "    g['Bound'] = None\n",
    "    g['a_ve'] = None\n",
    "    g['b_ve'] = None\n",
    "    g['a_tm'] = None\n",
    "    g['b_tm'] = None\n",
    "\n",
    "    logm = np.vectorize(math.log)\n",
    "    W = x.shape[0]\n",
    "    K = x.shape[1]\n",
    "    I = b_tm.shape[1]\n",
    "\n",
    "    M = ~np.isnan(x)\n",
    "    X = np.zeros(x.shape)\n",
    "    X[M] = x[M]\n",
    "\n",
    "    t_init = np.random.gamma(a_tm, b_tm/a_tm)\n",
    "    v_init = np.random.gamma(a_ve, b_ve/a_ve)\n",
    "    L_t = t_init\n",
    "    L_v = v_init\n",
    "    E_t = t_init\n",
    "    E_v = v_init\n",
    "    Sig_t = t_init\n",
    "    Sig_v = v_init\n",
    "\n",
    "    B = np.zeros([1,EPOCH])\n",
    "    gammalnX = special.gammaln(X+1)\n",
    "\n",
    "    for e in range(1,EPOCH+1):\n",
    "\n",
    "        LtLv = L_t.dot(L_v)\n",
    "        tmp = X / (LtLv)\n",
    "        #check Tranpose\n",
    "        Sig_t = L_t * (tmp.dot(L_v.T))\n",
    "        Sig_v = L_v * (L_t.T.dot(tmp))\n",
    "\n",
    "        alpha_tm = a_tm + Sig_t\n",
    "        beta_tm = 1/((a_tm/b_tm) + M.dot(E_v.T))\n",
    "        E_t = alpha_tm * (beta_tm)\n",
    "\n",
    "        alpha_ve = a_ve + Sig_v\n",
    "        beta_ve = 1/((a_ve/b_ve) + E_t.T.dot(M))\n",
    "\n",
    "        E_v = alpha_ve * (beta_ve)\n",
    "        # Compute the bound\n",
    "        if(e%10 == 1):\n",
    "            print(\"*\", end='')\n",
    "        if(e%print_period == 1 or e == EPOCH):\n",
    "            g['E_T'] = E_t\n",
    "            g['E_logT'] = logm(L_t)\n",
    "            g['E_V'] = E_v\n",
    "            g['E_logV'] = logm(L_v)\n",
    "\n",
    "            g['Bound'] = -np.sum(np.sum(M * (g['E_T'].dot(g['E_V'])) + gammalnX))\\\n",
    "                        + np.sum(np.sum(-X * ( ((L_t * g['E_logT']).dot(L_v) + L_t.dot(L_v * g['E_logV']))/(LtLv) - logm(LtLv) ) ))\\\n",
    "                        + np.sum(np.sum((-a_tm/b_tm)* g['E_T'] - special.gammaln(a_tm) + a_tm * logm(a_tm /b_tm)))\\\n",
    "                        + np.sum(np.sum((-a_ve/b_ve)* g['E_V'] - special.gammaln(a_ve) + a_ve * logm(a_ve /b_ve)))\\\n",
    "                        + np.sum(np.sum( special.gammaln(alpha_tm) + alpha_tm * logm(beta_tm) + 1))\\\n",
    "                        + np.sum(np.sum(special.gammaln(alpha_ve) + alpha_ve * logm(beta_ve) + 1 ))\n",
    "\n",
    "            g['a_ve'] = a_ve\n",
    "            g['b_ve'] = b_ve\n",
    "            g['a_tm'] = a_tm\n",
    "            g['b_tm'] = b_tm\n",
    "\n",
    "            print()\n",
    "            print( g['Bound'], a_ve.flatten()[0], b_ve.flatten()[0], a_tm.flatten()[0], b_tm.flatten()[0])\n",
    "        if (e == EPOCH):\n",
    "            break;\n",
    "        L_t = np.exp(special.psi(alpha_tm)) * beta_tm\n",
    "        L_v = np.exp(special.psi(alpha_ve)) * beta_ve\n",
    "\n",
    "        Z = None\n",
    "        if( e> Update):\n",
    "            if(not tie_a_tm == 'clamp' ):\n",
    "                Z = (E_t / b_tm) - (logm(L_t) - logm(b_tm))\n",
    "                if(tie_a_tm == 'clamp'):\n",
    "                    a_tm = gnmf_solvebynewton(Z,a0=a_tm)\n",
    "                elif(tie_a_tm == 'rows'):\n",
    "                    a_tm = gnmf_solvebynewton(np.sum(Z,0)/W, a0=a_tm)\n",
    "                elif(tie_a_tm == 'cols'):\n",
    "                    a_tm = gnmf_solvebynewton(np.sum(Z,1)/I, a0=a_tm)\n",
    "                elif(tie_a_tm == 'tie_all'):\n",
    "                    #print(np.sum(Z)/(W * I))\n",
    "                    #print(a_tm)\n",
    "                    a_tm = gnmf_solvebynewton(np.sum(Z)/(W * I), a0=a_tm)\n",
    "\n",
    "            if(tie_b_tm == 'free'):\n",
    "                b_tm = E_t\n",
    "            elif(tie_b_tm == 'rows'):\n",
    "                b_tm = M.repmat(np.sum(a_tm * E_t,0)/np.sum(a_tm,0),W,1)\n",
    "            elif(tie_b_tm == 'cols'):\n",
    "                b_tm = M.repmat(np.sum(a_tm * E_t,1)/np.sum(a_tm,1),1,I)\n",
    "            elif(tie_b_tm == 'tie_all'):\n",
    "                b_tm = (np.sum(a_tm*E_t)/ np.sum(a_tm)) * np.ones([W,I])\n",
    "\n",
    "            if(not tie_a_ve == 'clamp' ):\n",
    "                Z = (E_v / b_ve) - (logm(L_v) - logm(b_ve))\n",
    "                if(tie_a_ve == 'clamp'):\n",
    "                    a_ve = gnmf_solvebynewton(Z,a_ve)\n",
    "                elif(tie_a_ve == 'rows'):\n",
    "                    a_ve = gnmf_solvebynewton(np.sum(Z,0)/I, a0=a_ve)\n",
    "                elif(tie_a_ve == 'cols'):\n",
    "                    a_ve = gnmf_solvebynewton(np.sum(Z,1)/K, a0=a_ve)\n",
    "                elif(tie_a_ve == 'tie_all'):\n",
    "                    a_ve = gnmf_solvebynewton(np.sum(Z)/(I * K), a0=a_ve)\n",
    "\n",
    "            if(tie_b_ve == 'free'):\n",
    "                b_ve = E_v\n",
    "            elif(tie_b_ve == 'rows'):\n",
    "                b_ve = M.repmat(np.sum(a_ve * E_v,0)/np.sum(a_ve,0),I,1)\n",
    "            elif(tie_b_tm == 'cols'):\n",
    "                b_ve = M.repmat(np.sum(a_ve * E_v,1)/np.sum(a_ve,1),1,K)\n",
    "            elif(tie_b_tm == 'tie_all'):\n",
    "                b_ve = (np.sum(a_ve*E_v)/ np.sum(a_ve)) * np.ones([I,K])\n",
    "    return g\n"
   ]
  },
  {
   "cell_type": "markdown",
   "metadata": {},
   "source": [
    "#### Read and Remove Twitter Accounts that has less than 2000 words in their tweets\n",
    "\n",
    "We have already collected tweets of random 900 followers of TRTWorld's twitter account. You can also find those Twitter API codes in this repo.\n",
    "\n",
    "Here we are reading each user's tweets from files and saving them into a list (tweetList) if the number of words in the file greater than 2000 words."
   ]
  },
  {
   "cell_type": "code",
   "execution_count": 5,
   "metadata": {
    "collapsed": false
   },
   "outputs": [
    {
     "name": "stdout",
     "output_type": "stream",
     "text": [
      "88\n",
      "88\n",
      "15692087\n"
     ]
    }
   ],
   "source": [
    "tweetsList = []\n",
    "userList = []\n",
    "\n",
    "for file in os.listdir(\"tweets\"):\n",
    "    path = \"tweets\\\\\" + file\n",
    "    f = open(path, 'r', encoding='utf-8')\n",
    "    fread = f.read()\n",
    "    if (len(fread.split()) > 2000):\n",
    "        tweetsList.append(fread)\n",
    "        userList.append(file[0:len(file)-4])\n",
    "    f.close()\n",
    "\n",
    "print(len(tweetsList))\n",
    "print(len(userList))\n",
    "print(userList[15])"
   ]
  },
  {
   "cell_type": "code",
   "execution_count": 39,
   "metadata": {
    "collapsed": false
   },
   "outputs": [],
   "source": [
    "#print(tweetsList[15])"
   ]
  },
  {
   "cell_type": "markdown",
   "metadata": {},
   "source": [
    "#### Remove URLs\n",
    "\n",
    "We have removed all urls which are starting with \"http://\" or \"https://. So we excluded all pictures, videos, gifs etc. from the text."
   ]
  },
  {
   "cell_type": "code",
   "execution_count": 6,
   "metadata": {
    "collapsed": false
   },
   "outputs": [],
   "source": [
    "def remove_urls(text):\n",
    "    text = re.sub(r\"(?:\\@|http?\\://)\\S+\", \"\", text)\n",
    "    text = re.sub(r\"(?:\\@|https?\\://)\\S+\", \"\", text)\n",
    "    return text\n",
    "\n",
    "def doc_rm_urls():\n",
    "    return [ remove_urls(tweets) for tweets in tweetsList]\n",
    "\n",
    "tweetsList = doc_rm_urls()\n",
    "\n",
    "#print(tweetsList[15])"
   ]
  },
  {
   "cell_type": "markdown",
   "metadata": {},
   "source": [
    "#### Tokenization\n",
    "Tokenization is basically process of splitting text into words, phrases or other meaningful elements called tokens. We words as our tokens. To better process the text and to create a dictionary and a corpus we tokenized and converted to lower case all the tweets. We used nltk library with regexp to tokenize. "
   ]
  },
  {
   "cell_type": "code",
   "execution_count": 7,
   "metadata": {
    "collapsed": false
   },
   "outputs": [],
   "source": [
    "# This returns a list of tokens / single words for each user\n",
    "def tokenize_tweet():\n",
    "    '''\n",
    "        Tokenizes the raw text of each document\n",
    "    '''\n",
    "    tokenizer = nltk.tokenize.RegexpTokenizer(r'\\w+')\n",
    "    return [ tokenizer.tokenize(t.lower()) for t in tweetsList]\n",
    "\n",
    "tweetsList = tokenize_tweet()\n",
    "\n",
    "#print(tweetsList[15])"
   ]
  },
  {
   "cell_type": "markdown",
   "metadata": {},
   "source": [
    "#### Stop words\n",
    "Stop words usually refer to the most common words in a language. So being common makes stopwords less effective and sometimes misleading while making decisions. Thus generally stop words are words which are filtered out. We used nltk library to obtain general English stop words, also we determined some words ourselves and also added one and two character words from tweets to stop words."
   ]
  },
  {
   "cell_type": "code",
   "execution_count": 8,
   "metadata": {
    "collapsed": false,
    "scrolled": true
   },
   "outputs": [],
   "source": [
    "# Remove stop words\n",
    "stoplist_tw=['amp','get','got','hey','hmm','hoo','hop','iep','let','ooo','par',\n",
    "            'pdt','pln','pst','wha','yep','yer','aest','didn','nzdt','via',\n",
    "            'one','com','new','like','great','make','top','awesome','best',\n",
    "            'good','wow','yes','say','yay','would','thanks','thank','going',\n",
    "            'new','use','should','could','best','really','see','want','nice',\n",
    "            'while','know']\n",
    "\n",
    "unigrams = [ t for tweets in tweetsList for t in tweets if len(t)==1]\n",
    "bigrams  = [ t for tweets in tweetsList for t in tweets if len(t)==2]\n",
    "\n",
    "stoplist  = set(nltk.corpus.stopwords.words(\"english\") + stoplist_tw + unigrams + bigrams)\n",
    "\n",
    "tweetsList = [[token for token in tweets if token not in stoplist]\n",
    "                for tweets in tweetsList]\n",
    "\n",
    "#print(tokenized_tweets[15])"
   ]
  },
  {
   "cell_type": "markdown",
   "metadata": {},
   "source": [
    "#### Remove non-English words from tweets\n",
    "We used nltk corpus to remove non-English words form tweets."
   ]
  },
  {
   "cell_type": "code",
   "execution_count": 9,
   "metadata": {
    "collapsed": false,
    "scrolled": true
   },
   "outputs": [],
   "source": [
    "# remove non-english words\n",
    "\n",
    "words = set(nltk.corpus.words.words())\n",
    "\n",
    "tweetsList = [[token for token in tweets if token in words or not token.isalpha()]\n",
    "                for tweets in tweetsList]\n",
    "\n",
    "#print(tweetsList[558])"
   ]
  },
  {
   "cell_type": "markdown",
   "metadata": {},
   "source": [
    "#### Remove non-English accounts\n",
    "It is an extension process to removing non-English words. After removing non-English words from tweets, we removed accounts from our corpus whose tweets are majorly not in English. We used a library called langid to detect English accounts."
   ]
  },
  {
   "cell_type": "code",
   "execution_count": 10,
   "metadata": {
    "collapsed": false
   },
   "outputs": [
    {
     "name": "stdout",
     "output_type": "stream",
     "text": [
      "88\n",
      "86\n"
     ]
    }
   ],
   "source": [
    "# Delete Accounts whose tweets are not majorly in English\n",
    "print(len(tweetsList))\n",
    "tweetsList2 = [tweets for tweets in tweetsList if langid.classify(' '.join(tweets))[0] == 'en']\n",
    "print(len(tweetsList2))"
   ]
  },
  {
   "cell_type": "markdown",
   "metadata": {},
   "source": [
    "#### Delete accounts whose number of left tokens are less than 200\n",
    "After all those preprocessing on tweets, we have removed lots of words from original tweets. Some of the accounts, which are possibly not majorly in English but still includes English words, effected more but still existed in the corpus. So to eliminate those misleading accounts from the corpus we deleted accounts whose number of left tokens are less than 200."
   ]
  },
  {
   "cell_type": "code",
   "execution_count": 11,
   "metadata": {
    "collapsed": false
   },
   "outputs": [
    {
     "name": "stdout",
     "output_type": "stream",
     "text": [
      "86\n",
      "86\n"
     ]
    }
   ],
   "source": [
    "# Delete Accounts whose length of tokenized tweets are less than 200\n",
    "print(len(tweetsList2))\n",
    "tweetsList2 = [tweets for tweets in tweetsList2 if len(tweets) > 200]\n",
    "print(len(tweetsList2))"
   ]
  },
  {
   "cell_type": "markdown",
   "metadata": {},
   "source": [
    "#### Remap the User IDs to tweets\n",
    "In the last two steps we have deleted some accounts. So we need to remap the user ids to the tweets. You can reach tweets from tweetsList2 and users from userList2."
   ]
  },
  {
   "cell_type": "code",
   "execution_count": 12,
   "metadata": {
    "collapsed": true
   },
   "outputs": [],
   "source": [
    "userList2 = []\n",
    "for i in range(len(tweetsList2)):\n",
    "    for j in range(i, len(tweetsList)):\n",
    "        if tweetsList2[i] == tweetsList[j]:\n",
    "            userList2.append(userList[j])\n",
    "            break"
   ]
  },
  {
   "cell_type": "markdown",
   "metadata": {},
   "source": [
    "#### Stemming\n",
    "For grammatical reasons, documents are going to use different forms of a word, such as organize, organizes, and organizing. Additionally, there are families of derivationally related words with similar meanings, such as democracy, democratic, and democratization. The goal of stemming is to reduce inflectional forms and sometimes derivationally related forms of a word to a common base form. nltk library has mainly 3 kinds of stemming tools for English: lancaster, porter and snowball. We chose Snowball stemmer because it uses a more developed algorithm then Porter Stemmer (Snowball is also called as Porter2) and less aggressive than Lancaster."
   ]
  },
  {
   "cell_type": "code",
   "execution_count": 13,
   "metadata": {
    "collapsed": false
   },
   "outputs": [],
   "source": [
    "# Porter Stemmer and Snowball Stemmer (Porter2) - We useed Snowball Stemmer\n",
    "# http://stackoverflow.com/questions/10554052/what-are-the-major-differences-and-benefits-of-porter-and-lancaster-stemming-alg\n",
    "\n",
    "#ps = nltk.stem.PorterStemmer()\n",
    "#print(ps.stem('I am going'))\n",
    "\n",
    "sno = nltk.stem.SnowballStemmer('english')\n",
    "\n",
    "tweetsList2 = [[sno.stem(token) for token in tweets]\n",
    "          for tweets in tweetsList2]"
   ]
  },
  {
   "cell_type": "code",
   "execution_count": 11,
   "metadata": {
    "collapsed": true
   },
   "outputs": [],
   "source": [
    "# Sort words in documents\n",
    "#for tweets in tokenized_tweets:\n",
    "#    tweets.sort()"
   ]
  },
  {
   "cell_type": "markdown",
   "metadata": {},
   "source": [
    "### Dictionary and Corpus\n",
    "\n",
    "To properly use the Twitter data that we have preprocessed, we need to put into a shape that will be understandable by Topic Modeling algorithms. Bag-of-words representation is perfect fit for those kind of algorithms. In bag-of-words we first created a dictionary which consists of all the words from our preprocessed twitter data as values and their ids as keys. Then we created our corpus. Each element of the corpus corresponds to one Twitter account. Each element consists tuples which includes dictionary id of words and the number of that words' occurrences in that account. We used a very useful python library called Gensim to create our dictionary and corpus."
   ]
  },
  {
   "cell_type": "code",
   "execution_count": 17,
   "metadata": {
    "collapsed": false
   },
   "outputs": [
    {
     "name": "stdout",
     "output_type": "stream",
     "text": [
      "25465\n",
      "86\n",
      "Dictionary(25465 unique tokens: ['unsung', '11k', '4000m', 'deject', 'n88em']...)\n"
     ]
    }
   ],
   "source": [
    "# Build a dictionary where for each document each word has its own id\n",
    "dictionary = corpora.Dictionary(tweetsList2)\n",
    "dictionary.compactify()\n",
    "\n",
    "print(len(dictionary))\n",
    "\n",
    "# Build the corpus: vectors with occurence of each word for each document\n",
    "# convert tokenized documents to vectors\n",
    "corpus = [dictionary.doc2bow(tweets) for tweets in tweetsList2]\n",
    "\n",
    "print(len(corpus))\n",
    "\n",
    "print(dictionary)"
   ]
  },
  {
   "cell_type": "markdown",
   "metadata": {},
   "source": [
    "#### Remove words that appears at most 3 times in the whole corpus\n",
    "This process removes some kind of outlier words (like non-English, meaningless or heavily degenerated words) from the corpus which are passed undetected from the former natural language processes."
   ]
  },
  {
   "cell_type": "code",
   "execution_count": 18,
   "metadata": {
    "collapsed": false
   },
   "outputs": [
    {
     "name": "stdout",
     "output_type": "stream",
     "text": [
      "Dictionary(8346 unique tokens: ['unsung', 'skew', 'empti', 'frank', 'adjust']...)\n"
     ]
    }
   ],
   "source": [
    "# Removing words that appears at most 5 times in the whole corpus\n",
    "\n",
    "dictCtr = np.zeros(len(dictionary))\n",
    "\n",
    "for c in corpus:\n",
    "    for tuples in c:\n",
    "        dictCtr[tuples[0]] = dictCtr[tuples[0]] + tuples[1]\n",
    "        \n",
    "badids = []\n",
    "for i in range(len(dictCtr)):\n",
    "    if dictCtr[i] < 6:\n",
    "        badids.append(i)\n",
    "        \n",
    "        \n",
    "dictionary.filter_tokens(bad_ids=badids)\n",
    "dictionary.compactify()\n",
    "\n",
    "corpus = [dictionary.doc2bow(tweets) for tweets in tweetsList2]\n",
    "\n",
    "print(dictionary)"
   ]
  },
  {
   "cell_type": "code",
   "execution_count": 19,
   "metadata": {
    "collapsed": false
   },
   "outputs": [
    {
     "name": "stdout",
     "output_type": "stream",
     "text": [
      "86\n"
     ]
    }
   ],
   "source": [
    "tweetList = []\n",
    "\n",
    "for c in corpus:\n",
    "    str = ''\n",
    "    for tokens in c:\n",
    "        str = str + ((dictionary[tokens[0]]+' ') * tokens[1])\n",
    "    tweetList.append(str)\n",
    "\n",
    "#print(tweetList[15])\n",
    "print(len(tweetList))\n",
    "# tweetList = [' '.join(tweets) for tweets in tokenized_tweets]"
   ]
  },
  {
   "cell_type": "markdown",
   "metadata": {},
   "source": [
    "## sklearn NMF - LDA"
   ]
  },
  {
   "cell_type": "markdown",
   "metadata": {},
   "source": [
    "### tfidfDense2 = tfidfDense*10000\n",
    "\n",
    "Sikinti cikmasinin temel sebebi gonderdigimiz matrislerin iclerindeki degerlerin cok kucuk olmasiymis. Gonderdiklerimizin degerlerini 1000 ciavrlarina ciakrinca calismaya basladi. "
   ]
  },
  {
   "cell_type": "code",
   "execution_count": 289,
   "metadata": {
    "collapsed": false,
    "scrolled": false
   },
   "outputs": [],
   "source": [
    "n_samples = len(tweetList)\n",
    "n_features = len(dictionary)\n",
    "n_topics = 6\n",
    "n_top_words = 7\n",
    "\n",
    "def print_top_words(model, feature_names, n_top_words):\n",
    "    for topic_idx, topic in enumerate(model.components_):\n",
    "        sm = sum(topic)\n",
    "        print(\"Topic #%d:\" % topic_idx)\n",
    "        for i in topic.argsort()[:-n_top_words - 1:-1]:\n",
    "            print(\"(%s, %lf)  \" %(feature_names[i], topic[i]/sm), end='')\n",
    "        print()\n",
    "    print()\n",
    "    \n",
    "def print_top_words2(H, feature_names, n_top_words):\n",
    "    for topic_idx, topic in enumerate(H):\n",
    "        sm = sum(topic)\n",
    "        print(\"Topic #%d:\" % topic_idx)\n",
    "        for i in topic.argsort()[:-n_top_words - 1:-1]:\n",
    "            print(\"(%s, %lf)  \" %(feature_names[i], topic[i]/sm), end='')\n",
    "        print()\n",
    "    print()"
   ]
  },
  {
   "cell_type": "code",
   "execution_count": 290,
   "metadata": {
    "collapsed": false
   },
   "outputs": [
    {
     "name": "stdout",
     "output_type": "stream",
     "text": [
      "Extracting tf-idf features for NMF...\n",
      "done in 0.670s.\n"
     ]
    }
   ],
   "source": [
    "# Use tf-idf features for NMF.\n",
    "print(\"Extracting tf-idf features for NMF...\")\n",
    "\n",
    "tfidf_vectorizer = TfidfVectorizer(max_features=n_features)\n",
    "t0 = time()\n",
    "tfidf = tfidf_vectorizer.fit_transform(tweetList)\n",
    "print(\"done in %0.3fs.\" % (time() - t0))"
   ]
  },
  {
   "cell_type": "markdown",
   "metadata": {},
   "source": [
    "tfidf in 10000 ile carpilmisina KLBNMF uyguluyoruz ve ciktilari klbnmf te tutuyoruz"
   ]
  },
  {
   "cell_type": "code",
   "execution_count": 291,
   "metadata": {
    "collapsed": false
   },
   "outputs": [
    {
     "name": "stdout",
     "output_type": "stream",
     "text": [
      "*\n",
      "-52888724.7026 1.0 8.0 1.0 1.0\n",
      "**************************************************\n",
      "-47799492.8031 0.128607479068 7.99378120922 0.129599021311 0.477578430219\n",
      "**************************************************\n",
      "-47799033.8459 0.127867756293 7.99347466748 0.127726400684 0.47759115389\n",
      "**************************************************\n",
      "-47799004.4933 0.127738309372 7.99320331253 0.127735011824 0.47759112026\n",
      "*************************************************\n",
      "-47798998.8332 0.127713887583 7.99297689383 0.127736920318 0.477590729769\n"
     ]
    }
   ],
   "source": [
    "tfidfDense = tfidf.todense()\n",
    "tfidfDense2 = tfidfDense*10000\n",
    "#idx = np.where(tfidfDense2>100)\n",
    "#print(len(idx[0]))\n",
    "\n",
    "W = tfidf.shape[0]\n",
    "K = tfidf.shape[1]\n",
    "I = 6\n",
    "\n",
    "a_tm = 1 * np.ones([W,I])\n",
    "b_tm = np.ones([W,I])\n",
    "a_ve = np.ones([I,K])\n",
    "b_ve = 8 * np.ones([I,K])\n",
    "\n",
    "#T = np.random.gamma(a_tm,b_tm)\n",
    "#V = np.random.gamma(a_ve,b_ve)\n",
    "\n",
    "#x = np.random.poisson(T.dot(V))\n",
    "\n",
    "#idx = np.where(x>100)\n",
    "#print(len(idx[0]))\n",
    "\n",
    "klbnmf = gnmf_vb_poisson_mult_fast(np.asarray(tfidfDense2),a_tm,b_tm,a_ve,b_ve,\n",
    "                                EPOCH=2000,\n",
    "                                Update =10,\n",
    "                                tie_a_ve='tie_all',\n",
    "                                tie_b_ve='tie_all',\n",
    "                                tie_a_tm='tie_all',\n",
    "                                tie_b_tm='tie_all')"
   ]
  },
  {
   "cell_type": "markdown",
   "metadata": {},
   "source": [
    "Burasi normal tfidf e NMF uygulayarak sonuc almaca"
   ]
  },
  {
   "cell_type": "code",
   "execution_count": 292,
   "metadata": {
    "collapsed": false
   },
   "outputs": [
    {
     "name": "stdout",
     "output_type": "stream",
     "text": [
      "Fitting the NMF model with tf-idf features, n_samples=86 and n_features=8346...\n",
      "done in 0.233s.\n",
      "\n",
      "Topics in NMF model:\n",
      "Topic #0:\n",
      "(work, 0.008980)  (time, 0.008375)  (day, 0.007578)  (today, 0.007094)  (love, 0.006763)  (look, 0.006725)  (learn, 0.005833)  \n",
      "Topic #1:\n",
      "(learn, 0.126533)  (data, 0.091379)  (machin, 0.072489)  (deep, 0.050436)  (python, 0.049417)  (neural, 0.031474)  (2010, 0.027980)  \n",
      "Topic #2:\n",
      "(robot, 0.312704)  (raspberri, 0.086562)  (video, 0.073137)  (drone, 0.038470)  (kit, 0.034951)  (moss, 0.034431)  (build, 0.031318)  \n",
      "Topic #3:\n",
      "(3dprint, 0.416640)  (print, 0.167383)  (3dthursday, 0.050093)  (3dprinter, 0.043315)  (printer, 0.041812)  (lam2017, 0.027934)  (mk2, 0.027571)  \n",
      "Topic #4:\n",
      "(stem, 0.200144)  (scienc, 0.083217)  (conasta64, 0.063422)  (learn, 0.059154)  (youth, 0.045197)  (educ, 0.037513)  (today, 0.032519)  \n",
      "Topic #5:\n",
      "(analyt, 0.151379)  (data, 0.138156)  (apach, 0.040678)  (busi, 0.040396)  (strategi, 0.038951)  (cloud, 0.029835)  (latest, 0.028192)  \n",
      "\n"
     ]
    },
    {
     "data": {
      "text/html": [
       "\n",
       "<link rel=\"stylesheet\" type=\"text/css\" href=\"https://cdn.rawgit.com/bmabey/pyLDAvis/files/ldavis.v1.0.0.css\">\n",
       "\n",
       "\n",
       "<div id=\"ldavis_el1049221179059801769690105291\"></div>\n",
       "<script type=\"text/javascript\">\n",
       "\n",
       "var ldavis_el1049221179059801769690105291_data = {\"token.table\": {\"Topic\": [2, 1, 6, 6, 6, 5, 1, 3, 4, 2, 1, 2, 4, 4, 2, 4, 1, 1, 2, 3, 3, 3, 1, 2, 1, 2, 4, 1, 3, 1, 4, 5, 4, 4, 1, 1, 5, 2, 1, 5, 1, 2, 4, 2, 1, 2, 1, 3, 1, 2, 5, 5, 5, 1, 3, 1, 1, 4, 4, 6, 1, 2, 4, 1, 1, 2, 1, 5, 6, 4, 1, 3, 3, 1, 4, 2, 1, 3, 1, 1, 5, 1, 5, 1, 5, 4, 1, 1, 5, 6, 6, 5, 6, 1, 4, 1, 3, 4, 1, 1, 1, 3, 5, 5, 1, 5, 1, 1, 5, 2, 1, 1, 1, 3, 1, 1, 3, 3, 3, 1, 2, 4, 1, 3, 3, 3, 2, 1, 4, 5, 5, 1, 5, 1, 2, 1, 4, 2, 1, 1, 3, 1, 6, 1, 1, 4, 6, 2, 4, 1, 2, 4, 5, 5, 1, 1, 1, 1, 2, 3, 1, 1, 1, 1, 4, 1, 1, 4, 6, 1, 2, 3, 3, 1, 1, 4, 1, 2, 1, 3, 6, 2, 5, 1, 2, 1, 3, 1, 1, 1, 2, 4, 3, 1, 2, 1, 6, 6, 1, 3, 6, 2, 1, 3, 6, 1, 2, 2, 1, 3, 1, 2, 1, 4, 5, 2, 1, 4, 1, 2, 1, 1, 3, 3, 3, 2, 1, 2, 1, 5, 1, 2, 5, 1, 2, 3, 1, 5, 1, 1, 4, 1, 2, 1, 3, 5, 1, 4, 1, 5, 1, 4, 3, 1, 1, 4, 1, 1, 2, 4, 4, 1, 5, 1, 1, 3, 1, 4, 1, 1, 2, 1, 5, 2, 1, 2, 1, 1, 1, 4, 1, 3, 1, 1, 1, 1, 3, 2, 1, 1, 2, 1, 5], \"Term\": [\"2010\", \"3dprint\", \"3dprint\", \"3dprinter\", \"3dthursday\", \"actuanc2016\", \"ad\", \"ad\", \"agil\", \"algorithm\", \"analysi\", \"analysi\", \"analyst\", \"analyt\", \"apach\", \"apach\", \"art\", \"artifici\", \"artifici\", \"artifici\", \"assembl\", \"autonom\", \"back\", \"bibliographi\", \"big\", \"big\", \"big\", \"build\", \"build\", \"busi\", \"busi\", \"canada\", \"career\", \"certif\", \"check\", \"class\", \"class\", \"classif\", \"classroom\", \"classroom\", \"cloud\", \"cloud\", \"cloud\", \"cluster\", \"code\", \"code\", \"come\", \"compat\", \"comput\", \"comput\", \"comput\", \"conasta64\", \"conasta65\", \"control\", \"control\", \"cool\", \"custom\", \"custom\", \"daili\", \"daili\", \"data\", \"data\", \"data\", \"day\", \"deep\", \"deep\", \"design\", \"design\", \"design\", \"desk\", \"develop\", \"develop\", \"dexter\", \"digit\", \"digit\", \"distribut\", \"drone\", \"drone\", \"dude\", \"educ\", \"educ\", \"engag\", \"engag\", \"engin\", \"engin\", \"enterpris\", \"even\", \"excit\", \"excit\", \"extrud\", \"fab13\", \"fellowship\", \"filament\", \"find\", \"find\", \"first\", \"first\", \"flume\", \"free\", \"fun\", \"futur\", \"futur\", \"futur\", \"g4c14\", \"game\", \"game\", \"get\", \"grade\", \"grade\", \"gradient\", \"happi\", \"hear\", \"help\", \"hm17\", \"hope\", \"human\", \"human\", \"humanoid\", \"icra2016\", \"imag\", \"imag\", \"impala\", \"industri\", \"industri\", \"industrie40\", \"industry40\", \"infer\", \"innov\", \"innov\", \"innov\", \"innovation150\", \"inspir\", \"inspir\", \"interest\", \"interest\", \"join\", \"join\", \"kdd2014\", \"kind\", \"kit\", \"kit\", \"lab\", \"lam2017\", \"last\", \"latest\", \"latest\", \"latest\", \"latex\", \"leadership\", \"learn\", \"learn\", \"learn\", \"learn\", \"literaci\", \"live\", \"look\", \"love\", \"machin\", \"machin\", \"machin\", \"made\", \"make\", \"maker\", \"manag\", \"manag\", \"mani\", \"market\", \"market\", \"mk2\", \"model\", \"model\", \"modular\", \"moss\", \"much\", \"need\", \"need\", \"neural\", \"neural\", \"next\", \"nous\", \"nozzl\", \"optim\", \"outreach\", \"paper\", \"paper\", \"peopl\", \"pepper\", \"play\", \"pleas\", \"post\", \"post\", \"post\", \"pour\", \"power\", \"predict\", \"print\", \"print\", \"printabl\", \"printer\", \"printer\", \"printer\", \"probabilist\", \"project\", \"project\", \"prusai3\", \"python\", \"python\", \"ran\", \"raspberri\", \"raspberri\", \"read\", \"read\", \"regist\", \"regist\", \"regist\", \"reinvent\", \"report\", \"report\", \"research\", \"research\", \"right\", \"robot\", \"robot\", \"robotlaunch2015\", \"roundup\", \"scala\", \"scale\", \"scale\", \"school\", \"school\", \"scienc\", \"scienc\", \"scienc\", \"search\", \"search\", \"shanghai\", \"show\", \"smp2017\", \"someth\", \"sorri\", \"spark\", \"start\", \"statist\", \"stem\", \"stem\", \"stem\", \"still\", \"strategi\", \"student\", \"student\", \"success\", \"success\", \"sur\", \"sure\", \"tableau\", \"tableau\", \"take\", \"talk\", \"talk\", \"td3pi\", \"tdf2015\", \"teach\", \"teach\", \"teacher\", \"tech\", \"tech\", \"technolog\", \"technolog\", \"think\", \"time\", \"time\", \"today\", \"today\", \"topic\", \"train\", \"train\", \"tri\", \"trump\", \"valu\", \"valu\", \"video\", \"video\", \"wait\", \"watch\", \"way\", \"week\", \"week\", \"weigh\", \"well\", \"work\", \"work\", \"year\", \"youth\"], \"Freq\": [0.9668924794925025, 0.03691099497525699, 0.9965968643319387, 1.0331344961945594, 0.9384887145708695, 1.183184011703772, 0.6356003148628993, 0.6356003148628993, 0.7697570179764169, 0.710047792060179, 0.4218127106789086, 0.8436254213578172, 1.9681476064605254, 0.9729720520588463, 0.3333513733681353, 0.6667027467362706, 0.8385922049637227, 0.5264989643678983, 0.5264989643678983, 0.5264989643678983, 1.0002207109513512, 0.7113529477873277, 1.0626032468439472, 1.4903844810161744, 0.4400160686935871, 0.4400160686935871, 0.2933440457957247, 0.5917653496450638, 0.35505920978703825, 0.18226713124791538, 0.7290685249916615, 0.9404769312289327, 0.6068286071042464, 0.9937344028332232, 1.008268665700506, 0.7546591915874612, 0.3773295957937306, 1.6217281125947227, 0.576949070451441, 0.576949070451441, 0.1865978179641793, 0.3731956359283586, 0.5597934538925379, 1.028355484532505, 0.8247766728024785, 0.20619416820061962, 1.0100576055471764, 0.6419923905974042, 0.6655555057448714, 0.3327777528724357, 0.3327777528724357, 0.954721640226755, 1.0937491331990958, 0.365768553299683, 0.365768553299683, 0.9966515057061677, 0.43390016651816415, 0.43390016651816415, 0.37433168037682796, 0.37433168037682796, 0.06678359690443626, 0.46748517833105385, 0.46748517833105385, 0.967540094490853, 0.11944161182004825, 0.8360912827403378, 0.6025178178047703, 0.15062945445119258, 0.30125890890238516, 1.1414774888776835, 0.5003332790313615, 0.5003332790313615, 1.1092013764538406, 0.5642318705437637, 0.28211593527188183, 0.7605062280626623, 0.20114612546879676, 0.804584501875187, 1.161923894339035, 0.41475810764597565, 0.41475810764597565, 0.510117575471817, 0.510117575471817, 0.6047882975745978, 0.3023941487872989, 0.7204842305275724, 1.1366418635954552, 0.7329406805345525, 0.24431356017818417, 1.2103211216270129, 1.2998190639817144, 1.8881944280811442, 1.2059375532989178, 0.6193810720288496, 0.20646035734294987, 0.7709248351088, 0.15418496702176002, 1.5774418308228477, 0.8598194737108499, 1.063892277128024, 0.43760701249967393, 0.21880350624983697, 0.21880350624983697, 0.9053049014336827, 0.7461655081093035, 0.24872183603643452, 0.821405777693285, 0.7786329582834396, 0.7786329582834396, 1.997530602936935, 1.0769372577470635, 0.7922610188366257, 0.9160968040276433, 1.1600950175940978, 0.8257465491030864, 0.4446051470452335, 0.4446051470452335, 1.0130382743199788, 1.8449436683995806, 0.6100271013229813, 0.6100271013229813, 0.9157792134686658, 0.39903582614142835, 0.39903582614142835, 1.1811903483485755, 0.7700592248699071, 0.7096838735799466, 0.5224036148393633, 0.26120180741968163, 0.26120180741968163, 1.1326143506597612, 0.8388442781417745, 0.27961475938059155, 0.4445982007213944, 0.5927976009618592, 0.7011879110975573, 0.23372930369918576, 0.9465978920538649, 1.253172797354155, 0.32976530425102063, 0.6595306085020413, 1.15006852505936, 1.1219512678346406, 1.1263730965312226, 0.19767229410442266, 0.593016882313268, 0.19767229410442266, 1.714143686027342, 0.8883763345701526, 0.21804849392452938, 0.5918459120808655, 0.09344935453908401, 0.12459913938544535, 1.2761408717355875, 0.8178259776178458, 0.978453642272301, 1.018363624376137, 0.07901878417584575, 0.8692066259343032, 0.07901878417584575, 0.9113754742982849, 0.9615516690549044, 0.9118750493056107, 0.3882925625367612, 0.7765851250735224, 0.9184982912031582, 0.2980222083662511, 0.5960444167325022, 1.057023254991941, 0.31138287492545585, 0.6227657498509117, 0.6674356495218803, 1.131395853158999, 1.031379798826648, 0.8715140891276993, 0.14525234818794988, 0.19385568956250207, 0.9692784478125103, 1.0832037930463518, 1.4846676162779762, 0.8109884657961125, 0.5568203566208285, 0.9274315956231001, 0.3876286232015076, 0.7752572464030152, 0.9342008598103798, 1.0143718664144272, 0.8185730742577937, 0.9253287870310802, 0.5520180381238456, 0.2760090190619228, 0.1380045095309614, 0.9819064677459058, 0.9990906129079441, 0.9861328984391083, 0.1600759365420928, 0.8804176509815104, 1.2660000329583028, 0.2406642696843525, 0.2406642696843525, 0.7219928090530575, 1.0583670600597925, 0.8352724298217452, 0.2088181074554363, 0.7036557297980028, 0.123915623237343, 0.8674093626614009, 1.4994314693229953, 0.18702014993343663, 0.8415906747004649, 0.7712546844424446, 0.19281367111061115, 0.3696491913457044, 0.3696491913457044, 0.3696491913457044, 1.0858948067927914, 0.6002139550690407, 0.6002139550690407, 0.2960649458337042, 0.5921298916674084, 1.098744852517737, 0.02975413542958723, 0.9521323337467914, 1.056226023230968, 0.822662595240032, 1.06128447325172, 0.5946310493440372, 0.5946310493440372, 0.5536240374560766, 0.5536240374560766, 0.23624362777054533, 0.11812181388527267, 0.5906090694263633, 0.4799996676248255, 0.4799996676248255, 1.5147046685428869, 1.010436825466969, 1.0633304617240977, 0.8288810793598473, 1.1971854393206633, 0.8027754342884105, 1.0378924301332366, 1.1169245382296227, 0.06454250384751, 0.06454250384751, 0.8390525500176299, 1.0387636858503038, 0.9820570479118228, 0.6806097785980666, 0.6806097785980666, 0.42545019925353655, 0.42545019925353655, 1.6533945515480584, 0.9491086739293256, 0.5864622609378655, 0.5864622609378655, 1.0101602465569182, 0.47822612216038446, 0.47822612216038446, 1.050400319559391, 0.6308810464826913, 0.49934107174499337, 0.49934107174499337, 1.1265696038698736, 0.6837894180967693, 0.22792980603225643, 0.6416073519231749, 0.32080367596158743, 0.9140132382082551, 0.957672733442968, 0.0957672733442968, 0.7432980225182986, 0.18582450562957464, 0.9144549965979003, 0.29911353412316166, 0.5982270682463233, 0.945449821610279, 0.9980824597951513, 0.3335166484875332, 0.6670332969750664, 0.35290993136181487, 0.7058198627236297, 0.7619023753188439, 1.1085912646564617, 0.9653247551378326, 0.8638250267814608, 0.2159562566953652, 1.2598026155542579, 0.9801156210591964, 0.8669063550484517, 0.08669063550484517, 0.9933952874504519, 0.9365902046673951]}, \"tinfo\": {\"loglift\": [30.0, 29.0, 28.0, 27.0, 26.0, 25.0, 24.0, 23.0, 22.0, 21.0, 20.0, 19.0, 18.0, 17.0, 16.0, 15.0, 14.0, 13.0, 12.0, 11.0, 10.0, 9.0, 8.0, 7.0, 6.0, 5.0, 4.0, 3.0, 2.0, 1.0, 0.3472, 0.3472, 0.3472, 0.3472, 0.3472, 0.3472, 0.3472, 0.3472, 0.3472, 0.3472, 0.3472, 0.3472, 0.3472, 0.3472, 0.3472, 0.3472, 0.3472, 0.3472, 0.3472, 0.3472, 0.3472, 0.3472, 0.3472, 0.3472, 0.3472, 0.3472, 0.3472, 0.3472, 0.3472, 0.3472, 0.3472, 0.3472, 0.3472, 0.3472, 0.3472, 0.3472, 0.3472, 0.3472, 0.3472, 0.3472, 0.3472, 0.3472, 0.3472, 0.3472, 0.3472, 0.3472, 0.3472, 0.3472, 0.3472, 0.3472, 0.3472, 0.3472, 0.3423, 0.3472, 0.3472, 0.3472, 0.3472, 0.3472, 0.3472, 0.3472, 0.339, 0.322, 0.3226, 0.3017, 0.3241, 0.292, 0.2764, 0.2467, 0.298, 0.2752, 0.2852, 0.2893, 0.235, 0.0802, 0.1625, 0.1866, 0.2029, -0.1728, -1.2083, -0.1931, 0.0681, -0.1727, 2.4086, 2.4086, 2.4086, 2.4086, 2.4086, 2.4086, 2.4086, 2.4086, 2.4086, 2.4086, 2.4086, 2.4086, 2.4086, 2.4086, 2.4086, 2.4086, 2.4086, 2.4086, 2.4051, 2.3922, 2.382, 2.3739, 2.3461, 2.3189, 2.3093, 2.3092, 2.3056, 2.2947, 2.2928, 2.2904, 2.2424, 2.2601, 2.2233, 2.1659, 2.0576, 1.8686, 2.0956, 1.8857, 1.6126, 2.1914, 2.1052, 2.1405, 1.8764, 1.6163, 1.7836, 1.9926, 1.4666, 1.6755, 1.8624, 1.2006, 1.2358, 1.2078, 0.9961, 1.8957, 0.8855, 0.0488, 2.7731, 2.7731, 2.7731, 2.7731, 2.7731, 2.7731, 2.7731, 2.7731, 2.7731, 2.7731, 2.7731, 2.7731, 2.7731, 2.7731, 2.7731, 2.7731, 2.7731, 2.7731, 2.7493, 2.734, 2.7275, 2.6134, 2.6125, 2.6018, 2.596, 2.5882, 2.5432, 2.5118, 2.3819, 2.3615, 2.2484, 2.2606, 2.1022, 2.036, 1.8071, 1.934, 1.6217, 1.896, 1.8848, 0.3621, 0.9936, 1.2348, 2.7814, 2.7814, 2.7814, 2.7814, 2.7814, 2.7814, 2.7814, 2.7814, 2.7814, 2.7814, 2.7814, 2.7814, 2.7549, 2.7426, 2.6959, 2.6783, 2.6565, 2.6203, 2.5051, 2.4935, 2.4896, 2.4783, 2.4777, 2.4689, 2.4224, 2.411, 2.399, 2.3625, 2.3604, 2.3333, 2.2139, 2.2149, 2.026, 2.207, 2.2416, 2.2574, 2.2874, 2.2465, 2.0586, 1.97, 1.8922, 1.8158, 1.5239, 1.3209, 0.3097, 1.4039, 1.8132, 1.4498, 3.2142, 3.2142, 3.2142, 3.2142, 3.2142, 3.2142, 3.2142, 3.2142, 3.2142, 3.2142, 3.2142, 3.2142, 3.2142, 3.2142, 3.185, 3.144, 3.0636, 3.0556, 2.9938, 2.8835, 2.7825, 2.7257, 2.5855, 2.5704, 2.5485, 2.4399, 2.3972, 2.3462, 2.303, 2.271, 2.1699, 2.1487, 2.1049, 2.0087, 1.6028, 1.1082, 1.8567, 1.4022, 1.7848, 1.9759, 1.6727, 1.2492, 3.2488, 3.2488, 3.2488, 3.2488, 3.2488, 3.2488, 3.2488, 3.2488, 3.23, 3.2092, 3.1995, 3.1959, 3.1951, 3.1864, 3.1761, 3.0921, 3.0472, 3.0238, 2.8547, 2.8364, 2.8059, 2.4554, 1.8305, 1.6231, 1.6144, 0.8754, 0.7515, 0.4374, 0.219, -0.4421, -1.0858], \"Category\": [\"Default\", \"Default\", \"Default\", \"Default\", \"Default\", \"Default\", \"Default\", \"Default\", \"Default\", \"Default\", \"Default\", \"Default\", \"Default\", \"Default\", \"Default\", \"Default\", \"Default\", \"Default\", \"Default\", \"Default\", \"Default\", \"Default\", \"Default\", \"Default\", \"Default\", \"Default\", \"Default\", \"Default\", \"Default\", \"Default\", \"Topic1\", \"Topic1\", \"Topic1\", \"Topic1\", \"Topic1\", \"Topic1\", \"Topic1\", \"Topic1\", \"Topic1\", \"Topic1\", \"Topic1\", \"Topic1\", \"Topic1\", \"Topic1\", \"Topic1\", \"Topic1\", \"Topic1\", \"Topic1\", \"Topic1\", \"Topic1\", \"Topic1\", \"Topic1\", \"Topic1\", \"Topic1\", \"Topic1\", \"Topic1\", \"Topic1\", \"Topic1\", \"Topic1\", \"Topic1\", \"Topic1\", \"Topic1\", \"Topic1\", \"Topic1\", \"Topic1\", \"Topic1\", \"Topic1\", \"Topic1\", \"Topic1\", \"Topic1\", \"Topic1\", \"Topic1\", \"Topic1\", \"Topic1\", \"Topic1\", \"Topic1\", \"Topic1\", \"Topic1\", \"Topic1\", \"Topic1\", \"Topic1\", \"Topic1\", \"Topic1\", \"Topic1\", \"Topic1\", \"Topic1\", \"Topic1\", \"Topic1\", \"Topic1\", \"Topic1\", \"Topic1\", \"Topic1\", \"Topic1\", \"Topic1\", \"Topic1\", \"Topic1\", \"Topic1\", \"Topic1\", \"Topic1\", \"Topic1\", \"Topic1\", \"Topic1\", \"Topic1\", \"Topic1\", \"Topic1\", \"Topic1\", \"Topic1\", \"Topic1\", \"Topic1\", \"Topic1\", \"Topic1\", \"Topic1\", \"Topic2\", \"Topic2\", \"Topic2\", \"Topic2\", \"Topic2\", \"Topic2\", \"Topic2\", \"Topic2\", \"Topic2\", \"Topic2\", \"Topic2\", \"Topic2\", \"Topic2\", \"Topic2\", \"Topic2\", \"Topic2\", \"Topic2\", \"Topic2\", \"Topic2\", \"Topic2\", \"Topic2\", \"Topic2\", \"Topic2\", \"Topic2\", \"Topic2\", \"Topic2\", \"Topic2\", \"Topic2\", \"Topic2\", \"Topic2\", \"Topic2\", \"Topic2\", \"Topic2\", \"Topic2\", \"Topic2\", \"Topic2\", \"Topic2\", \"Topic2\", \"Topic2\", \"Topic2\", \"Topic2\", \"Topic2\", \"Topic2\", \"Topic2\", \"Topic2\", \"Topic2\", \"Topic2\", \"Topic2\", \"Topic2\", \"Topic2\", \"Topic2\", \"Topic2\", \"Topic2\", \"Topic2\", \"Topic2\", \"Topic2\", \"Topic3\", \"Topic3\", \"Topic3\", \"Topic3\", \"Topic3\", \"Topic3\", \"Topic3\", \"Topic3\", \"Topic3\", \"Topic3\", \"Topic3\", \"Topic3\", \"Topic3\", \"Topic3\", \"Topic3\", \"Topic3\", \"Topic3\", \"Topic3\", \"Topic3\", \"Topic3\", \"Topic3\", \"Topic3\", \"Topic3\", \"Topic3\", \"Topic3\", \"Topic3\", \"Topic3\", \"Topic3\", \"Topic3\", \"Topic3\", \"Topic3\", \"Topic3\", \"Topic3\", \"Topic3\", \"Topic3\", \"Topic3\", \"Topic3\", \"Topic3\", \"Topic3\", \"Topic3\", \"Topic3\", \"Topic3\", \"Topic4\", \"Topic4\", \"Topic4\", \"Topic4\", \"Topic4\", \"Topic4\", \"Topic4\", \"Topic4\", \"Topic4\", \"Topic4\", \"Topic4\", \"Topic4\", \"Topic4\", \"Topic4\", \"Topic4\", \"Topic4\", \"Topic4\", \"Topic4\", \"Topic4\", \"Topic4\", \"Topic4\", \"Topic4\", \"Topic4\", \"Topic4\", \"Topic4\", \"Topic4\", \"Topic4\", \"Topic4\", \"Topic4\", \"Topic4\", \"Topic4\", \"Topic4\", \"Topic4\", \"Topic4\", \"Topic4\", \"Topic4\", \"Topic4\", \"Topic4\", \"Topic4\", \"Topic4\", \"Topic4\", \"Topic4\", \"Topic4\", \"Topic4\", \"Topic4\", \"Topic4\", \"Topic4\", \"Topic4\", \"Topic5\", \"Topic5\", \"Topic5\", \"Topic5\", \"Topic5\", \"Topic5\", \"Topic5\", \"Topic5\", \"Topic5\", \"Topic5\", \"Topic5\", \"Topic5\", \"Topic5\", \"Topic5\", \"Topic5\", \"Topic5\", \"Topic5\", \"Topic5\", \"Topic5\", \"Topic5\", \"Topic5\", \"Topic5\", \"Topic5\", \"Topic5\", \"Topic5\", \"Topic5\", \"Topic5\", \"Topic5\", \"Topic5\", \"Topic5\", \"Topic5\", \"Topic5\", \"Topic5\", \"Topic5\", \"Topic5\", \"Topic5\", \"Topic5\", \"Topic5\", \"Topic5\", \"Topic5\", \"Topic5\", \"Topic5\", \"Topic6\", \"Topic6\", \"Topic6\", \"Topic6\", \"Topic6\", \"Topic6\", \"Topic6\", \"Topic6\", \"Topic6\", \"Topic6\", \"Topic6\", \"Topic6\", \"Topic6\", \"Topic6\", \"Topic6\", \"Topic6\", \"Topic6\", \"Topic6\", \"Topic6\", \"Topic6\", \"Topic6\", \"Topic6\", \"Topic6\", \"Topic6\", \"Topic6\", \"Topic6\", \"Topic6\", \"Topic6\", \"Topic6\", \"Topic6\", \"Topic6\"], \"Term\": [\"robot\", \"3dprint\", \"data\", \"learn\", \"stem\", \"analyt\", \"print\", \"video\", \"raspberri\", \"machin\", \"scienc\", \"today\", \"deep\", \"python\", \"build\", \"kit\", \"busi\", \"design\", \"conasta64\", \"interest\", \"drone\", \"apach\", \"educ\", \"neural\", \"strategi\", \"printer\", \"talk\", \"paper\", \"cloud\", \"big\", \"straight\", \"kitchen\", \"intent\", \"interpret\", \"inventor\", \"invest\", \"investig\", \"involv\", \"iron\", \"island\", \"iste2016\", \"jack\", \"joke\", \"journey\", \"joy\", \"judg\", \"killer\", \"kind\", \"knife\", \"lab\", \"labor\", \"interfac\", \"intens\", \"ladi\", \"instruct\", \"humor\", \"hurrican\", \"ice\", \"ideal\", \"immedi\", \"love\", \"come\", \"maker\", \"tri\", \"make\", \"well\", \"year\", \"cool\", \"trump\", \"much\", \"still\", \"back\", \"fun\", \"right\", \"watch\", \"last\", \"mani\", \"pleas\", \"sure\", \"power\", \"show\", \"start\", \"made\", \"even\", \"sorri\", \"play\", \"get\", \"hope\", \"someth\", \"art\", \"happi\", \"check\", \"peopl\", \"look\", \"next\", \"day\", \"time\", \"work\", \"way\", \"think\", \"help\", \"take\", \"need\", \"today\", \"first\", \"project\", \"week\", \"build\", \"learn\", \"post\", \"read\", \"design\", \"scalabl\", \"latent\", \"2010\", \"weigh\", \"scala\", \"retriev\", \"regress\", \"recurr\", \"probabilist\", \"bootstrap\", \"classif\", \"0mi\", \"stochast\", \"kdd2014\", \"infer\", \"convex\", \"hcomp2013\", \"gradient\", \"unsupervis\", \"bibliographi\", \"gan\", \"convolut\", \"docker\", \"cluster\", \"predict\", \"python\", \"neural\", \"latex\", \"deep\", \"ran\", \"machin\", \"statist\", \"algorithm\", \"optim\", \"paper\", \"learn\", \"analysi\", \"interest\", \"data\", \"reinvent\", \"distribut\", \"topic\", \"model\", \"talk\", \"research\", \"imag\", \"big\", \"train\", \"search\", \"post\", \"apach\", \"cloud\", \"read\", \"scale\", \"code\", \"work\", \"iste2015\", \"gopigo2\", \"moss\", \"neuron\", \"nous\", \"imts2016\", \"icra2016\", \"humanoid\", \"hm17\", \"robotlaunch2015\", \"industry40\", \"sandbox15\", \"roundup\", \"industrie40\", \"erf2017\", \"automatica2016\", \"dexter\", \"shanghai\", \"pepper\", \"sur\", \"robot\", \"modular\", \"pour\", \"ev3\", \"compat\", \"raspberri\", \"drone\", \"assembl\", \"autonom\", \"video\", \"kit\", \"ad\", \"industri\", \"control\", \"build\", \"human\", \"futur\", \"develop\", \"artifici\", \"stem\", \"first\", \"tech\", \"roi\", \"tucon2013\", \"flume\", \"analyt\", \"inspire16\", \"desk\", \"agil\", \"analyst\", \"td3pi\", \"kudu\", \"hadoop10\", \"edw13\", \"strategi\", \"tdf2016\", \"tdf2015\", \"2017careerwish\", \"enterpris\", \"impala\", \"adopt\", \"busi\", \"hive\", \"acceler\", \"manag\", \"career\", \"valu\", \"apach\", \"certif\", \"boston\", \"report\", \"expert\", \"cloud\", \"latest\", \"data\", \"market\", \"success\", \"tableau\", \"leadership\", \"spark\", \"daili\", \"regist\", \"technolog\", \"digit\", \"find\", \"big\", \"learn\", \"join\", \"custom\", \"innov\", \"vex\", \"fellowship\", \"g4c14\", \"indigen\", \"smp2017\", \"actua2015\", \"actuanc2016\", \"asdc16\", \"conasta64\", \"conasta65\", \"innovation150\", \"nc2017\", \"outreach\", \"aborigin\", \"poe\", \"youth\", \"literaci\", \"stem\", \"canada\", \"engag\", \"scienc\", \"micro4ed16\", \"camp\", \"classroom\", \"educ\", \"grade\", \"member\", \"school\", \"student\", \"teacher\", \"engin\", \"game\", \"innov\", \"inspir\", \"today\", \"learn\", \"excit\", \"design\", \"comput\", \"teach\", \"class\", \"futur\", \"z18\", \"printabl\", \"3dthursday\", \"fab13\", \"feather\", \"lam2017\", \"3ddesign\", \"slic3r\", \"3dprint\", \"prusai3\", \"3dprinter\", \"extrud\", \"filament\", \"nozzl\", \"mk2\", \"print\", \"scholarship\", \"holder\", \"mrrf2017\", \"ces2015\", \"printer\", \"daili\", \"design\", \"dude\", \"latest\", \"live\", \"hear\", \"help\", \"wait\", \"check\", \"free\"], \"Freq\": [33.0, 27.0, 29.0, 32.0, 15.0, 15.0, 12.0, 11.0, 10.0, 12.0, 8.0, 10.0, 8.0, 8.0, 8.0, 6.0, 5.0, 6.0, 4.0, 6.0, 4.0, 5.0, 4.0, 5.0, 4.0, 4.0, 6.0, 5.0, 5.0, 6.0, 0.25081996674404955, 0.026011835362059216, 0.07157690227022477, 0.011950878229329507, 0.3304609034719741, 0.17295171809775509, 0.32220355752664526, 0.29415199582955986, 0.24561520540638962, 0.06132827362000727, 0.16398819695535005, 0.17695468155853056, 0.23858679182968967, 0.17018971674480643, 0.2531783961262656, 0.10359512208077634, 0.06096622873649099, 1.595949101530638, 0.006227920166405095, 0.8695134056889224, 0.04533188631923232, 0.2674353535594092, 0.013507541624836748, 0.22720616689578282, 0.043309439046679304, 0.0036962982652068827, 0.0009014810141318817, 0.2931159316460253, 0.10819769876741973, 0.10971232894005817, 7.85574013889283, 5.940255255787745, 4.386565904008433, 4.230790369379146, 4.159942859785729, 4.081151156102644, 4.026594499220946, 4.013438977514853, 4.007684896918206, 3.8782997345406716, 3.8507314555626855, 3.764340088250677, 3.7597791486916288, 3.6405176241182233, 3.608182860108995, 3.551221182677743, 3.2662009594707504, 3.2420908568353393, 3.160860376062048, 3.002730644489019, 2.9690129302379327, 2.890472955482374, 4.367427837998256, 2.639353780715345, 2.5058774534564456, 2.4432760652595555, 2.434850173097766, 2.4220506911865027, 2.412891366207344, 2.384949428532453, 3.683771972779904, 5.802333649419788, 5.221710519754583, 7.811980022776404, 4.510147832239332, 8.802024743512598, 9.727842173551636, 10.431517231427431, 4.930786033761681, 6.107863909491678, 5.129812640177624, 4.6708312510031895, 6.153321074948826, 8.240607755329906, 5.3914586080547, 4.07814413177185, 4.0079799295400536, 5.022950191387946, 6.775754365702503, 4.221377075830918, 3.9232157772301472, 3.947138836349964, 0.20289585017039885, 0.3132437197686786, 4.13696464171435, 1.5875502839149827, 2.8267633001434174, 0.033521346432156214, 0.19481304683957434, 0.2641944657549597, 0.9448517794417232, 0.03352693860348461, 0.616626173175247, 0.24907845876785115, 0.47700611028356044, 1.0564147758984195, 1.4090780941034713, 0.33471338460438427, 0.031243469092101878, 0.5006181124482985, 0.13085479065908437, 0.6600856947073279, 0.047734926563934126, 0.2945116809907777, 0.49852434654410105, 0.8890671366536045, 2.754842988905312, 7.306557410121089, 4.6536395587497825, 0.5206248382004186, 7.457292798034321, 0.5925988299798567, 10.717909060661379, 1.5435802752435617, 1.1702022158723122, 1.4089062880490753, 3.632296585084625, 18.708581641822416, 1.7336628772480418, 4.000130283023487, 13.510806746785423, 0.7411292737472855, 0.9708303547192864, 0.8364336226634637, 1.8862189888024508, 2.840697548675632, 1.8079352836701368, 1.0814772472685146, 2.6580005809099077, 1.60614497418878, 1.2065580025114173, 2.1652177257913325, 1.856978808600673, 1.612958031120846, 1.2631384591680148, 1.0069574024179921, 1.057438488173033, 1.0894423009297705, 0.343059820842022, 0.28499734173602864, 3.5354557724703506, 0.02512900003914006, 0.6735514326815955, 0.015171777582001776, 0.5420219690867106, 0.9871295343418973, 0.8619983577499399, 0.9467670536473113, 1.2986014162338473, 0.04946451975056461, 1.2155651731172066, 2.5398107969594452, 0.19071140546711657, 0.021572836586408885, 0.9015495483760022, 0.6601947038045234, 2.8876735651497616, 0.5815839124126075, 32.10946206038398, 1.2770983963926419, 0.8673268434938126, 0.31505458241199463, 1.304756456234041, 8.888518236161536, 3.9502103423978827, 0.7698776208962337, 0.9506259430607203, 7.509984774225243, 3.588836276382435, 0.9423290136439653, 1.2811163070285967, 1.3082062416423725, 3.215830832234874, 0.9718614987460972, 1.4450671844955927, 0.831360995674795, 0.7813020471873532, 1.3901488653082688, 1.094257991403863, 0.9421162868769141, 0.28588939955500703, 0.1816479844875215, 0.6339377975531216, 15.416681258479546, 0.036432564676790895, 2.6281727228362968, 1.299111247636117, 0.5080919727349, 0.9520179891219642, 0.22631394122438545, 0.05921668900092989, 0.08535173390821615, 3.966789135399814, 0.49546521867176807, 1.4551684147550918, 0.11916314111765129, 2.450000883003313, 1.8589842085489388, 0.17702017005896487, 4.11404961852871, 0.3172412072570645, 0.47243980157251925, 1.900956592847109, 1.2056315922074354, 2.094046977553425, 4.142696488345854, 0.6865655904569362, 0.31688268970130196, 1.0936594710423067, 0.35745668270833775, 3.0384344756236357, 2.8711195935498917, 14.070046245914046, 1.8894124757227841, 1.3700364734263257, 1.0097408638338043, 0.6868624138401849, 0.7296677265411957, 1.296748750207384, 1.2018376628325722, 1.2811717851676447, 1.349685378416085, 1.3773095092900538, 1.5826792171958186, 2.7108709334919263, 1.0790792952771537, 0.8752280782915518, 1.010969414160289, 0.2868249895193485, 0.5296064775576308, 1.1046002274110676, 0.30893392938349523, 0.9404414112039894, 0.22066157668054676, 0.8451770731418277, 0.16061866011485496, 4.189702874075384, 1.8285728777221701, 1.7658261162195026, 0.11298649108377412, 1.0782466380478923, 0.04222547639795732, 0.29823066150994726, 2.9857694182346477, 0.6740415128298304, 13.22170537491704, 0.8529230842415421, 1.4082604420911258, 5.497400144111388, 0.3396023418261671, 0.4108666345339532, 0.9104893275067946, 2.4781201718786647, 0.5920968882318547, 0.1893812041443357, 1.5164221905551607, 0.5907203531425687, 0.34562848492626597, 1.1638473438997678, 1.3853345095117104, 1.262560170086803, 1.071268120900684, 2.1482217920747084, 3.9077435266109206, 1.0531462523172268, 1.084265038003612, 0.7195212637710924, 0.5804958989827369, 0.5673040116995437, 0.6405262525227841, 0.11293055661930836, 0.7898893949183146, 3.1966287430230538, 1.5386756937334283, 0.01977919842390193, 1.7826086188752104, 0.245104940491081, 0.07733999101093558, 26.587617012428446, 1.3660083697616958, 2.7640935790071035, 0.7836210069048979, 1.5716876222452778, 1.1584832781447494, 1.7594468146346565, 10.681460192727068, 0.4146832194953836, 0.2098864372407907, 0.38688420402962126, 0.43083661923355404, 2.6682341771191793, 1.2082416640981406, 1.607403944764052, 0.16935326098757128, 0.986804105178425, 0.3417581001676225, 0.20778324989805383, 0.32812584188821375, 0.12685694271038458, 0.14846121717604344, 0.045730658700125264], \"Total\": [33.0, 27.0, 29.0, 32.0, 15.0, 15.0, 12.0, 11.0, 10.0, 12.0, 8.0, 10.0, 8.0, 8.0, 8.0, 6.0, 5.0, 6.0, 4.0, 6.0, 4.0, 5.0, 4.0, 5.0, 4.0, 4.0, 6.0, 5.0, 5.0, 6.0, 0.25081996674404955, 0.026011835362059216, 0.07157690227022477, 0.011950878229329507, 0.3304609034719741, 0.17295171809775509, 0.32220355752664526, 0.29415199582955986, 0.24561520540638962, 0.06132827362000727, 0.16398819695535005, 0.17695468155853056, 0.23858679182968967, 0.17018971674480643, 0.2531783961262656, 0.10359512208077634, 0.06096622873649099, 1.595949101530638, 0.006227920166405095, 0.8695134056889224, 0.04533188631923232, 0.2674353535594092, 0.013507541624836748, 0.22720616689578282, 0.043309439046679304, 0.0036962982652068827, 0.0009014810141318817, 0.2931159316460253, 0.10819769876741973, 0.10971232894005817, 7.85574013889283, 5.940255255787745, 4.386565904008433, 4.230790369379146, 4.159942859785729, 4.081151156102644, 4.026594499220946, 4.013438977514853, 4.007684896918206, 3.8782997345406716, 3.8507314555626855, 3.764340088250677, 3.7597791486916288, 3.6405176241182233, 3.608182860108995, 3.551221182677743, 3.2662009594707504, 3.2420908568353393, 3.160860376062048, 3.002730644489019, 2.9690129302379327, 2.890472955482374, 4.388970421965554, 2.639353780715345, 2.5058774534564456, 2.4432760652595555, 2.434850173097766, 2.4220506911865027, 2.412891366207344, 2.384949428532453, 3.714236805557215, 5.950794866595832, 5.352168056251713, 8.176166610633988, 4.615936568998003, 9.301940096586959, 10.441980491653547, 11.535271303255236, 5.179604038317739, 6.564456343938553, 5.457938482065837, 4.9497097287705145, 6.884570283889977, 10.762843109545681, 6.485716599458563, 4.788856733669082, 4.630567390370319, 8.449294983220902, 32.102950467627764, 7.246140023965299, 5.186354236398162, 6.638807819117629, 0.20289585017039885, 0.3132437197686786, 4.13696464171435, 1.5875502839149827, 2.8267633001434174, 0.033521346432156214, 0.19481304683957434, 0.2641944657549597, 0.9448517794417232, 0.03352693860348461, 0.616626173175247, 0.24907845876785115, 0.47700611028356044, 1.0564147758984195, 1.4090780941034713, 0.33471338460438427, 0.031243469092101878, 0.5006181124482985, 0.1313044150997091, 0.6709678024278538, 0.04901975474143802, 0.3048912339149322, 0.5306599312406906, 0.9724263788553669, 3.0421863064790995, 8.070007428237199, 5.158476401991723, 0.5833816663978595, 8.372291572108123, 0.6669194427748723, 12.655218761334439, 1.790631266074692, 1.4083559039012497, 1.7959113529338124, 5.159577699607353, 32.102950467627764, 2.370720404300993, 6.747665634121487, 29.947473522007094, 0.9208995141559952, 1.3149136234524097, 1.0935475269098618, 3.2114804009032194, 6.273183042464332, 3.3776372855761414, 1.639271432090926, 6.817932828923806, 3.343212144951771, 2.083334775934916, 7.246140023965299, 5.999675296946528, 5.359119473690563, 5.186354236398162, 1.6817150754289445, 4.849797686940571, 11.535271303255236, 0.343059820842022, 0.28499734173602864, 3.5354557724703506, 0.02512900003914006, 0.6735514326815955, 0.015171777582001776, 0.5420219690867106, 0.9871295343418973, 0.8619983577499399, 0.9467670536473113, 1.2986014162338473, 0.04946451975056461, 1.2155651731172066, 2.5398107969594452, 0.19071140546711657, 0.021572836586408885, 0.9015495483760022, 0.6601947038045234, 2.9574952730149295, 0.6048163150554168, 33.60877355574612, 1.498271782030752, 1.0184269406999937, 0.37393069964435544, 1.5576508610475162, 10.694034844436981, 4.97151012811891, 0.9997793377512235, 1.4057719211124555, 11.334336737321989, 6.064919426688928, 1.5733157719025088, 2.506040647201374, 2.7339693119563395, 8.449294983220902, 2.2491867371437815, 4.570310673441254, 1.9986677718819474, 1.899338968692133, 15.493666040019601, 6.485716599458563, 4.387315627594931, 0.28588939955500703, 0.1816479844875215, 0.6339377975531216, 15.416681258479546, 0.036432564676790895, 2.6281727228362968, 1.299111247636117, 0.5080919727349, 0.9520179891219642, 0.22631394122438545, 0.05921668900092989, 0.08535173390821615, 4.073083135552379, 0.5150331930454448, 1.5850848675439417, 0.13209626528705926, 2.7759108600274374, 2.183932514065992, 0.23335972311891767, 5.486452730963456, 0.42470869472228956, 0.6396693245668117, 2.575377682917442, 1.6479117633757354, 2.9983510704335345, 5.999675296946528, 1.006305102398501, 0.48172575284190733, 1.666072558884395, 0.5595411274581686, 5.359119473690563, 5.0588778995590475, 29.947473522007094, 3.3554546336730082, 2.350451361298046, 1.7051395573191845, 1.1256490758320992, 1.2456783769005235, 2.6714276467151574, 2.70526765217451, 3.117171263710016, 3.5446420246919983, 4.843544847396088, 6.817932828923806, 32.102950467627764, 4.278453681986833, 2.304677612881574, 3.8284574286779978, 0.2868249895193485, 0.5296064775576308, 1.1046002274110676, 0.30893392938349523, 0.9404414112039894, 0.22066157668054676, 0.8451770731418277, 0.16061866011485496, 4.189702874075384, 1.8285728777221701, 1.7658261162195026, 0.11298649108377412, 1.0782466380478923, 0.04222547639795732, 0.3070672750126438, 3.2031084513267674, 0.7836125479156324, 15.493666040019601, 1.06329030175497, 1.960332378422919, 8.465836809543603, 0.5535380758983781, 0.770426762185205, 1.7332552407399455, 4.822087773886596, 1.2843021726239052, 0.42872168998923493, 3.6125599047145345, 1.4692706914376394, 0.8876504359472375, 3.3069422937260278, 4.0205557177276265, 3.8284574286779978, 3.5763491248288215, 10.762843109545681, 32.102950467627764, 4.093100682871119, 6.638807819117629, 3.0050085721425366, 2.0026391910951924, 2.650202929077039, 4.570310673441254, 0.11293055661930836, 0.7898893949183146, 3.1966287430230538, 1.5386756937334283, 0.01977919842390193, 1.7826086188752104, 0.245104940491081, 0.07733999101093558, 27.09219842679241, 1.4211495162372487, 2.903784561497249, 0.8262270087922766, 1.6584606678255225, 1.2330631595584323, 1.8921059594050733, 12.494070271918039, 0.5073277826647531, 0.2628580067214298, 0.5737713543234261, 0.650778743127663, 4.155166038197393, 2.6714276467151574, 6.638807819117629, 0.8606415660027835, 5.0588778995590475, 3.6682620534240864, 2.5244205538937736, 5.457938482065837, 2.625008222560052, 5.950794866595832, 3.4891045059173376], \"logprob\": [30.0, 29.0, 28.0, 27.0, 26.0, 25.0, 24.0, 23.0, 22.0, 21.0, 20.0, 19.0, 18.0, 17.0, 16.0, 15.0, 14.0, 13.0, 12.0, 11.0, 10.0, 9.0, 8.0, 7.0, 6.0, 5.0, 4.0, 3.0, 2.0, 1.0, -8.4406, -10.7067, -9.6945, -11.4845, -8.1648, -8.8123, -8.1901, -8.2812, -8.4615, -9.8491, -8.8655, -8.7894, -8.4906, -8.8284, -8.4312, -9.3248, -9.855, -6.5901, -12.1363, -7.1974, -10.1513, -8.3764, -11.362, -8.5394, -10.1969, -12.658, -14.069, -8.2847, -9.2813, -9.2674, -4.9963, -5.2758, -5.579, -5.6152, -5.632, -5.6512, -5.6646, -5.6679, -5.6693, -5.7021, -5.7093, -5.732, -5.7332, -5.7654, -5.7743, -5.7902, -5.8739, -5.8813, -5.9067, -5.958, -5.9693, -5.9961, -5.5834, -6.087, -6.1389, -6.1642, -6.1677, -6.1729, -6.1767, -6.1884, -5.7536, -5.2993, -5.4047, -5.0019, -5.5512, -4.8826, -4.7825, -4.7127, -5.462, -5.248, -5.4225, -5.5162, -5.2405, -4.9485, -5.3727, -5.6519, -5.6693, -5.4435, -5.1442, -5.6174, -5.6906, -5.6845, -6.5913, -6.157, -3.5763, -4.534, -3.9571, -8.3918, -6.6319, -6.3273, -5.053, -8.3916, -5.4797, -6.3862, -5.7365, -4.9414, -4.6533, -6.0907, -8.4622, -5.6881, -7.0299, -5.4116, -8.0383, -6.2187, -5.6923, -5.1138, -3.9829, -3.0075, -3.4586, -5.649, -2.987, -5.5195, -2.6243, -4.5621, -4.8391, -4.6534, -3.7064, -2.0673, -4.446, -3.6099, -2.3927, -5.2958, -5.0258, -5.1748, -4.3617, -3.9522, -4.404, -4.9179, -4.0187, -4.5224, -4.8085, -4.2237, -4.3773, -4.5182, -4.7626, -4.9893, -4.9404, -4.9106, -5.7015, -5.8869, -3.3688, -8.3154, -5.0268, -8.82, -5.2441, -4.6446, -4.7802, -4.6864, -4.3704, -7.6381, -4.4364, -3.6996, -6.2886, -8.468, -4.7353, -5.0469, -3.5712, -5.1736, -1.1625, -4.3871, -4.774, -5.7867, -4.3656, -2.4469, -3.2579, -4.8932, -4.6823, -2.6154, -3.3538, -4.691, -4.3839, -4.363, -3.4636, -4.6602, -4.2635, -4.8163, -4.8784, -4.3022, -4.5416, -4.6913, -5.8756, -6.3291, -5.0792, -1.888, -7.9357, -3.6571, -4.3617, -5.3005, -4.6726, -6.1093, -7.45, -7.0844, -3.2455, -5.3257, -4.2483, -6.7507, -3.7273, -4.0034, -6.3549, -3.209, -5.7715, -5.3733, -3.9811, -4.4364, -3.8843, -3.2021, -4.9995, -5.7726, -4.5339, -5.6522, -3.5121, -3.5687, -1.9794, -3.9872, -4.3086, -4.6137, -4.999, -4.9386, -4.3636, -4.4396, -4.3756, -4.3235, -4.3033, -4.1643, -3.6262, -4.5473, -4.7567, -4.6125, -5.4395, -4.8262, -4.0911, -5.3652, -4.252, -5.7017, -4.3588, -6.0193, -2.7579, -3.587, -3.622, -6.3711, -4.1152, -7.3553, -5.4005, -3.0967, -4.585, -1.6087, -4.3497, -3.8482, -2.4863, -5.2706, -5.0801, -4.2843, -3.2831, -4.7147, -5.8546, -3.7742, -4.717, -5.253, -4.0388, -3.8646, -3.9574, -4.1217, -3.4259, -2.8276, -4.1388, -4.1097, -4.5197, -4.7344, -4.7574, -4.636, -6.337, -4.3918, -2.9939, -3.7251, -8.0791, -3.5779, -5.562, -6.7155, -0.8755, -3.8441, -3.1393, -4.3998, -3.7038, -4.0089, -3.591, -1.7875, -5.0362, -5.7172, -5.1056, -4.998, -3.1746, -3.9668, -3.6814, -5.9317, -4.1693, -5.2296, -5.7272, -5.2703, -6.2207, -6.0634, -7.241]}, \"mdsDat\": {\"y\": [-0.08365997919650399, 0.05365782026555072, -0.2846124116640758, 0.12829834350777752, -0.14826980805301185, 0.33458603514026336], \"topics\": [1, 2, 3, 4, 5, 6], \"Freq\": [70.66287485891299, 8.994504517472675, 6.246545057790433, 6.195353695962014, 4.018689360561575, 3.882032509300324], \"cluster\": [1, 1, 1, 1, 1, 1], \"x\": [0.058285206546790175, 0.2678086453282981, -0.22868172343787002, 0.2300435184199521, -0.011324991702530773, -0.3161306551546396]}, \"plot.opts\": {\"xlab\": \"PC1\", \"ylab\": \"PC2\"}, \"lambda.step\": 0.01, \"topic.order\": [1, 2, 3, 6, 5, 4], \"R\": 30};\n",
       "\n",
       "function LDAvis_load_lib(url, callback){\n",
       "  var s = document.createElement('script');\n",
       "  s.src = url;\n",
       "  s.async = true;\n",
       "  s.onreadystatechange = s.onload = callback;\n",
       "  s.onerror = function(){console.warn(\"failed to load library \" + url);};\n",
       "  document.getElementsByTagName(\"head\")[0].appendChild(s);\n",
       "}\n",
       "\n",
       "if(typeof(LDAvis) !== \"undefined\"){\n",
       "   // already loaded: just create the visualization\n",
       "   !function(LDAvis){\n",
       "       new LDAvis(\"#\" + \"ldavis_el1049221179059801769690105291\", ldavis_el1049221179059801769690105291_data);\n",
       "   }(LDAvis);\n",
       "}else if(typeof define === \"function\" && define.amd){\n",
       "   // require.js is available: use it to load d3/LDAvis\n",
       "   require.config({paths: {d3: \"https://cdnjs.cloudflare.com/ajax/libs/d3/3.5.5/d3.min\"}});\n",
       "   require([\"d3\"], function(d3){\n",
       "      window.d3 = d3;\n",
       "      LDAvis_load_lib(\"https://cdn.rawgit.com/bmabey/pyLDAvis/files/ldavis.v1.0.0.js\", function(){\n",
       "        new LDAvis(\"#\" + \"ldavis_el1049221179059801769690105291\", ldavis_el1049221179059801769690105291_data);\n",
       "      });\n",
       "    });\n",
       "}else{\n",
       "    // require.js not available: dynamically load d3 & LDAvis\n",
       "    LDAvis_load_lib(\"https://cdnjs.cloudflare.com/ajax/libs/d3/3.5.5/d3.min.js\", function(){\n",
       "         LDAvis_load_lib(\"https://cdn.rawgit.com/bmabey/pyLDAvis/files/ldavis.v1.0.0.js\", function(){\n",
       "                 new LDAvis(\"#\" + \"ldavis_el1049221179059801769690105291\", ldavis_el1049221179059801769690105291_data);\n",
       "            })\n",
       "         });\n",
       "}\n",
       "</script>"
      ],
      "text/plain": [
       "<IPython.core.display.HTML object>"
      ]
     },
     "execution_count": 292,
     "metadata": {},
     "output_type": "execute_result"
    }
   ],
   "source": [
    "# Fit the NMF model\n",
    "print(\"Fitting the NMF model with tf-idf features, \" \"n_samples=%d and n_features=%d...\" % (n_samples, n_features))\n",
    "t0 = time()\n",
    "nmf = NMF(n_components=n_topics, random_state=1, alpha=.1, l1_ratio=.5).fit(tfidf)\n",
    "print(\"done in %0.3fs.\" % (time() - t0))\n",
    "\n",
    "print(\"\\nTopics in NMF model:\")\n",
    "tfidf_feature_names = tfidf_vectorizer.get_feature_names()\n",
    "print_top_words(nmf, tfidf_feature_names, n_top_words)\n",
    "\n",
    "#http://nbviewer.jupyter.org/github/bmabey/pyLDAvis/blob/master/notebooks/sklearn.ipynb#topic=0&lambda=1&term=\n",
    "nmf_vis_data = pyLDAvis.sklearn.prepare(nmf, tfidf, tfidf_vectorizer)\n",
    "pyLDAvis.display(nmf_vis_data)"
   ]
  },
  {
   "cell_type": "markdown",
   "metadata": {},
   "source": [
    "Burasi 10000 ile carptigimiz tfidf e NMF uygulayarak sonuc almaca"
   ]
  },
  {
   "cell_type": "code",
   "execution_count": 293,
   "metadata": {
    "collapsed": false
   },
   "outputs": [
    {
     "name": "stdout",
     "output_type": "stream",
     "text": [
      "Fitting the NMF model with tf-idfDense2 features, n_samples=86 and n_features=8346...\n",
      "done in 0.319s.\n",
      "\n",
      "Topics in NMF model:\n",
      "Topic #0:\n",
      "(time, 0.005819)  (work, 0.005394)  (trump, 0.004470)  (day, 0.004189)  (look, 0.004182)  (think, 0.004173)  (love, 0.004071)  \n",
      "Topic #1:\n",
      "(learn, 0.018845)  (data, 0.012802)  (machin, 0.009601)  (deep, 0.008360)  (python, 0.007799)  (interest, 0.005658)  (neural, 0.005587)  \n",
      "Topic #2:\n",
      "(robot, 0.032871)  (raspberri, 0.010835)  (video, 0.009618)  (drone, 0.006554)  (build, 0.006438)  (kit, 0.006386)  (first, 0.004127)  \n",
      "Topic #3:\n",
      "(3dprint, 0.062278)  (print, 0.027352)  (3dthursday, 0.009349)  (printer, 0.008605)  (3dprinter, 0.008174)  (design, 0.006726)  (mk2, 0.006294)  \n",
      "Topic #4:\n",
      "(stem, 0.011914)  (learn, 0.011678)  (today, 0.008917)  (maker, 0.008244)  (love, 0.007309)  (scienc, 0.006844)  (day, 0.006362)  \n",
      "Topic #5:\n",
      "(analyt, 0.024290)  (data, 0.023989)  (busi, 0.009410)  (learn, 0.009283)  (strategi, 0.007967)  (apach, 0.007088)  (market, 0.006713)  \n",
      "\n"
     ]
    },
    {
     "data": {
      "text/html": [
       "\n",
       "<link rel=\"stylesheet\" type=\"text/css\" href=\"https://cdn.rawgit.com/bmabey/pyLDAvis/files/ldavis.v1.0.0.css\">\n",
       "\n",
       "\n",
       "<div id=\"ldavis_el1049221179059802962668252011\"></div>\n",
       "<script type=\"text/javascript\">\n",
       "\n",
       "var ldavis_el1049221179059802962668252011_data = {\"token.table\": {\"Topic\": [4, 4, 1, 6, 3, 1, 3, 4, 2, 2, 2, 4, 2, 4, 5, 6, 2, 6, 2, 6, 5, 4, 1, 2, 6, 5, 6, 6, 1, 6, 6, 6, 6, 6, 2, 5, 6, 5, 6, 2, 6, 5, 6, 1, 2, 1, 1, 2, 5, 2, 6, 2, 6, 4, 1, 1, 2, 2, 2, 1, 3, 5, 6, 2, 4, 1, 2, 3, 5, 6, 4, 1, 5, 1, 2, 4, 1, 3, 5, 6, 2, 2, 3, 4, 5, 6, 1, 2, 3, 6, 1, 2, 3, 4, 5, 6, 1, 3, 4, 3, 4, 4, 3, 4, 1, 2, 3, 5, 6, 1, 2, 3, 5, 6, 2, 1, 2, 5, 6, 4, 3, 3, 3, 5, 4, 5, 6, 5, 2, 3, 4, 5, 6, 3, 3, 1, 2, 3, 4, 5, 6, 2, 2, 1, 4, 3, 1, 2, 3, 4, 5, 6, 1, 5, 3, 1, 1, 5, 6, 5, 1, 2, 3, 4, 5, 6, 1, 2, 4, 5, 6, 2, 5, 1, 2, 5, 2, 2, 4, 3, 1, 3, 5, 2, 4, 5, 1, 2, 5, 6, 5, 1, 2, 3, 4, 5, 6, 5, 4, 1, 2, 3, 3, 2, 3, 5, 6, 4, 5, 3, 4, 5, 1, 2, 3, 5, 1, 3, 1, 2, 3, 4, 5, 6, 1, 2, 5, 1, 2, 3, 5, 6, 1, 2, 3, 5, 6, 2, 2, 3, 4, 2, 1, 2, 3, 4, 5, 6, 3, 3, 2, 1, 2, 3, 4, 5, 6, 1, 2, 2, 1, 1, 2, 4, 5, 6, 2, 2, 4, 6, 4, 1, 3, 4, 4, 1, 2, 3, 4, 5, 6, 4, 2, 3, 6, 1, 2, 3, 4, 5, 6, 4, 6, 5, 5, 1, 3, 6, 1, 2, 4, 5, 6, 1, 2, 3, 4, 5, 6, 1, 2, 1, 3, 4, 5, 6, 3, 4, 5, 1, 2, 3, 4, 5, 6, 1, 4, 5, 6, 3, 1, 3, 6, 1, 6, 3, 5, 1, 2, 2, 3, 4, 5, 6, 4, 1, 4, 1, 1, 2, 5, 6, 2, 3, 5, 5, 1, 3, 6, 3, 4, 3, 5, 3, 5, 5, 1, 2, 5, 5, 1, 2, 3, 4, 5, 6, 1, 2, 3, 4, 5, 6, 1, 2, 3, 4, 5, 6, 1, 2, 6, 4, 6, 2, 3, 5, 6, 5, 6, 1, 6, 6, 1, 1, 6, 1, 1, 2, 3, 4, 5, 6, 2, 1, 2, 3, 4, 5, 6, 3, 5, 1, 1, 2, 3, 4, 5, 6, 1, 2, 3, 5, 6, 1, 2, 3, 4, 5, 6, 4, 2, 3, 1, 2, 3, 5, 6, 5, 3, 4, 5, 1, 2, 3, 3, 1, 3, 5, 6, 1, 2, 3, 4, 5, 6, 1, 3, 1, 3, 1, 2, 3, 4, 5, 6, 1, 2, 3, 4, 5, 6, 4, 5, 6, 1, 2, 3, 6, 2, 3, 1, 2, 3, 4, 5, 6, 3, 5, 1, 2, 6, 4, 5, 6, 4, 3, 3, 3, 3, 5, 3, 5, 3, 5, 1, 3, 4, 3, 4, 5, 6, 1, 2, 4, 1, 2, 3, 4, 5, 6, 4, 5, 6, 4, 5, 6, 3, 1, 2, 3, 6, 2, 5, 1, 2, 3, 4, 5, 6, 2, 4, 1, 2, 4, 6, 4, 4, 1, 1, 2, 3, 4, 5, 6, 3, 1, 3, 2, 2, 5, 1, 5, 1, 2, 3, 4, 5, 6, 4, 3, 1, 2, 4, 5, 1, 2, 5, 6, 1, 4, 6, 1, 1, 1, 2, 3, 5, 2, 4, 5, 1, 2, 3, 4, 5, 6, 3, 1, 2, 4, 5, 6, 1, 3, 1, 2, 4, 2, 3, 4, 5, 6, 5, 2, 3, 4, 1, 2, 3, 4, 5, 6, 1, 2, 3, 4, 5, 6, 5, 1, 2, 3, 5, 6, 1, 2, 5, 6, 3, 2, 3, 4, 5, 6, 1, 2, 5, 6, 1, 2, 3, 4, 5, 6, 1, 2, 5, 6, 5, 6, 5, 6, 1, 2, 3, 4, 5, 6, 1, 2, 3, 4, 5, 6, 3, 1, 4, 5, 6, 3, 4, 1, 3, 5, 6, 1, 2, 5, 1, 6, 1, 6, 1, 2, 3, 4, 5, 6, 2, 4, 5, 6, 3, 1, 2, 5, 1, 5, 1, 6, 2, 2, 4, 1, 2, 3, 4, 6, 4, 1, 3, 5, 6, 2, 1, 2, 3, 4, 5, 6, 2, 3, 6, 1, 2, 3, 5, 6, 3, 1, 3, 6, 5, 1, 6, 2, 2, 2, 3, 6, 1, 5, 1, 2, 3, 4, 5, 6, 2, 4, 2, 1, 1, 2, 1, 2, 3, 3, 1, 2, 3, 4, 5, 3, 4, 5, 1, 4, 2, 6, 1, 2, 3, 4, 5, 6, 1, 2, 3, 1, 2, 3, 4, 5, 6, 2, 3, 4, 5, 6, 1, 2, 3, 4, 5, 6, 3, 4, 1, 4, 1, 1, 5, 6, 1, 2, 5, 6, 2, 3, 5, 6, 1, 2, 5, 6, 1, 3, 4, 5, 6, 3, 1, 2, 3, 4, 5, 6, 1, 6, 1, 6, 2, 1, 1, 2, 3, 3, 5, 1, 5, 6, 1, 2, 3, 4, 5, 2, 2, 3, 2, 3, 4, 3, 1, 3, 1, 2, 3, 4, 5, 1, 1, 2, 3, 4, 5, 6, 3, 3, 5, 1, 2, 3, 4, 5, 6, 1, 5, 3, 5, 4, 6, 3, 4, 5, 1, 1, 1, 2, 3, 4, 6, 1, 5, 1, 3, 1, 2, 4, 5, 6, 1, 2, 3, 6, 1, 2, 3, 4, 6, 1, 2, 3, 5, 2, 2, 1, 3, 4, 5, 6, 1, 3, 5, 1, 2, 4, 5, 6, 1, 2, 5, 6, 3, 5, 1, 4, 4, 1, 6, 4, 4, 2, 1, 2, 5, 1, 3, 5, 6, 1, 2, 3, 5, 6, 2, 1, 2, 4, 5, 6, 3, 1, 6, 1, 5, 1, 1, 3, 4, 2, 5, 1, 3, 6, 1, 2, 3, 4, 5, 6, 3, 1, 2, 3, 4, 5, 4, 1, 2, 3, 6, 1, 2, 3, 4, 5, 6, 2, 3, 5, 6, 1, 2, 3, 5, 6, 1, 2, 3, 4, 5, 6, 1, 2, 3, 4, 5, 6, 4, 4, 4, 4, 4, 1, 2, 3, 4, 5, 6, 1, 2, 3, 5, 6, 1, 2, 3, 4, 5, 6, 1, 2, 3, 4, 5, 6, 1, 2, 3, 4, 5, 6, 3, 6, 1, 3, 5, 6, 1, 3, 6, 1, 2, 3, 4, 6, 1, 2, 3, 4, 5, 6, 1, 2, 3, 4, 5, 6, 1, 2, 3, 4, 2, 6, 1, 1, 2, 3, 4, 5, 6, 1, 2, 3, 4, 5, 6, 1, 2, 3, 5, 6, 1, 4, 5, 1, 3, 1, 1, 1, 1, 3, 1, 2, 3, 4, 5, 6, 1, 4, 3, 1, 6, 1, 2, 3, 4, 5, 6, 1, 1, 2, 3, 5, 6, 1, 2, 4, 5, 6, 1, 2, 3, 4, 5, 6, 2, 4, 1, 2, 3, 4, 5, 6, 1, 3, 4, 5, 6, 1, 5, 6, 3, 5, 4, 2, 1, 2, 3, 5, 6, 1, 3, 1, 2, 3, 4, 5, 6, 1, 2, 3, 5, 6, 1, 2, 3, 4, 5, 6, 3, 1, 1, 1, 1, 3, 6, 1, 2, 3, 4, 5, 6, 2, 2, 6], \"Term\": [\"11ampt\", \"12et\", \"15mm\", \"15mm\", \"1602\", \"1980\", \"2010\", \"2010\", \"2015baf\", \"2016baffi\", \"2017careerwish\", \"2017careerwish\", \"227\", \"231\", \"231\", \"231\", \"334\", \"334\", \"347\", \"347\", \"3735\", \"3cs\", \"3db\", \"3ddesign\", \"3ddesign\", \"3dhangout\", \"3dhangout\", \"3dmodel\", \"3dp\", \"3dp\", \"3dpr\", \"3dprin\", \"3dprint\", \"3dprintabl\", \"3dprinter\", \"3dprinter\", \"3dprinter\", \"3dprintin\", \"3dprintin\", \"3dpweekni\", \"3dpweekni\", \"3dthursday\", \"3dthursday\", \"4millionsmil\", \"4millionsmil\", \"4yo\", \"538\", \"62milliongirl\", \"637\", \"6800\", \"6800\", \"72711\", \"72711\", \"915\", \"9to5reward\", \"9to5toy\", \"aborigin\", \"actua2015\", \"actuage10yr\", \"actual\", \"actual\", \"actual\", \"actual\", \"actuanc2016\", \"acut\", \"ad\", \"ad\", \"ad\", \"ad\", \"ad\", \"aeon\", \"aerodrom\", \"aerodrom\", \"afterschool\", \"afterschool\", \"agil\", \"ago\", \"ago\", \"ago\", \"ago\", \"alaac15\", \"alamw15\", \"algorithm\", \"algorithm\", \"algorithm\", \"algorithm\", \"also\", \"also\", \"also\", \"also\", \"amaz\", \"amaz\", \"amaz\", \"amaz\", \"amaz\", \"amaz\", \"analysi\", \"analysi\", \"analysi\", \"analyst\", \"analyst\", \"analyt\", \"apach\", \"apach\", \"arm\", \"arm\", \"arm\", \"arm\", \"arm\", \"art\", \"art\", \"art\", \"art\", \"art\", \"asdc16\", \"assembl\", \"assembl\", \"assembl\", \"assembl\", \"aster\", \"astrolog\", \"asynchron\", \"ateli\", \"ateli\", \"automatica2016\", \"automatica2016\", \"automatica2016\", \"automaton\", \"autonom\", \"autonom\", \"autonom\", \"autonom\", \"autonom\", \"auxiliari\", \"avers\", \"back\", \"back\", \"back\", \"back\", \"back\", \"back\", \"baf16\", \"bailey\", \"basketbal\", \"bettertogether25\", \"bibliographi\", \"big\", \"big\", \"big\", \"big\", \"big\", \"big\", \"bloke\", \"boll\", \"bootstrap\", \"bother\", \"bought\", \"bought\", \"bought\", \"brickpi3\", \"build\", \"build\", \"build\", \"build\", \"build\", \"build\", \"busi\", \"busi\", \"busi\", \"busi\", \"busi\", \"cadr\", \"cadr\", \"camp\", \"camp\", \"camp\", \"canada2020\", \"career\", \"career\", \"causal\", \"certain\", \"certain\", \"certain\", \"certif\", \"certif\", \"certif\", \"ces2015\", \"ces2015\", \"ces2015\", \"ces2015\", \"chappi\", \"check\", \"check\", \"check\", \"check\", \"check\", \"check\", \"cinch\", \"ciscops16\", \"class\", \"class\", \"class\", \"classif\", \"classroom\", \"classroom\", \"classroom\", \"classroom\", \"clockwork\", \"clockwork\", \"cloud\", \"cloud\", \"cloud\", \"code\", \"code\", \"code\", \"code\", \"coincid\", \"colt\", \"come\", \"come\", \"come\", \"come\", \"come\", \"come\", \"comic\", \"comic\", \"comic\", \"compat\", \"compat\", \"compat\", \"compat\", \"compat\", \"comput\", \"comput\", \"comput\", \"comput\", \"comput\", \"conasta64\", \"conasta65\", \"concis\", \"conduc\", \"conf4ca\", \"control\", \"control\", \"control\", \"control\", \"control\", \"control\", \"convex\", \"convolut\", \"crafti\", \"creativ\", \"creativ\", \"creativ\", \"creativ\", \"creativ\", \"creativ\", \"cri\", \"csed2016\", \"cspc2015\", \"curri\", \"custom\", \"custom\", \"custom\", \"custom\", \"custom\", \"cyclon\", \"daili\", \"daili\", \"daili\", \"dandelion\", \"data\", \"data\", \"data\", \"datalove25\", \"day\", \"day\", \"day\", \"day\", \"day\", \"day\", \"ddperspectives2017\", \"de2014\", \"deep\", \"deep\", \"design\", \"design\", \"design\", \"design\", \"design\", \"design\", \"desk\", \"desk\", \"devoxx4kid\", \"dexter\", \"differenti\", \"differenti\", \"differenti\", \"digit\", \"digit\", \"digit\", \"digit\", \"digit\", \"disrupt\", \"disrupt\", \"disrupt\", \"disrupt\", \"disrupt\", \"disrupt\", \"dissect\", \"dissect\", \"distribut\", \"distribut\", \"distribut\", \"distribut\", \"distribut\", \"docker\", \"docker\", \"docker\", \"done\", \"done\", \"done\", \"done\", \"done\", \"done\", \"drone\", \"drone\", \"drone\", \"drone\", \"dropout\", \"dude\", \"dude\", \"dude\", \"e3d\", \"e3d\", \"ec2\", \"ec2\", \"ecsite2016\", \"ecsite2016\", \"educ\", \"educ\", \"educ\", \"educ\", \"educ\", \"edw13\", \"elect\", \"elect\", \"elector\", \"electron\", \"electron\", \"electron\", \"electron\", \"elementari\", \"elementari\", \"elementari\", \"encor\", \"enough\", \"enough\", \"enough\", \"enterpris\", \"enterpris\", \"erf2016\", \"erf2016\", \"erf2017\", \"erf2017\", \"erw2016\", \"ev3\", \"ev3\", \"ev3\", \"ev3dev\", \"even\", \"even\", \"even\", \"even\", \"even\", \"even\", \"ever\", \"ever\", \"ever\", \"ever\", \"ever\", \"ever\", \"excit\", \"excit\", \"excit\", \"excit\", \"excit\", \"excit\", \"extrud\", \"extrud\", \"extrud\", \"fab13\", \"fab13\", \"feather\", \"feather\", \"feather\", \"feather\", \"featherw\", \"featherw\", \"fidget\", \"fidget\", \"fidgeti\", \"figaro\", \"filament\", \"filament\", \"filibust\", \"find\", \"find\", \"find\", \"find\", \"find\", \"find\", \"finkel\", \"first\", \"first\", \"first\", \"first\", \"first\", \"first\", \"foursquar\", \"fp41\", \"fr4\", \"free\", \"free\", \"free\", \"free\", \"free\", \"free\", \"fun\", \"fun\", \"fun\", \"fun\", \"fun\", \"futur\", \"futur\", \"futur\", \"futur\", \"futur\", \"futur\", \"g214\", \"g4c14\", \"g4c14\", \"game\", \"game\", \"game\", \"game\", \"game\", \"ggj13\", \"ggplot2\", \"gift500\", \"gopigo2\", \"grade\", \"grade\", \"grade\", \"gradient\", \"guy\", \"guy\", \"guy\", \"guy\", \"happi\", \"happi\", \"happi\", \"happi\", \"happi\", \"happi\", \"harass\", \"harass\", \"hatr\", \"hcomp2013\", \"hear\", \"hear\", \"hear\", \"hear\", \"hear\", \"hear\", \"help\", \"help\", \"help\", \"help\", \"help\", \"help\", \"hm17\", \"hm17\", \"hm17\", \"holder\", \"holder\", \"holder\", \"holder\", \"hopscotch\", \"hopscotch\", \"human\", \"human\", \"human\", \"human\", \"human\", \"human\", \"humanoid\", \"humanoid\", \"husband\", \"i3dpconf\", \"i3dpconf\", \"i40\", \"i40\", \"i40\", \"ibminsight2015\", \"iclr2015\", \"icml2015\", \"icml2016\", \"icra15\", \"icra15\", \"icra16\", \"icra16\", \"icra2016\", \"icra2016\", \"idol\", \"impala\", \"impala\", \"implicit\", \"imts2016\", \"imts2016\", \"imts2016\", \"indi\", \"indigen\", \"indigen\", \"industri\", \"industri\", \"industri\", \"industri\", \"industri\", \"industri\", \"industrie40\", \"industrie40\", \"industrie40\", \"industry40\", \"industry40\", \"industry40\", \"infer\", \"infil\", \"infil\", \"infil\", \"infil\", \"inlet\", \"innorobo2013\", \"innov\", \"innov\", \"innov\", \"innov\", \"innov\", \"innov\", \"innovation150\", \"insight4al\", \"inspir\", \"inspir\", \"inspir\", \"inspir\", \"inspire14\", \"inspire16\", \"insult\", \"interest\", \"interest\", \"interest\", \"interest\", \"interest\", \"interest\", \"interpol\", \"interpret\", \"interpret\", \"ipdx15\", \"iste2015\", \"iste2015\", \"jam\", \"jam\", \"join\", \"join\", \"join\", \"join\", \"join\", \"join\", \"jolly25\", \"kdd2014\", \"kind\", \"kind\", \"kind\", \"kind\", \"kit\", \"kit\", \"kit\", \"kit\", \"kos\", \"lam2017\", \"lam2017\", \"lament\", \"lanc\", \"languag\", \"languag\", \"languag\", \"languag\", \"las\", \"las\", \"las\", \"last\", \"last\", \"last\", \"last\", \"last\", \"last\", \"latent\", \"latest\", \"latest\", \"latest\", \"latest\", \"latest\", \"latex\", \"latex\", \"leadership\", \"leadership\", \"leadership\", \"learn\", \"learn\", \"learn\", \"learn\", \"learn\", \"lien\", \"literaci\", \"literaci\", \"literaci\", \"live\", \"live\", \"live\", \"live\", \"live\", \"live\", \"look\", \"look\", \"look\", \"look\", \"look\", \"look\", \"lor\", \"lot\", \"lot\", \"lot\", \"lot\", \"lot\", \"love\", \"love\", \"love\", \"love\", \"lyric\", \"machin\", \"machin\", \"machin\", \"machin\", \"machin\", \"made\", \"made\", \"made\", \"made\", \"make\", \"make\", \"make\", \"make\", \"make\", \"make\", \"maker\", \"maker\", \"maker\", \"maker\", \"maker_open\", \"makeredchallenge2\", \"makev57\", \"makev57\", \"manag\", \"manag\", \"manag\", \"manag\", \"manag\", \"manag\", \"mani\", \"mani\", \"mani\", \"mani\", \"mani\", \"mani\", \"manylinux1\", \"market\", \"market\", \"market\", \"market\", \"matric\", \"matur\", \"mayb\", \"mayb\", \"mayb\", \"mayb\", \"metropolitan\", \"micro4ed16\", \"millimet\", \"mk2\", \"mk2\", \"mk2s\", \"mk2s\", \"model\", \"model\", \"model\", \"model\", \"model\", \"model\", \"modular\", \"modular\", \"modular\", \"modular\", \"mont\", \"moo\", \"moss\", \"moss\", \"movi\", \"movi\", \"mrrf2017\", \"mrrf2017\", \"ms145\", \"ms328\", \"mstr10\", \"much\", \"much\", \"much\", \"much\", \"much\", \"multistag\", \"name\", \"name\", \"name\", \"name\", \"nc2017\", \"need\", \"need\", \"need\", \"need\", \"need\", \"need\", \"nem2015\", \"neural\", \"neural\", \"never\", \"never\", \"never\", \"never\", \"never\", \"nips2014\", \"noth\", \"noth\", \"noth\", \"nous\", \"nozzl\", \"nozzl\", \"nsta15\", \"nums16\", \"nums2015\", \"ocarina\", \"ocarina\", \"offens\", \"olfrance14\", \"open\", \"open\", \"open\", \"open\", \"open\", \"open\", \"organiz\", \"organiz\", \"outreach\", \"oxen\", \"pale\", \"panther\", \"paper\", \"paper\", \"paper\", \"paramet\", \"peopl\", \"peopl\", \"peopl\", \"peopl\", \"peopl\", \"pepper\", \"pepper\", \"pepper\", \"pinbal\", \"pl4\", \"planter\", \"planter\", \"pleas\", \"pleas\", \"pleas\", \"pleas\", \"pleas\", \"pleas\", \"poetri\", \"poetri\", \"poetri\", \"post\", \"post\", \"post\", \"post\", \"post\", \"post\", \"pour\", \"pour\", \"pour\", \"pour\", \"pour\", \"power\", \"power\", \"power\", \"power\", \"power\", \"power\", \"predict\", \"predict\", \"premium\", \"premium\", \"prescient\", \"prime\", \"prime\", \"prime\", \"print\", \"print\", \"print\", \"print\", \"printabl\", \"printabl\", \"printabl\", \"printabl\", \"printer\", \"printer\", \"printer\", \"printer\", \"privaci\", \"privaci\", \"privaci\", \"privaci\", \"privaci\", \"probabilist\", \"project\", \"project\", \"project\", \"project\", \"project\", \"project\", \"prusai3\", \"prusai3\", \"prusai3mk2\", \"prusai3mk2\", \"ps32\", \"ps4\", \"ps4share\", \"psms95\", \"pymc3\", \"python\", \"python\", \"raspberri\", \"raspberri\", \"raspberri\", \"read\", \"read\", \"read\", \"read\", \"read\", \"recipi\", \"reconcili\", \"recurr\", \"regist\", \"regist\", \"regist\", \"regress\", \"reinforc\", \"reinforc\", \"report\", \"report\", \"report\", \"report\", \"report\", \"republican\", \"research\", \"research\", \"research\", \"research\", \"research\", \"research\", \"residu\", \"retriev\", \"retriev\", \"right\", \"right\", \"right\", \"right\", \"right\", \"right\", \"ritual\", \"robot\", \"robotlaunch2015\", \"robotlaunch2015\", \"roi\", \"roi\", \"roundup\", \"roundup\", \"roundup\", \"rubbish\", \"runoff\", \"sad\", \"sad\", \"sad\", \"sad\", \"sad\", \"sam\", \"sandbox15\", \"sander\", \"scala\", \"scholarship\", \"scholarship\", \"scholarship\", \"scholarship\", \"scholarship\", \"school\", \"school\", \"school\", \"school\", \"scienc\", \"scienc\", \"scienc\", \"scienc\", \"scienc\", \"scrap\", \"scratch\", \"scratch\", \"scratch\", \"scratcher\", \"scratchmit2016\", \"search\", \"search\", \"search\", \"search\", \"search\", \"semant\", \"semant\", \"semant\", \"sensor\", \"sensor\", \"sensor\", \"sensor\", \"sensor\", \"servo\", \"servo\", \"servo\", \"servo\", \"shanghai\", \"shanghai\", \"sheep\", \"shih\", \"skype4b\", \"slic3r\", \"slic3r\", \"sloan\", \"smb4cloud\", \"smp2017\", \"smug\", \"soccer\", \"soccer\", \"someon\", \"someon\", \"someon\", \"someon\", \"someth\", \"someth\", \"someth\", \"someth\", \"someth\", \"sophia\", \"sorri\", \"sorri\", \"sorri\", \"sorri\", \"sorri\", \"spars\", \"spinner\", \"spinner\", \"spitfir\", \"spitfir\", \"spotti\", \"statist\", \"statist\", \"statist\", \"stem\", \"stem\", \"stereograph\", \"stereograph\", \"stereograph\", \"still\", \"still\", \"still\", \"still\", \"still\", \"still\", \"stochast\", \"strateg\", \"strateg\", \"strateg\", \"strateg\", \"strateg\", \"strategi\", \"student\", \"student\", \"student\", \"student\", \"success\", \"success\", \"success\", \"success\", \"success\", \"success\", \"summer2015\", \"sur\", \"sur\", \"sur\", \"sure\", \"sure\", \"sure\", \"sure\", \"sure\", \"take\", \"take\", \"take\", \"take\", \"take\", \"take\", \"talk\", \"talk\", \"talk\", \"talk\", \"talk\", \"talk\", \"tcc13\", \"td3pi\", \"tdf2015\", \"tdf2016\", \"tdpartners15\", \"teach\", \"teach\", \"teach\", \"teach\", \"teach\", \"teach\", \"teacher\", \"teacher\", \"teacher\", \"teacher\", \"teacher\", \"team\", \"team\", \"team\", \"team\", \"team\", \"team\", \"tech\", \"tech\", \"tech\", \"tech\", \"tech\", \"tech\", \"technolog\", \"technolog\", \"technolog\", \"technolog\", \"technolog\", \"technolog\", \"tensor\", \"terrapin\", \"text\", \"text\", \"text\", \"text\", \"thing\", \"thing\", \"thing\", \"think\", \"think\", \"think\", \"think\", \"think\", \"time\", \"time\", \"time\", \"time\", \"time\", \"time\", \"today\", \"today\", \"today\", \"today\", \"today\", \"today\", \"topic\", \"topic\", \"topic\", \"topic\", \"topographi\", \"topographi\", \"tori\", \"train\", \"train\", \"train\", \"train\", \"train\", \"train\", \"transform\", \"transform\", \"transform\", \"transform\", \"transform\", \"transform\", \"tri\", \"tri\", \"tri\", \"tri\", \"tri\", \"trump\", \"tucon2013\", \"turret\", \"ugh\", \"ugh\", \"uncl\", \"undecid\", \"unpleas\", \"unpopular\", \"unsupervis\", \"use\", \"use\", \"use\", \"use\", \"use\", \"use\", \"valu\", \"valu\", \"varianc\", \"vase\", \"vase\", \"video\", \"video\", \"video\", \"video\", \"video\", \"video\", \"voter\", \"wait\", \"wait\", \"wait\", \"wait\", \"wait\", \"watch\", \"watch\", \"watch\", \"watch\", \"watch\", \"way\", \"way\", \"way\", \"way\", \"way\", \"way\", \"weapon\", \"weapon\", \"week\", \"week\", \"week\", \"week\", \"week\", \"week\", \"well\", \"well\", \"well\", \"well\", \"well\", \"wellington\", \"whm17\", \"whm17\", \"willow\", \"willow\", \"windowsserver2003\", \"wisa2016\", \"woman\", \"woman\", \"woman\", \"woman\", \"woman\", \"word2vec\", \"word2vec\", \"work\", \"work\", \"work\", \"work\", \"work\", \"work\", \"workshop\", \"workshop\", \"workshop\", \"workshop\", \"workshop\", \"world\", \"world\", \"world\", \"world\", \"world\", \"world\", \"wrapper\", \"wreck\", \"ww2\", \"xb1\", \"yeah\", \"yeah\", \"yeah\", \"year\", \"year\", \"year\", \"year\", \"year\", \"year\", \"youth\", \"z18\", \"z18\"], \"Freq\": [1.0002066888266685, 0.999489610922482, 0.04286760937172874, 0.958880735946564, 1.000797607444757, 0.99959985796487, 0.7816263558250656, 0.2183955994217095, 1.0000758458046257, 0.9999738091480335, 0.11269474389096346, 0.8872901762130719, 0.9999793005825628, 0.0038975553174812657, 0.9899790506402415, 0.0058463329762218985, 0.0713241040723799, 0.9288467293700772, 0.11416153838955441, 0.8859356251060352, 0.9998315800563078, 0.9995875971504449, 0.9999778878649358, 0.1264474353755197, 0.8735410327192152, 0.12377563942235328, 0.8762409595692204, 1.0001348995590311, 0.12510808886197222, 0.8743893205161885, 0.9998017583893901, 1.000710356259498, 0.9999929887735874, 0.9999320280820718, 0.03030528327399315, 0.12849838861900387, 0.8411709877169546, 0.06975909564533503, 0.9301212752711338, 0.07093549745731977, 0.9296283614143485, 0.12407617751988816, 0.8759759979842286, 0.05195894680134511, 0.948030614095729, 0.9999605564329297, 0.9998519486871629, 1.0009448256874707, 1.0005152743679115, 0.0713241040723799, 0.9288467293700772, 0.07056202948859286, 0.929066721599806, 1.000203746749115, 1.000433749368095, 0.9999309623346111, 0.9999696208987893, 1.0000310474200425, 1.0000344376728834, 0.6991689472458749, 0.2780516260156553, 0.014759036328610918, 0.00807976441347313, 1.0001364146223892, 0.9996085370363377, 0.14954882768302302, 0.12507956780103144, 0.14538384727757767, 0.5411871414325585, 0.03878638002571006, 0.9998654289765033, 0.9326897298951005, 0.06718527715346063, 0.003004261129048638, 0.9964132744677983, 1.0000669791256849, 0.7605981776224053, 0.14499263439122104, 0.05871841014649449, 0.035635005666300096, 0.9999272724404998, 0.9997017795148345, 0.8426048540147133, 0.05930307755258192, 0.08786878533143123, 0.01019010628368309, 0.5982157090991891, 0.032970688568977384, 0.30743190709380747, 0.0613840746277153, 0.3236459546861228, 0.5353109911478878, 0.0487142461021491, 0.02597608044580617, 0.020191491102832526, 0.046167571548638695, 0.08438412143174402, 0.6417582001085592, 0.2738992877678122, 0.05313235667633575, 0.9467679937278494, 1.000006027675943, 0.23221571440384048, 0.767757479253206, 0.1732311602244978, 0.06159330141315477, 0.05558795452537218, 0.619628612216337, 0.08992622006320597, 0.206377439323252, 0.7063281056326748, 0.03309428502702788, 0.03969202925091701, 0.0145678192463472, 1.0001914841466375, 0.06573783529153511, 0.08924409154729615, 0.7255066549447603, 0.1195233368937002, 0.9998847521496756, 0.9989659352942182, 0.9995160281021216, 0.016875889926534, 0.9830205882206056, 0.02530505888240274, 0.9454400722872172, 0.029612302947492567, 0.999520493415191, 0.07869004758846326, 0.23090568368359082, 0.027317270406357713, 0.6628175511035153, 0.00013590681794207817, 1.0003242931921614, 1.00021895687281, 0.5240380088519616, 0.18154633721898425, 0.08467870527968224, 0.01459237698686871, 0.13768336874669065, 0.057425295318912745, 0.9997361680167711, 0.9995996890725991, 0.9999623023512604, 1.0002995588288193, 1.0001170156237749, 0.18342947321957875, 0.14193394501023102, 0.2615113864128678, 0.3387308825530449, 0.041860396962587414, 0.03250648892498864, 0.9994242049119548, 1.000033498453609, 1.0001353475533787, 0.9996044976155329, 0.8808285913755962, 0.047429231843301334, 0.071759811814865, 0.9992819344057717, 0.20459834914508862, 0.3279761816163235, 0.0563538430815506, 0.06998159924055294, 0.2953287190317353, 0.04575194930843692, 0.11612977914304515, 0.021464938213372076, 0.8124621131310947, 0.038466467724530676, 0.011442556854765456, 0.004366460273353753, 0.9955529423246556, 0.04188146786339109, 0.8954086884426226, 0.06290767417848131, 0.9993145480200532, 0.23801008305135257, 0.7619704683690194, 1.0002745982997276, 0.923587361830854, 0.05643160144264015, 0.019795378516528222, 0.1751638190319237, 0.8140356495086619, 0.010850856046225363, 0.04586964154221685, 0.2752178492533011, 0.06254951119393207, 0.6161623277294325, 1.000264963229004, 0.1764728948879863, 0.4450689410905071, 0.04114117394881592, 0.11294182577004089, 0.13810203114476902, 0.08625174759520604, 0.9996119960461278, 0.9996830484469282, 0.049275835875480775, 0.7697948089192318, 0.1809217633726851, 0.9999385171402079, 0.8722543330056555, 0.03005350977332892, 0.02154485375958125, 0.07610953773765117, 0.008144636528535055, 0.9920167291755697, 0.2547024662275786, 0.6834162691473523, 0.061892120862265504, 0.12126727596468359, 0.5744079345468588, 0.2381557937200105, 0.06616790183027871, 1.0000348658994587, 0.9985771974675342, 0.31708263545372073, 0.36517878067607573, 0.0677569109278835, 0.08516536934495052, 0.12404113160516622, 0.040799608069109906, 0.9821678890331675, 0.012547212209082339, 0.00557653875959215, 0.03991546221808904, 0.10523167312041655, 0.049317038029787694, 0.7757124744283997, 0.029854126700306263, 0.07626914893296581, 0.4480080269119221, 0.34303543483214116, 0.13074711245651283, 0.0018745105728532304, 1.00000809099886, 1.0000910935868192, 0.9995086869242775, 0.9998523631229023, 0.9997814031313955, 0.24611726200616757, 0.10512280721466255, 0.044027727446945594, 0.012083081289041673, 0.5515171415866958, 0.0411579956407982, 0.9999278874447179, 1.0000356187868362, 1.0004155004171837, 0.15580068553108442, 0.7121985679537561, 0.0034794197761284363, 0.06409864432023275, 0.02590234722228947, 0.03842825841635184, 1.0000374972509751, 0.99984243453323, 1.0003082664036411, 1.0000754786534292, 0.22909202340948825, 0.07742763383566842, 0.513145294049678, 0.12268600685147124, 0.057566045677654235, 1.0006577897750555, 0.04236652130721417, 0.5853599245700892, 0.3723574338164622, 0.9999977907936337, 0.008955959090621234, 0.3879300855176345, 0.6031094086817426, 0.9998284917797254, 0.3379922899598618, 0.37597202181468864, 0.05988678835847853, 0.08118308319878557, 0.11254087280892826, 0.03243465885867141, 0.9996830484469282, 0.9990079109988419, 0.9923184673337747, 0.007682704425045781, 0.21159528252450663, 0.41049539648495387, 0.01982420490672778, 0.0774597218001466, 0.09029198721694964, 0.19034527034924517, 0.9617656829257454, 0.038179927600181254, 1.0001072382096963, 0.9998849017964487, 0.05027718229785955, 0.943819426618301, 0.006060196080545571, 0.07331113607538232, 0.3077731749132793, 0.5226967105146849, 0.06633906333928388, 0.029850491055750775, 0.0711792768155018, 0.019237642382568053, 0.019045265958742372, 0.812982767087326, 0.046362718141989015, 0.03116498065976025, 0.02986022835618811, 0.9702000058144222, 0.05370611610484407, 0.7662182392749379, 0.10807120295944084, 0.0617785077893145, 0.00988456124629032, 0.9578421459192831, 0.0019036279812903937, 0.040293458937313335, 0.7316693913781027, 0.03278070760442804, 0.06716047411638916, 0.04327453168511385, 0.06126394439486095, 0.063962356301323, 0.04954620184571997, 0.11566764271470617, 0.7907645620666539, 0.04404106830730664, 1.0000981454373514, 0.470031605465358, 0.13577446614097596, 0.39416587283813226, 0.1159125920412051, 0.8836453445219142, 0.9853585878737586, 0.014790372312912402, 0.1490708181224165, 0.850950776475186, 0.7916259903378873, 0.06585689627283728, 0.032237641532158114, 0.09464050478369274, 0.015619904885224228, 1.000066248389603, 0.9681540220349732, 0.03180678919653803, 0.9998317336579461, 0.14213264854607965, 0.47994467560485754, 0.30415596431223163, 0.07370084973265206, 0.9532961940634606, 0.023496737177620505, 0.023077152585162998, 1.0004924930710417, 0.7799612709752026, 0.20243811089152675, 0.017732840827919302, 0.13406171766583808, 0.8659595452916958, 0.02505831556097692, 0.9749250897942582, 0.020165230150700885, 0.97994437583406, 1.0004090419718692, 0.13614024828004265, 0.0037607803392276976, 0.8600904635813744, 1.000656924610799, 0.6674775448597166, 0.07490809670190483, 0.18687249964838026, 0.012727747404217457, 0.014716457936126436, 0.04328759924455208, 0.6445867611222793, 0.11415651040587725, 0.05362805843640094, 0.013425765678483591, 0.11385649329574353, 0.06045344769194288, 0.14373374669055425, 0.5809865570638373, 0.09027224100819314, 0.1019814924202039, 0.04110770832106534, 0.04189548670352478, 0.0873941690334377, 0.017844882682220262, 0.8947607201303006, 0.04707268127307959, 0.952943807504627, 0.055235692129627735, 0.09619276996724285, 0.0913079808673438, 0.7567665574766683, 0.04335524677950611, 0.958150953827085, 0.24965731826523313, 0.750127775713594, 1.000532002881428, 1.000722230177684, 0.08219456301853041, 0.9177591753803941, 0.9974550607790833, 0.2791359112078826, 0.17151085902326688, 0.08081819651424806, 0.36727711773838684, 0.06282546149693084, 0.03843751863736275, 1.0003966898783232, 0.37234971197421834, 0.18705942070253143, 0.09982572979633006, 0.04310952157219674, 0.21651022240423734, 0.08114580433535404, 0.9992955463690836, 0.9996352792728751, 0.9998813297937698, 0.21088973380815548, 0.27455057740267874, 0.0900044744521464, 0.1977706759845327, 0.11335850768240245, 0.11339367941919501, 0.25214250525266185, 0.5630926374926061, 0.05402055337037351, 0.08658663082262973, 0.04416686899104276, 0.0569857512961177, 0.2538080793893622, 0.1422015980959775, 0.23548854932842314, 0.23969303163749112, 0.07181405943970563, 0.9986868475488491, 0.9550633994603885, 0.04494415997460652, 0.3195990841579917, 0.519971443187318, 0.07912404510707562, 0.07512788121277887, 0.0062058074593784795, 0.9998491942429221, 1.0003737358517675, 0.9998978578469342, 0.999901856862778, 0.007189014844936608, 0.8957948194660403, 0.09705170040664421, 0.9999590690057633, 0.8200663635455357, 0.08794497709784246, 0.020547891845290295, 0.07130118470315733, 0.2861953519273142, 0.3974974916478052, 0.019254950439995568, 0.07787241949164259, 0.11204818023569377, 0.10711010253982775, 0.9819950713678502, 0.018475918558190974, 0.9986042853523392, 1.0001268076895284, 0.34659319425677004, 0.31924079394164473, 0.023690618528516217, 0.10891026738050898, 0.025687954048484795, 0.17587648884167775, 0.2497067973855589, 0.32522074197089695, 0.030239150245192525, 0.17241831107290584, 0.11980554688737657, 0.102563715780086, 0.08472327839350535, 0.8893211222337626, 0.025963585314138737, 0.08197085429937584, 0.15643292805224396, 0.020023414790687227, 0.7414920789676364, 0.96057917442408, 0.03944260665670575, 0.15685125981159245, 0.012785092748062207, 0.24190330973925017, 0.16254218524213232, 0.36858486898072024, 0.05729904371844952, 0.041859206251952316, 0.9582499730611599, 0.9997319614180642, 0.05856587263032564, 0.9409583535938986, 0.025367203727626485, 0.9458343104157876, 0.029715867223791027, 0.9985578621095057, 0.9994988953495507, 0.9995235339393569, 1.0002899834379326, 0.024576442809116292, 0.9748655647616129, 0.02505831556097692, 0.9749250897942582, 0.023792764027455483, 0.9761551816743722, 0.9992817113005502, 0.2701975062469528, 0.7297460208086994, 1.0003315545598204, 0.07896509001245465, 0.8954251256350567, 0.025346819016343468, 1.0003907193650512, 0.997830638135285, 0.0020250241260990056, 0.02319175865318011, 0.08481929709674299, 0.09413508779170017, 0.38468352485120383, 0.3840320709564516, 0.02911998909542559, 0.03164937975519829, 0.9391315954848175, 0.02924942678797946, 0.04386316631853429, 0.9286654744002182, 0.027642932940326298, 1.0000897644042657, 0.0053370652293306614, 0.02801959245398597, 0.004002798921997996, 0.9633402738941843, 1.000494502159336, 0.9990699486173379, 0.033741269262589184, 0.35083347179642294, 0.005174783191145224, 0.47532276824031494, 0.04291283621925308, 0.09201016942304556, 1.0000113878904235, 1.0000610081854662, 0.19556796407436333, 0.7391995425282767, 0.017872329364803593, 0.047316991993317514, 1.0000040395817638, 1.000149990015546, 0.9993986887592269, 0.21989515883274435, 0.147849299469758, 0.556352006044136, 0.020436638126914163, 0.0430204652502771, 0.012461364711533028, 1.0016002660945689, 0.010476342569253505, 0.9894905556659935, 1.000110991339341, 0.016255523043766134, 0.9838869210700556, 0.9071931163809157, 0.09302408753829408, 0.026044272562855665, 0.5702841261910352, 0.05427208681081102, 0.273322457017478, 0.03715185417836276, 0.03889235842010889, 0.9995308986115039, 1.0000901798725232, 0.7348377007921598, 0.019738460887116165, 0.23339680080882574, 0.012074058521374251, 0.12183694791282523, 0.3546618376666788, 0.48004055732115597, 0.043470587902801165, 1.0030665874824265, 0.047026347110481106, 0.9529553339459635, 0.9988559959265882, 0.9992115974506354, 0.23312143877318475, 0.06557648176336418, 0.6464305076168747, 0.05494245769362945, 0.2527864376212875, 0.6968911577328742, 0.050341230739965805, 0.4653981580205698, 0.2622877369375358, 0.09546406557627338, 0.07244343940869791, 0.07482787338085733, 0.02961033459972512, 0.9999274533561557, 0.07143731533115022, 0.07139386197632591, 0.5594184900080461, 0.11493412351027514, 0.182851717100657, 0.022229132584575973, 0.9777854452868818, 0.0904763184540846, 0.13919433608320708, 0.7703607846178805, 0.3774960670246313, 0.4248424055895817, 0.17364133413915056, 0.012008001945733794, 0.012008001945733794, 1.0008532712084703, 0.9718104761844025, 0.006987575326547142, 0.02132106317587461, 0.2632397429172014, 0.2871207587722907, 0.055807703208064656, 0.10196060061866596, 0.1497957747970071, 0.14207924440585268, 0.3847974258499697, 0.23197085936730572, 0.06250163009185465, 0.15114030549484853, 0.09003167361031966, 0.07956585813159561, 1.0002868838380907, 0.540780861611822, 0.13243034209371835, 0.24574761125999212, 0.057906372281664426, 0.023139862772692543, 0.39798743489560096, 0.5233735339900708, 0.024789020678251297, 0.05384260972141778, 0.9995672722905407, 0.06491328075205433, 0.7684421692104969, 0.00411949666311114, 0.12221173433896382, 0.04032113400560298, 0.4314948687911252, 0.35957905732593765, 0.09897832662644507, 0.10996071267797941, 0.256421342397624, 0.6097186424258088, 0.007817723853586098, 0.035227620956567555, 0.047289252044957535, 0.043523980964454846, 0.047437917166537634, 0.7314270514085733, 0.13386854752795055, 0.08727515075857915, 0.9996728646983687, 1.0000592753336606, 0.12399122677972897, 0.8759980171987852, 0.05459499690451821, 0.038516149087926506, 0.053571797498007834, 0.8154168413168804, 0.03245003832075781, 0.005408339720126302, 0.5115644323299732, 0.20318625328212073, 0.16530159763186414, 0.09069946442583895, 0.005155036583988702, 0.02412168061941883, 0.9995543930284757, 0.1630872247186075, 0.7139251970213268, 0.09191462036699945, 0.031088033642345653, 0.9992487305812322, 0.9997934208558468, 0.7066937237676467, 0.2611789381830243, 0.011822013966373272, 0.020360135164309522, 1.0008593642196897, 0.9999934462666487, 0.9997452972549781, 0.1653439295647084, 0.8346849342516787, 0.1511424199880969, 0.8487623653073061, 0.16453441197724758, 0.08181660313892085, 0.45324209496549306, 0.15571547049020418, 0.023624463691568804, 0.12114779473442096, 0.2099591796000881, 0.021368243413424543, 0.7563063123296929, 0.012302928025911099, 0.9997052908065304, 0.9986526260094184, 0.1809879902295045, 0.8190141625169284, 0.8631435438874236, 0.13686086838454817, 0.34460551147669116, 0.6554060827669055, 1.0014075505864928, 1.0014075505864928, 0.9998302447660851, 0.6409845709064541, 0.1843090964938674, 0.12631352965312945, 0.02820549425587801, 0.02014678161134144, 0.9999970267354682, 0.838885007431614, 0.073514229862344, 0.04722081918165162, 0.040423883087322976, 0.9998195949588569, 0.38100821392111894, 0.16800730682291137, 0.10453936547370703, 0.1997858476810453, 0.0628662438715258, 0.0837919450396799, 1.0000344376728834, 0.9984016784018901, 0.001602682761253732, 0.8278169634171658, 0.0326694439751524, 0.09552468998582574, 0.004107561669390507, 0.039833795724089335, 1.000093997821646, 0.8486599971440244, 0.1363875861301009, 0.014814513665855789, 1.0000168554461393, 0.16023189874718322, 0.8396083743021006, 1.0000425802366988, 1.000036641349557, 0.9990079109988419, 0.03751219472380898, 0.962812997911097, 0.9995857311164273, 0.9990699486173379, 0.17733954603603913, 0.3436595918088998, 0.2022485771775647, 0.08638437826890377, 0.11448233231617232, 0.075860932679952, 0.032019026450613344, 0.9680037818015784, 0.999918304304741, 0.995544903959474, 1.0013281540902732, 1.00071655573448, 0.119154613281401, 0.1758403473470492, 0.7050526865547369, 0.9997366073744278, 0.663088919171483, 0.022871055992967407, 0.2098917330766018, 0.06349637016666176, 0.04062531417369436, 0.0015514284020381073, 0.006205713608152429, 0.9922677488035395, 0.9998883215403979, 0.9996884109739254, 0.021774508786663867, 0.9775608418433831, 0.521900869975338, 0.15446176600270844, 0.004545837822246272, 0.0905298766302662, 0.13797101390285763, 0.0905782366070986, 0.005752704687422768, 0.9188457969704228, 0.07538026831795351, 0.296048608432608, 0.15079607977793655, 0.29699646950549785, 0.18032338835159725, 0.05618231086583693, 0.019617851902539174, 0.07650640974926179, 0.13052329795135045, 0.005464743553518699, 0.7846110648186655, 0.003152736665491557, 0.26214572786633267, 0.27245339969020305, 0.054083463273393875, 0.12394657230184856, 0.24831732862937078, 0.03906734876454569, 0.6297441178286123, 0.3703047480264837, 0.9992165454333742, 0.0010932347324216348, 0.9979895846825358, 0.9455502095404764, 0.018227473918852558, 0.0359992609897338, 0.10792366490448767, 0.056131290347270435, 0.06063497509137628, 0.7753203132947584, 0.026425074312721862, 0.0035917576735738452, 0.035917576735738456, 0.9341135492487408, 0.12558422435354016, 0.05177830854362539, 0.2261859185148253, 0.5964914870097026, 0.11176701120081158, 0.7317548010889788, 0.04141168144093815, 0.08772151875123459, 0.027459358661553974, 1.0000181894822082, 0.18717582065889932, 0.45865835263179583, 0.04891281410394387, 0.03399127227845764, 0.2231964226256231, 0.048077207761716645, 0.13723587282748773, 0.8627382891329867, 0.1371683493005369, 0.863017531015878, 1.0014075505864928, 1.000187688237673, 1.0001583937991103, 1.0004325761753259, 1.0003125899078622, 0.9238586570585946, 0.0761259533416282, 0.1625201392211846, 0.7620900368244731, 0.07538227535028545, 0.41475982967984226, 0.13707275716438458, 0.29109439993649294, 0.13118220630285157, 0.025875057772132705, 0.9996581278357544, 1.0000267486200123, 1.0001168538891907, 0.46430707814521854, 0.01158529626765885, 0.5241293352364025, 1.0000943502913187, 0.004039092801184527, 0.9961871608739656, 0.10581493044335423, 0.06693409553626128, 0.05010213915876028, 0.7072374653353489, 0.06988707033933163, 1.0000534127614087, 0.1605868030313228, 0.08265047048886229, 0.49180091069409687, 0.1807290288023122, 0.07009984348870171, 0.014203636409937815, 1.000027060513689, 0.9787622716942567, 0.02140731316523552, 0.59711014038128, 0.08191467856399016, 0.08028902893427481, 0.11049901788648508, 0.04953715677215943, 0.08069544134170366, 1.0018384025965708, 1.0000043695778358, 0.024832389668141122, 0.9751193015046343, 0.9851453811592932, 0.014724395149870992, 0.07293487293593161, 0.13081105320101166, 0.7961149812011639, 0.9997878514068781, 1.0001379649690523, 0.8114890593380921, 0.028944611898646177, 0.07088830099728315, 0.058235865855958774, 0.03033118013331186, 1.0000987479808494, 0.9998279926371162, 1.0000917627727606, 1.00004780133747, 0.017997263139109324, 0.2400414187514971, 0.04721359940389719, 0.04651240733354228, 0.6486026650782906, 0.08222238843876759, 0.8008209927613226, 0.08979000521771684, 0.027159851629971227, 0.021741319200931544, 0.7475212044385863, 0.18275182656192868, 0.04140355050013466, 0.00659367877405301, 0.9997984647826751, 0.8970680841234223, 0.034228738912520984, 0.06861931583408462, 0.9992971452469025, 0.9999956144958355, 0.18842680700029313, 0.5346779058700861, 0.23894982726339523, 0.008083683242096334, 0.02992887486061857, 0.2211164273690902, 0.7734396895279883, 0.005457739744653143, 0.12814299236244495, 0.2880423512914551, 0.10914504872731502, 0.4375114666560802, 0.037157742698121755, 0.10127477166307078, 0.1781364957246237, 0.6289116069216821, 0.09166705615537665, 0.045353240306547866, 0.9545205145311862, 1.0000498644683744, 0.9993892579902498, 1.0001041935097408, 0.16792384038295413, 0.8317827560302328, 0.9995406566662209, 1.000286456076533, 0.9998161922987319, 1.001905801509139, 0.06858798455736945, 0.9310309586945892, 0.7782922534094512, 0.10207596556786187, 0.012278703104539906, 0.10725373193724617, 0.6546414531991304, 0.1442918469215857, 0.143283820046884, 0.003168084463348189, 0.05464945699275626, 0.999080751165397, 0.618354270281481, 0.10138034453672742, 0.00414737773104794, 0.10401360023898008, 0.17214909153476768, 0.9997545491815334, 0.30110645028431515, 0.6990377994620735, 0.9509790063261966, 0.04885166128387996, 1.0026571400864248, 0.02448055367537168, 0.8355832356906985, 0.13995208095137185, 0.9534877000961139, 0.04651106428143522, 0.013580242665086348, 0.016296291198103618, 0.9723453748201826, 0.6012088729754378, 0.11143627921455503, 0.15334620211789124, 0.05404174269114406, 0.029160483199058142, 0.050865411692154375, 1.0001206228744193, 0.07491246303838511, 0.06229562715823604, 0.003942761212546585, 0.8545277801325966, 0.0042056119600496905, 0.9999971609844128, 0.030040334233710372, 0.7653266459915372, 0.14851716644516624, 0.056056573850443964, 0.05890747811200344, 0.253902444852297, 0.017612874194742348, 0.6146035538292677, 0.0464399379516802, 0.008509590903077765, 0.999188768926858, 0.11429990919722847, 0.8423708636457544, 0.04310580517170417, 0.6906605645850524, 0.019818906092052828, 0.1496610537179875, 0.03941131040019648, 0.10045354116371918, 0.3811518610880872, 0.2515900058072851, 0.028050394776951416, 0.2058220049875671, 0.11109981200934792, 0.022273561882335095, 0.20402705196915671, 0.2498206353949771, 0.36786983834389114, 0.07776986417090875, 0.04753659179150902, 0.05298745431693539, 1.000286456076533, 0.9999882366960432, 0.9999640873017274, 0.9999164537780911, 1.0002066888266685, 0.08906869723830382, 0.6684650711925226, 0.1318382814599602, 0.03571052663167426, 0.07467375627049715, 0.00027682578784243617, 0.04516338198615583, 0.8972551771057647, 0.03789249696052084, 0.001398247120314422, 0.01831703727611893, 0.238982593112795, 0.2779172045012866, 0.01417636411211688, 0.25362926314332335, 0.18674504288923635, 0.028554287903552956, 0.08542686936246106, 0.26266649352158694, 0.15952192241520763, 0.18021344335642667, 0.22187821547860903, 0.09027889015805707, 0.012547118002122203, 0.2759472927157125, 0.05335874025813535, 0.443703599954051, 0.17079262049152108, 0.043669328847243824, 0.9998924459604591, 1.0008843940965941, 0.2504203615368178, 0.7045378092991649, 0.009836479012902827, 0.03524738312956846, 0.6617388802096084, 0.17236090109253754, 0.16586760636741057, 0.586343930751102, 0.1266885726665826, 0.2139181465569599, 0.03945899877620532, 0.033582126618047076, 0.4636027990453691, 0.15325397561047874, 0.14636579982185532, 0.09865645323060644, 0.08043611727360256, 0.05769244007291738, 0.22504758269808378, 0.48457123148288567, 0.04845564539149102, 0.15349459856096898, 0.06506563179589356, 0.023363334969181856, 0.042581789189448264, 0.1468677451210137, 0.7999856506054679, 0.010448309384447954, 0.10338741807653136, 0.897838104348825, 1.0002043333190036, 0.07228319738387803, 0.15006230729611705, 0.41745039943680967, 0.29433001116559265, 0.04946321275524877, 0.01636826122577073, 0.027812078479350976, 0.17371512510515252, 0.009932885171196778, 0.6520387287936729, 0.11069648696344853, 0.025825501445111622, 0.5094738271393516, 0.18090956623191595, 0.1899895254011163, 0.03425098522052793, 0.08535927860328435, 0.9999992763270651, 0.9999196268128836, 0.9987018309506307, 0.9454654884582512, 0.054659723551492644, 0.9998436701175297, 1.000572357537315, 1.001914016208592, 0.999862720238818, 1.0001217733400896, 0.3793073046396694, 0.08381383476313799, 0.3258903724966208, 0.07219918350382673, 0.08104096757059971, 0.05770702855414556, 0.2543793360428251, 0.7456020100050953, 0.9999461155032915, 0.07662940440208824, 0.923672713276784, 0.14334223916245334, 0.21321317991963715, 0.054701433866582584, 0.06502245912442835, 0.4655022415131648, 0.0582297843617066, 1.0003062514903305, 0.4011960812486853, 0.32659877148756766, 0.010419237916114495, 0.09382856272330765, 0.16787165770165322, 0.4563898458597155, 0.2403198332800573, 0.12034487289960796, 0.15540435943764266, 0.0275379319818092, 0.32511498703652053, 0.24188294596275176, 0.13415333869289003, 0.1823074693662732, 0.06991165901144138, 0.04663490176199756, 0.9853673742875965, 0.014737526163005181, 0.2386341256711407, 0.290302952777112, 0.15127588008282578, 0.09018728485825679, 0.19986696116984934, 0.029782633193453985, 0.7269919565062051, 0.11885720169252548, 0.022633064424858736, 0.022857154171639516, 0.10863870923932192, 0.9998435169230779, 0.12428883319386172, 0.8755766405444672, 0.039885836158367625, 0.959964192286136, 1.0008298382793106, 1.0005135568711243, 0.8941407066815378, 0.05670654538410659, 0.016876948030984103, 0.00033753896061968207, 0.03172866229825012, 0.05274038980139978, 0.947298539894373, 0.3822272568378139, 0.2541358830317673, 0.18006761783887262, 0.05841328023026457, 0.07196493538276674, 0.053190246473571026, 0.1593893899726332, 0.5799443850432819, 0.14630992840345033, 0.07683521755823614, 0.03754387956498237, 0.2316631019390657, 0.2230439205738292, 0.10315894340281279, 0.2319343349190906, 0.16325211697722372, 0.04695344254209241, 0.9994913003335387, 0.9995170547705118, 1.0006454660768922, 1.0000523947705051, 0.7154914099210314, 0.2548657606983448, 0.029625114839892143, 0.3579741785770521, 0.27313696892687583, 0.10367065398380088, 0.11265382540628478, 0.1296143305244108, 0.022926163360084434, 0.9999852263933088, 0.06053873870960822, 0.9398531846477475]}, \"tinfo\": {\"loglift\": [30.0, 29.0, 28.0, 27.0, 26.0, 25.0, 24.0, 23.0, 22.0, 21.0, 20.0, 19.0, 18.0, 17.0, 16.0, 15.0, 14.0, 13.0, 12.0, 11.0, 10.0, 9.0, 8.0, 7.0, 6.0, 5.0, 4.0, 3.0, 2.0, 1.0, 1.1861, 1.1861, 1.1861, 1.1861, 1.1861, 1.1861, 1.1861, 1.1861, 1.1861, 1.1861, 1.1861, 1.1861, 1.1861, 1.1861, 1.1861, 1.1861, 1.1861, 1.1861, 1.1861, 1.1861, 1.1861, 1.1861, 1.1861, 1.1861, 1.1861, 1.1861, 1.1861, 1.1861, 1.1861, 1.1861, 1.1861, 1.1861, 1.1861, 1.1861, 1.1861, 1.1861, 1.1861, 1.1861, 1.1861, 1.1861, 1.1861, 1.1861, 1.1861, 1.1861, 1.1861, 1.1861, 1.1861, 1.1851, 1.1861, 1.1861, 1.1861, 1.1861, 1.1861, 1.1861, 1.1861, 1.1538, 1.1682, 1.1679, 1.1303, 1.1068, 1.1301, 1.1358, 1.0887, 1.1167, 0.9972, 1.0389, 0.8673, 1.0104, 1.0743, 0.7753, 1.022, 1.0593, 0.9773, 0.8161, 0.9376, 0.8737, 0.7414, 0.8514, 0.878, 0.9355, 0.6523, 0.9877, 0.7819, 0.6773, 0.7733, 0.6705, 0.9126, 0.6723, 0.7625, 0.4174, 0.747, 0.7054, 0.839, 0.2244, 0.5117, 0.54, 0.2648, 0.2311, 0.8282, 0.5359, 0.1014, 0.2212, 0.5158, 0.5714, 0.3456, 0.1982, 0.4017, 0.2216, 0.4213, 0.3061, 0.0376, -0.3053, 0.0626, 0.1588, -0.2013, 1.4975, 1.4975, 1.4975, 1.4975, 1.4975, 1.4975, 1.4975, 1.4975, 1.4975, 1.4975, 1.4975, 1.4975, 1.4975, 1.4975, 1.4975, 1.4975, 1.4975, 1.4975, 1.4975, 1.4975, 1.4975, 1.4975, 1.4975, 1.4975, 1.4975, 1.4975, 1.4975, 1.4975, 1.4975, 1.4975, 1.4975, 1.4975, 1.4975, 1.4975, 1.4975, 1.4975, 1.4975, 1.4975, 1.4975, 1.4952, 1.4975, 1.4975, 1.4975, 1.4975, 1.4975, 1.4975, 1.4975, 1.4975, 1.4943, 1.4499, 1.4688, 1.4827, 1.4572, 1.4672, 1.4514, 1.4497, 1.4442, 1.3889, 1.3874, 1.3608, 1.3891, 1.4129, 1.2638, 1.2754, 1.1847, 1.2065, 1.2358, 1.3361, 1.1953, 1.387, 1.1498, 1.0027, 0.85, 0.773, 0.9431, 1.2301, 0.9359, 0.9545, 0.5233, 0.9232, 0.688, 0.8726, 1.1581, 0.5193, 0.7181, 1.0947, 0.6071, 0.9527, 0.4901, 0.1276, 0.3827, 0.8435, 0.3743, 0.0364, 0.5749, 1.8578, 1.8578, 1.8578, 1.8578, 1.8578, 1.8578, 1.8578, 1.8578, 1.8578, 1.8578, 1.8578, 1.8578, 1.8578, 1.8578, 1.8578, 1.8578, 1.8578, 1.8578, 1.8578, 1.8578, 1.8578, 1.8578, 1.8578, 1.8578, 1.8578, 1.8578, 1.8578, 1.8578, 1.8578, 1.8578, 1.8562, 1.8501, 1.8578, 1.8578, 1.8578, 1.8578, 1.8578, 1.8578, 1.8578, 1.8578, 1.8578, 1.8578, 1.8539, 1.8578, 1.8578, 1.8578, 1.8578, 1.843, 1.8471, 1.8353, 1.7786, 1.7999, 1.8148, 1.8364, 1.5944, 1.6782, 1.6866, 1.5083, 1.6115, 1.8036, 1.0018, 1.601, 1.2715, 0.9109, 1.5916, 1.6347, 1.5455, 1.4143, 1.5075, 1.3954, 1.4215, 1.1481, 0.8578, 1.0665, 0.6438, 0.9842, 0.1434, 1.2317, 0.6238, 0.5166, 0.4229, -0.0639, 0.3156, 0.6783, 0.7366, 0.788, 0.2967, 0.1582, 0.2595, 2.0445, 2.0445, 2.0445, 2.0445, 2.0445, 2.0445, 2.0445, 2.0445, 2.0445, 2.0445, 2.0445, 2.0445, 2.0445, 2.0445, 2.0445, 2.0445, 2.0445, 2.0445, 2.0445, 2.0445, 2.0445, 2.0445, 2.0445, 2.0445, 2.0445, 2.0445, 2.0445, 2.0445, 2.0445, 2.0445, 2.0445, 2.0445, 2.0445, 2.0445, 2.0445, 2.0445, 2.0445, 2.0445, 2.0297, 2.0445, 2.0056, 1.9898, 2.0122, 1.9006, 1.8368, 1.9249, 1.8405, 1.7802, 1.8387, 1.5389, 1.7727, 1.7075, 1.7509, 1.6639, 1.7836, 1.7295, 1.8374, 1.8874, 1.6981, 1.6833, 1.4637, 1.5577, 1.3957, 1.3984, 1.3008, 1.5089, 1.2319, 1.6168, 1.3773, 1.0428, 0.2937, 0.962, 0.1704, 0.7474, 0.434, 0.1549, 0.5832, 0.6726, 2.0983, 2.0983, 2.0983, 2.0983, 2.0983, 2.0983, 2.0983, 2.0983, 2.0983, 2.0983, 2.0983, 2.0983, 2.0983, 2.0983, 2.0983, 2.0983, 2.0983, 2.0983, 2.0983, 2.0983, 2.0983, 2.0983, 2.0983, 2.0983, 2.0983, 2.096, 2.0905, 2.0897, 2.0874, 2.082, 2.0731, 2.0781, 2.0744, 2.0815, 2.0556, 2.0731, 2.0731, 2.0355, 2.0519, 2.0731, 2.0244, 2.0577, 2.0424, 2.0424, 1.9809, 1.8266, 1.8636, 1.8987, 2.0271, 1.9878, 1.9269, 1.8704, 1.8444, 1.9476, 1.8191, 1.8557, 1.3337, 1.7776, 1.687, 1.3645, 1.5032, 1.6345, 1.6197, 0.8787, 1.1413, 1.4844, 1.2716, 0.5682, 0.5986, 0.5927, 0.6699, 0.4882, 0.7052, 0.1185, -0.0861, 1.1003, 0.4204, 0.2859, 0.0875, 0.9082, 0.0111, -0.0235, -0.5332, -0.422, -0.3093, 2.7679, 2.7679, 2.7679, 2.7679, 2.7679, 2.7679, 2.7679, 2.7679, 2.7456, 2.7385, 2.7304, 2.7292, 2.7252, 2.7246, 2.7197, 2.7197, 2.7072, 2.7056, 2.6997, 2.6961, 2.6941, 2.6941, 2.6941, 2.6941, 2.6886, 2.6821, 2.6597, 2.6566, 2.6469, 2.6444, 2.6354, 2.6328, 2.6203, 2.5949, 2.5134, 2.5872, 2.5932, 2.6354, 2.6203, 2.5839, 2.634, 2.6038, 2.6354, 2.2512, 2.6354, 2.4688, 2.4893, 2.3454, 2.4805, 2.3348, 2.2836, 2.4099, 1.78, 1.109, 1.837, 1.0687, 0.8165, 0.4907, 0.2368, 0.3174, 1.0301, 0.2885, 0.3291, -0.1659, -0.0847, 0.591, 0.5604, 0.9833, 0.2565], \"Category\": [\"Default\", \"Default\", \"Default\", \"Default\", \"Default\", \"Default\", \"Default\", \"Default\", \"Default\", \"Default\", \"Default\", \"Default\", \"Default\", \"Default\", \"Default\", \"Default\", \"Default\", \"Default\", \"Default\", \"Default\", \"Default\", \"Default\", \"Default\", \"Default\", \"Default\", \"Default\", \"Default\", \"Default\", \"Default\", \"Default\", \"Topic1\", \"Topic1\", \"Topic1\", \"Topic1\", \"Topic1\", \"Topic1\", \"Topic1\", \"Topic1\", \"Topic1\", \"Topic1\", \"Topic1\", \"Topic1\", \"Topic1\", \"Topic1\", \"Topic1\", \"Topic1\", \"Topic1\", \"Topic1\", \"Topic1\", \"Topic1\", \"Topic1\", \"Topic1\", \"Topic1\", \"Topic1\", \"Topic1\", \"Topic1\", \"Topic1\", \"Topic1\", \"Topic1\", \"Topic1\", \"Topic1\", \"Topic1\", \"Topic1\", \"Topic1\", \"Topic1\", \"Topic1\", \"Topic1\", \"Topic1\", \"Topic1\", \"Topic1\", \"Topic1\", \"Topic1\", \"Topic1\", \"Topic1\", \"Topic1\", \"Topic1\", \"Topic1\", \"Topic1\", \"Topic1\", \"Topic1\", \"Topic1\", \"Topic1\", \"Topic1\", \"Topic1\", \"Topic1\", \"Topic1\", \"Topic1\", \"Topic1\", \"Topic1\", \"Topic1\", \"Topic1\", \"Topic1\", \"Topic1\", \"Topic1\", \"Topic1\", \"Topic1\", \"Topic1\", \"Topic1\", \"Topic1\", \"Topic1\", \"Topic1\", \"Topic1\", \"Topic1\", \"Topic1\", \"Topic1\", \"Topic1\", \"Topic1\", \"Topic1\", \"Topic1\", \"Topic1\", \"Topic1\", \"Topic1\", \"Topic1\", \"Topic1\", \"Topic1\", \"Topic1\", \"Topic1\", \"Topic1\", \"Topic1\", \"Topic1\", \"Topic1\", \"Topic1\", \"Topic1\", \"Topic1\", \"Topic1\", \"Topic1\", \"Topic1\", \"Topic1\", \"Topic1\", \"Topic1\", \"Topic1\", \"Topic1\", \"Topic1\", \"Topic1\", \"Topic1\", \"Topic1\", \"Topic1\", \"Topic1\", \"Topic1\", \"Topic1\", \"Topic1\", \"Topic1\", \"Topic1\", \"Topic1\", \"Topic1\", \"Topic2\", \"Topic2\", \"Topic2\", \"Topic2\", \"Topic2\", \"Topic2\", \"Topic2\", \"Topic2\", \"Topic2\", \"Topic2\", \"Topic2\", \"Topic2\", \"Topic2\", \"Topic2\", \"Topic2\", \"Topic2\", \"Topic2\", \"Topic2\", \"Topic2\", \"Topic2\", \"Topic2\", \"Topic2\", \"Topic2\", \"Topic2\", \"Topic2\", \"Topic2\", \"Topic2\", \"Topic2\", \"Topic2\", \"Topic2\", \"Topic2\", \"Topic2\", \"Topic2\", \"Topic2\", \"Topic2\", \"Topic2\", \"Topic2\", \"Topic2\", \"Topic2\", \"Topic2\", \"Topic2\", \"Topic2\", \"Topic2\", \"Topic2\", \"Topic2\", \"Topic2\", \"Topic2\", \"Topic2\", \"Topic2\", \"Topic2\", \"Topic2\", \"Topic2\", \"Topic2\", \"Topic2\", \"Topic2\", \"Topic2\", \"Topic2\", \"Topic2\", \"Topic2\", \"Topic2\", \"Topic2\", \"Topic2\", \"Topic2\", \"Topic2\", \"Topic2\", \"Topic2\", \"Topic2\", \"Topic2\", \"Topic2\", \"Topic2\", \"Topic2\", \"Topic2\", \"Topic2\", \"Topic2\", \"Topic2\", \"Topic2\", \"Topic2\", \"Topic2\", \"Topic2\", \"Topic2\", \"Topic2\", \"Topic2\", \"Topic2\", \"Topic2\", \"Topic2\", \"Topic2\", \"Topic2\", \"Topic2\", \"Topic2\", \"Topic2\", \"Topic2\", \"Topic2\", \"Topic2\", \"Topic2\", \"Topic2\", \"Topic3\", \"Topic3\", \"Topic3\", \"Topic3\", \"Topic3\", \"Topic3\", \"Topic3\", \"Topic3\", \"Topic3\", \"Topic3\", \"Topic3\", \"Topic3\", \"Topic3\", \"Topic3\", \"Topic3\", \"Topic3\", \"Topic3\", \"Topic3\", \"Topic3\", \"Topic3\", \"Topic3\", \"Topic3\", \"Topic3\", \"Topic3\", \"Topic3\", \"Topic3\", \"Topic3\", \"Topic3\", \"Topic3\", \"Topic3\", \"Topic3\", \"Topic3\", \"Topic3\", \"Topic3\", \"Topic3\", \"Topic3\", \"Topic3\", \"Topic3\", \"Topic3\", \"Topic3\", \"Topic3\", \"Topic3\", \"Topic3\", \"Topic3\", \"Topic3\", \"Topic3\", \"Topic3\", \"Topic3\", \"Topic3\", \"Topic3\", \"Topic3\", \"Topic3\", \"Topic3\", \"Topic3\", \"Topic3\", \"Topic3\", \"Topic3\", \"Topic3\", \"Topic3\", \"Topic3\", \"Topic3\", \"Topic3\", \"Topic3\", \"Topic3\", \"Topic3\", \"Topic3\", \"Topic3\", \"Topic3\", \"Topic3\", \"Topic3\", \"Topic3\", \"Topic3\", \"Topic3\", \"Topic3\", \"Topic3\", \"Topic3\", \"Topic3\", \"Topic3\", \"Topic3\", \"Topic3\", \"Topic3\", \"Topic3\", \"Topic3\", \"Topic3\", \"Topic3\", \"Topic3\", \"Topic3\", \"Topic3\", \"Topic3\", \"Topic4\", \"Topic4\", \"Topic4\", \"Topic4\", \"Topic4\", \"Topic4\", \"Topic4\", \"Topic4\", \"Topic4\", \"Topic4\", \"Topic4\", \"Topic4\", \"Topic4\", \"Topic4\", \"Topic4\", \"Topic4\", \"Topic4\", \"Topic4\", \"Topic4\", \"Topic4\", \"Topic4\", \"Topic4\", \"Topic4\", \"Topic4\", \"Topic4\", \"Topic4\", \"Topic4\", \"Topic4\", \"Topic4\", \"Topic4\", \"Topic4\", \"Topic4\", \"Topic4\", \"Topic4\", \"Topic4\", \"Topic4\", \"Topic4\", \"Topic4\", \"Topic4\", \"Topic4\", \"Topic4\", \"Topic4\", \"Topic4\", \"Topic4\", \"Topic4\", \"Topic4\", \"Topic4\", \"Topic4\", \"Topic4\", \"Topic4\", \"Topic4\", \"Topic4\", \"Topic4\", \"Topic4\", \"Topic4\", \"Topic4\", \"Topic4\", \"Topic4\", \"Topic4\", \"Topic4\", \"Topic4\", \"Topic4\", \"Topic4\", \"Topic4\", \"Topic4\", \"Topic4\", \"Topic4\", \"Topic4\", \"Topic4\", \"Topic4\", \"Topic4\", \"Topic4\", \"Topic4\", \"Topic4\", \"Topic4\", \"Topic4\", \"Topic4\", \"Topic4\", \"Topic5\", \"Topic5\", \"Topic5\", \"Topic5\", \"Topic5\", \"Topic5\", \"Topic5\", \"Topic5\", \"Topic5\", \"Topic5\", \"Topic5\", \"Topic5\", \"Topic5\", \"Topic5\", \"Topic5\", \"Topic5\", \"Topic5\", \"Topic5\", \"Topic5\", \"Topic5\", \"Topic5\", \"Topic5\", \"Topic5\", \"Topic5\", \"Topic5\", \"Topic5\", \"Topic5\", \"Topic5\", \"Topic5\", \"Topic5\", \"Topic5\", \"Topic5\", \"Topic5\", \"Topic5\", \"Topic5\", \"Topic5\", \"Topic5\", \"Topic5\", \"Topic5\", \"Topic5\", \"Topic5\", \"Topic5\", \"Topic5\", \"Topic5\", \"Topic5\", \"Topic5\", \"Topic5\", \"Topic5\", \"Topic5\", \"Topic5\", \"Topic5\", \"Topic5\", \"Topic5\", \"Topic5\", \"Topic5\", \"Topic5\", \"Topic5\", \"Topic5\", \"Topic5\", \"Topic5\", \"Topic5\", \"Topic5\", \"Topic5\", \"Topic5\", \"Topic5\", \"Topic5\", \"Topic5\", \"Topic5\", \"Topic5\", \"Topic5\", \"Topic5\", \"Topic5\", \"Topic5\", \"Topic5\", \"Topic5\", \"Topic5\", \"Topic5\", \"Topic5\", \"Topic5\", \"Topic5\", \"Topic5\", \"Topic5\", \"Topic5\", \"Topic5\", \"Topic5\", \"Topic6\", \"Topic6\", \"Topic6\", \"Topic6\", \"Topic6\", \"Topic6\", \"Topic6\", \"Topic6\", \"Topic6\", \"Topic6\", \"Topic6\", \"Topic6\", \"Topic6\", \"Topic6\", \"Topic6\", \"Topic6\", \"Topic6\", \"Topic6\", \"Topic6\", \"Topic6\", \"Topic6\", \"Topic6\", \"Topic6\", \"Topic6\", \"Topic6\", \"Topic6\", \"Topic6\", \"Topic6\", \"Topic6\", \"Topic6\", \"Topic6\", \"Topic6\", \"Topic6\", \"Topic6\", \"Topic6\", \"Topic6\", \"Topic6\", \"Topic6\", \"Topic6\", \"Topic6\", \"Topic6\", \"Topic6\", \"Topic6\", \"Topic6\", \"Topic6\", \"Topic6\", \"Topic6\", \"Topic6\", \"Topic6\", \"Topic6\", \"Topic6\", \"Topic6\", \"Topic6\", \"Topic6\", \"Topic6\", \"Topic6\", \"Topic6\", \"Topic6\", \"Topic6\", \"Topic6\", \"Topic6\", \"Topic6\", \"Topic6\", \"Topic6\", \"Topic6\", \"Topic6\", \"Topic6\", \"Topic6\", \"Topic6\"], \"Term\": [\"3dprint\", \"robot\", \"data\", \"analyt\", \"print\", \"learn\", \"stem\", \"raspberri\", \"deep\", \"busi\", \"strategi\", \"maker\", \"machin\", \"python\", \"apach\", \"printer\", \"3dthursday\", \"love\", \"trump\", \"video\", \"neural\", \"cloud\", \"latest\", \"design\", \"kit\", \"market\", \"3dprinter\", \"scienc\", \"drone\", \"regist\", \"xb1\", \"undecid\", \"kos\", \"bloke\", \"lanc\", \"spotti\", \"lament\", \"offens\", \"metropolitan\", \"filibust\", \"figaro\", \"unpleas\", \"idol\", \"unpopular\", \"bother\", \"wellington\", \"smug\", \"husband\", \"cri\", \"ps4\", \"ritual\", \"prescient\", \"moo\", \"uncl\", \"pale\", \"runoff\", \"hatr\", \"1980\", \"rubbish\", \"oxen\", \"trump\", \"4yo\", \"pinbal\", \"sheep\", \"ps4share\", \"sam\", \"basketbal\", \"9to5toy\", \"elector\", \"sander\", \"voter\", \"538\", \"tori\", \"curri\", \"republican\", \"fr4\", \"indi\", \"premium\", \"coincid\", \"insult\", \"scrap\", \"9to5reward\", \"3db\", \"ww2\", \"wreck\", \"elect\", \"comic\", \"harass\", \"prime\", \"certain\", \"ugh\", \"spitfir\", \"jam\", \"aerodrom\", \"never\", \"movi\", \"well\", \"name\", \"woman\", \"peopl\", \"noth\", \"bought\", \"sad\", \"sure\", \"enough\", \"done\", \"much\", \"yeah\", \"kind\", \"someon\", \"think\", \"guy\", \"even\", \"still\", \"thing\", \"right\", \"ago\", \"also\", \"someth\", \"time\", \"ever\", \"sorri\", \"mayb\", \"work\", \"tri\", \"back\", \"love\", \"look\", \"actual\", \"pleas\", \"day\", \"need\", \"mani\", \"lot\", \"made\", \"first\", \"watch\", \"take\", \"last\", \"read\", \"come\", \"today\", \"way\", \"year\", \"help\", \"innovation150\", \"nums16\", \"canada2020\", \"ps32\", \"actuage10yr\", \"reconcili\", \"panther\", \"62milliongirl\", \"de2014\", \"nem2015\", \"ms328\", \"ms145\", \"bailey\", \"conasta65\", \"baf16\", \"cyclon\", \"sophia\", \"csed2016\", \"actua2015\", \"nums2015\", \"youth\", \"recipi\", \"psms95\", \"wisa2016\", \"ipdx15\", \"summer2015\", \"2016baffi\", \"inlet\", \"227\", \"scratcher\", \"scratchmit2016\", \"conasta64\", \"micro4ed16\", \"alaac15\", \"outreach\", \"actuanc2016\", \"nsta15\", \"smp2017\", \"2015baf\", \"indigen\", \"nc2017\", \"conf4ca\", \"alamw15\", \"aborigin\", \"asdc16\", \"cspc2015\", \"crafti\", \"finkel\", \"afterschool\", \"stem\", \"literaci\", \"weapon\", \"hopscotch\", \"dissect\", \"g4c14\", \"elementari\", \"4millionsmil\", \"scratch\", \"grade\", \"classroom\", \"teacher\", \"poetri\", \"educ\", \"school\", \"maker\", \"scienc\", \"class\", \"ecsite2016\", \"inspir\", \"camp\", \"art\", \"make\", \"love\", \"today\", \"code\", \"student\", \"join\", \"excit\", \"learn\", \"fun\", \"check\", \"amaz\", \"creativ\", \"day\", \"project\", \"teach\", \"design\", \"workshop\", \"come\", \"work\", \"build\", \"game\", \"help\", \"look\", \"happi\", \"foursquar\", \"regress\", \"mont\", \"implicit\", \"tensor\", \"manylinux1\", \"lyric\", \"convolut\", \"asynchron\", \"colt\", \"latent\", \"auxiliari\", \"avers\", \"interpol\", \"infer\", \"1602\", \"wrapper\", \"icml2016\", \"icml2015\", \"iclr2015\", \"hcomp2013\", \"ggplot2\", \"concis\", \"bibliographi\", \"unsupervis\", \"varianc\", \"bootstrap\", \"matric\", \"astrolog\", \"pymc3\", \"neural\", \"deep\", \"scala\", \"kdd2014\", \"probabilist\", \"classif\", \"gradient\", \"nips2014\", \"stochast\", \"convex\", \"recurr\", \"spars\", \"reinforc\", \"causal\", \"dropout\", \"residu\", \"paramet\", \"ec2\", \"interpret\", \"latex\", \"python\", \"differenti\", \"docker\", \"retriev\", \"machin\", \"statist\", \"algorithm\", \"paper\", \"2010\", \"word2vec\", \"learn\", \"semant\", \"interest\", \"data\", \"distribut\", \"topic\", \"privaci\", \"analysi\", \"text\", \"predict\", \"languag\", \"research\", \"talk\", \"model\", \"post\", \"train\", \"work\", \"search\", \"read\", \"big\", \"code\", \"time\", \"think\", \"also\", \"use\", \"comput\", \"peopl\", \"scienc\", \"open\", \"insight4al\", \"tdpartners15\", \"gift500\", \"915\", \"edw13\", \"skype4b\", \"ibminsight2015\", \"pl4\", \"ciscops16\", \"acut\", \"11ampt\", \"3cs\", \"shih\", \"sloan\", \"tdf2016\", \"g214\", \"tdf2015\", \"12et\", \"td3pi\", \"aster\", \"tcc13\", \"bettertogether25\", \"aeon\", \"windowsserver2003\", \"agil\", \"matur\", \"ddperspectives2017\", \"inspire14\", \"analyt\", \"strategi\", \"tucon2013\", \"multistag\", \"inspire16\", \"conduc\", \"smb4cloud\", \"mstr10\", \"dandelion\", \"datalove25\", \"roi\", \"jolly25\", \"desk\", \"analyst\", \"organiz\", \"enterpris\", \"busi\", \"2017careerwish\", \"manag\", \"apach\", \"certif\", \"data\", \"career\", \"market\", \"valu\", \"cloud\", \"leadership\", \"impala\", \"disrupt\", \"strateg\", \"report\", \"las\", \"latest\", \"success\", \"digit\", \"regist\", \"innov\", \"daili\", \"technolog\", \"transform\", \"custom\", \"find\", \"learn\", \"big\", \"today\", \"join\", \"need\", \"look\", \"world\", \"team\", \"encor\", \"turret\", \"cinch\", \"millimet\", \"lien\", \"innorobo2013\", \"lor\", \"boll\", \"automaton\", \"erw2016\", \"nous\", \"olfrance14\", \"maker_open\", \"sandbox15\", \"chappi\", \"devoxx4kid\", \"gopigo2\", \"brickpi3\", \"3735\", \"robot\", \"fp41\", \"637\", \"dexter\", \"ev3dev\", \"ggj13\", \"cadr\", \"pepper\", \"clockwork\", \"231\", \"iste2015\", \"robotlaunch2015\", \"erf2017\", \"icra2016\", \"ateli\", \"humanoid\", \"erf2016\", \"icra16\", \"industrie40\", \"shanghai\", \"icra15\", \"industry40\", \"willow\", \"automatica2016\", \"i40\", \"hm17\", \"raspberri\", \"drone\", \"moss\", \"soccer\", \"imts2016\", \"sur\", \"roundup\", \"compat\", \"ev3\", \"modular\", \"pour\", \"video\", \"assembl\", \"autonom\", \"kit\", \"control\", \"servo\", \"arm\", \"build\", \"industri\", \"ad\", \"sensor\", \"first\", \"project\", \"tech\", \"futur\", \"week\", \"power\", \"check\", \"day\", \"human\", \"team\", \"world\", \"maker\", \"electron\", \"come\", \"help\", \"work\", \"time\", \"look\", \"makeredchallenge2\", \"3dprint\", \"3dprin\", \"terrapin\", \"3dprintabl\", \"3dmodel\", \"3dpr\", \"fidgeti\", \"planter\", \"stereograph\", \"infil\", \"ocarina\", \"15mm\", \"featherw\", \"fab13\", \"lam2017\", \"i3dpconf\", \"z18\", \"printabl\", \"3dprintin\", \"3dpweekni\", \"72711\", \"334\", \"6800\", \"vase\", \"filament\", \"topographi\", \"extrud\", \"347\", \"e3d\", \"3dthursday\", \"3ddesign\", \"prusai3\", \"3dprinter\", \"print\", \"mk2\", \"nozzl\", \"makev57\", \"prusai3mk2\", \"slic3r\", \"3dp\", \"mk2s\", \"whm17\", \"printer\", \"3dhangout\", \"holder\", \"feather\", \"mrrf2017\", \"fidget\", \"scholarship\", \"ces2015\", \"spinner\", \"daili\", \"design\", \"dude\", \"latest\", \"live\", \"help\", \"look\", \"check\", \"hear\", \"need\", \"maker\", \"work\", \"time\", \"free\", \"made\", \"wait\", \"first\"], \"Freq\": [64286.0, 66277.0, 84636.0, 51686.0, 36414.0, 113757.0, 45946.0, 28667.0, 21606.0, 24644.0, 16953.0, 41443.0, 32042.0, 21648.0, 19645.0, 14890.0, 11017.0, 51353.0, 22439.0, 41662.0, 14350.0, 20745.0, 23013.0, 36470.0, 26822.0, 20007.0, 10031.0, 33668.0, 16711.0, 18989.0, 549.9711843860097, 341.8043656950072, 156.52001767305464, 282.1624677629686, 544.4292293924016, 146.61043553465268, 355.40658658276806, 1191.493598722927, 404.65225632949375, 125.31892905768217, 338.7553406701164, 239.54151366022367, 210.1509490518826, 428.058763804867, 632.2500564048876, 369.05775129248417, 124.7622279576747, 1856.4976129875524, 1717.9355821383176, 1832.6560320190895, 190.64950944679808, 216.43512448951097, 310.4182494755452, 590.0922490519409, 286.61932537065763, 150.97917016346085, 270.3773696552238, 460.18413901792115, 241.05113865993715, 86.38485281574083, 22439.01623850874, 6412.252922128206, 4225.471894192236, 3424.8292227115367, 2951.5324955548317, 2190.783664536649, 1814.0683861128093, 1631.112608206457, 1495.2516005172693, 1406.8709016251507, 1405.569542232928, 1292.191310619974, 1260.7423883233853, 1161.9123004241612, 1067.9429582175746, 1062.1260427165316, 824.6777824204809, 913.7557790221957, 790.9724220350587, 777.467499947054, 718.1447314545244, 717.6887029785942, 701.0155009494391, 681.5600760915188, 641.3097174686759, 3470.0382131271904, 1409.050412318306, 1062.9315021692253, 2075.3580658815295, 3126.4394969548935, 1920.04647977245, 1751.8934067128168, 3266.693253621555, 2124.42364412335, 8665.94519043403, 4502.781987417105, 16221.186302673823, 4689.893609952487, 2649.040377178832, 19308.90144862928, 3608.9099325012953, 2860.1609473577014, 4682.150993345254, 12197.312036120851, 5497.5777216269835, 7320.788591305582, 14158.258820611853, 7970.4113302073565, 6998.517156781441, 5261.29944732923, 20951.55381557565, 3990.8574358876363, 10068.841825658817, 13627.681250025991, 9172.1510026828, 13222.71202740777, 5272.382597179637, 12863.554493271375, 9091.932232454385, 29210.40198708863, 8593.991488930891, 9392.888803475591, 6456.085485307139, 27076.759206003004, 13297.747830472796, 12210.45839341421, 20438.220199179665, 20993.51349534228, 6489.677079299256, 10791.907915824457, 21029.373437652383, 17096.601117678485, 10518.800604202403, 9534.510459840187, 12611.904216522018, 14311.946710296621, 11104.024168036083, 12800.46573316071, 10734.87370356481, 11476.848817422362, 13514.984903855138, 15228.916104626049, 11984.128804889122, 10320.934877803147, 10413.478577668242, 5157.941261930098, 277.9898140780491, 463.3175819538945, 342.517888744813, 416.98563998493313, 381.9897823004647, 645.5374364480916, 333.68472609926476, 324.3217560470105, 416.98563998493313, 342.517888744813, 342.517888744813, 313.12534749824977, 4189.618352636855, 799.2108573855221, 232.84683573230126, 246.22634327910788, 1176.1853261899291, 1806.943899053773, 324.3217560470105, 12439.183771608601, 659.2253708042425, 513.7777519850788, 778.60014454591, 2440.7291002081997, 264.21433888167047, 5366.140543792614, 898.5556622847165, 2680.055475587044, 439.3087702572527, 10817.047438206588, 8230.933403527215, 6834.044788507255, 4810.349845004569, 3870.3161881718647, 3150.5702161536524, 2928.8752877969846, 2669.4906729441504, 2511.8094897881806, 1970.8384302740167, 1575.2841892089664, 1541.3369314266743, 1464.4367250306327, 1413.0429269740937, 1334.7444176042159, 1204.6286534572757, 918.6183137074219, 815.6764294164637, 995.3698992215201, 43808.93242347318, 5423.711267372842, 2406.8401828499527, 7914.626546866939, 3769.009269500676, 5864.555371231834, 4544.38699119679, 4306.445204848353, 11086.460905751132, 8223.693468221965, 11174.123928966874, 6416.8546771804695, 4632.411035027026, 20626.65026240134, 17249.193323904856, 30312.55579367766, 25167.510243349258, 15793.823915973406, 7301.224828320981, 16544.1766980805, 5237.706854019447, 13381.58808529706, 19108.18892683964, 26877.148932254368, 32790.55590395557, 18890.34892573978, 8178.146067616724, 18020.987663890723, 16225.44033792958, 42943.15487006561, 16114.53042487198, 21528.33721056192, 14713.850437877092, 9211.164382255298, 23391.995424059456, 15369.36651184042, 9658.841513052112, 14970.592829900846, 10951.95508321811, 15564.620004501803, 18002.524171740955, 14416.202025343733, 11059.61675694235, 13562.49650470396, 12656.047921105168, 11188.653065705776, 551.3884275798539, 2262.7865054340205, 1086.3201485348245, 1134.6238103020137, 1396.1501615896846, 701.312509743559, 437.1891838741383, 2769.901339474632, 675.3268392120617, 337.4801676371712, 2425.175938375061, 352.8855616147563, 436.90433679269876, 217.6516993650808, 4983.552654364855, 536.5720261572885, 847.4310879117696, 831.7588037225659, 832.3966087330557, 543.2722362440419, 1875.7621389370563, 900.6633898008571, 656.3224598063932, 3615.5769210112817, 2333.7158156303108, 1201.064718767885, 1996.7297475139155, 445.3345662407369, 370.3829999879091, 1042.6740706083383, 14328.144017165429, 21441.462386197534, 7567.638256769837, 4036.6359766822, 3779.931245007871, 3292.2024140194285, 3136.1283648520275, 2985.719348885158, 2849.6562662700558, 2723.196376649255, 2604.695631185338, 1850.4541954968197, 2712.8781519884637, 1745.5206829883118, 1618.8411181304587, 1260.9658776156075, 1098.2892812974387, 2464.753940121801, 1888.66984650612, 3298.9933218045517, 20000.21193552127, 4204.565055663925, 3019.098323321427, 1966.1115966976145, 24622.87047918861, 5665.915585278311, 5044.456148133504, 12922.958116977497, 6868.159066387119, 2334.724749290701, 48329.257130686994, 4960.248195003224, 14510.196488824677, 32833.21855397763, 4651.477728892885, 4058.3970851594795, 4929.961063800691, 6434.014038573447, 5156.653751612885, 6128.94616505504, 5471.019391471943, 8032.7921255298525, 11607.949686942182, 7040.965236975634, 10339.817209766019, 6987.558762932689, 12755.669797194534, 5555.752076748741, 8055.4278509078, 7884.184219989319, 7831.506270359884, 9221.724055432853, 7644.017639111843, 6610.704725248491, 6228.63156583347, 5856.476132640208, 6112.209055573147, 6153.116931477002, 5707.591638565128, 379.9768183037961, 576.8807651915149, 906.0925502439588, 1112.7732760625004, 2274.8492948976236, 791.9174873375691, 332.47948125773365, 250.07792153601417, 875.2774205378081, 531.2079482377382, 576.8807651915149, 466.19225901605876, 578.3532246107443, 1009.463690416885, 5668.473579551562, 333.4378547362534, 10402.3735773036, 821.4192434098995, 4834.0568644802415, 915.1054639375388, 1516.5655705768477, 541.8376877368514, 1241.1670251169003, 291.75788813613383, 7127.522604767634, 2026.4186158233529, 875.2774205378081, 1326.9946394966537, 51686.68844939146, 16953.04812996789, 2559.2056915179137, 2458.0073083059488, 2138.6792194706236, 1852.2734638697368, 1516.5655705768477, 1232.2091739565572, 1229.0027151206225, 1115.1912644690349, 3546.475737551106, 627.2942646105245, 9396.466953915236, 3741.9302705498976, 1693.3923789992004, 10502.97774555713, 20023.201503305754, 4290.7243591976885, 11157.185338537967, 15083.083844217801, 7351.722360725781, 51045.38903404482, 9012.276434338088, 14283.824930197543, 10416.946318870336, 14178.066459030768, 6751.935358164708, 7546.43828541427, 4225.863711029728, 3251.3856708928083, 7184.919236272709, 6450.828736133416, 12874.226304782629, 9316.923454896083, 12519.809874444247, 9952.583556957574, 11298.409797542987, 7004.541395741291, 9936.649928092476, 5907.647636724715, 7880.291321558826, 11083.744218286012, 19752.645461583226, 10212.297264268489, 10387.044444309544, 8637.435549007063, 8965.10080475691, 8245.510474480183, 7695.882144175653, 7549.97835447102, 577.7154791294952, 271.3522611068453, 675.2620043275788, 474.120759859008, 373.68114863472186, 320.29789349871226, 299.91395953219245, 417.98599811543295, 920.4413576919438, 566.768168030956, 3247.945254433701, 320.29789349871226, 669.2189251349314, 1825.3139674419747, 583.8453024634205, 960.8969551308292, 2251.2209418858165, 608.4368976024273, 365.0614836345179, 66277.71039438565, 587.2141691787609, 486.74919061847265, 3399.3912638276342, 346.77219680957495, 427.0644037707317, 228.48652756295346, 7674.748275023842, 608.5929401563287, 507.53913491523485, 2299.703236879774, 3808.7710537492103, 2284.021384694326, 2995.443379144274, 1398.329938644401, 3822.590639545491, 1245.1741509389901, 1245.1741509389901, 6260.740611904082, 3178.39429673181, 952.191647760679, 4065.0899103938073, 1420.2498163470502, 1756.1996439178838, 1304.6051015212568, 3253.6268184265086, 21846.746199174515, 13214.635335478648, 7529.824363610938, 1371.2675002355147, 1836.9318265294755, 3029.329028222543, 4388.4891760407745, 4702.952930274437, 2287.032305145158, 4672.225647788297, 3732.8365752604127, 19394.01045186468, 3642.366613683389, 4876.657850880689, 12876.2153296315, 7302.744150833494, 3992.831922421967, 4023.9875699004747, 12981.393502421812, 5894.805194080965, 4158.090248689866, 4697.512287132252, 8321.601263240816, 7478.857743759135, 7087.731831092947, 6384.996922658166, 6428.66266126544, 5853.531552271, 6679.5083801940855, 7001.735645546021, 4728.133654237614, 5559.440797667159, 5417.122196725608, 5548.109851954191, 4618.413151692015, 5286.515325393429, 4996.021707639574, 5098.400169033277, 5067.534310963961, 4911.988963635423, 345.979491950175, 64286.45072686131, 419.70186215509517, 403.6430204955423, 1130.076813488419, 914.876583552311, 581.1152012134385, 265.858562478709, 853.3367406628796, 357.5060124608125, 721.9094264155458, 307.7635155193633, 424.7217974769059, 441.7513778274983, 5141.887083571751, 5673.80660488221, 964.1760262707134, 2188.54262328201, 3640.8267438666467, 400.2483073096226, 497.60269288244785, 710.8616559986153, 1706.070150540729, 1706.070150540729, 1121.076022497476, 5728.330271579131, 164.93377796167277, 3910.79721084516, 1684.2750655054772, 587.1112876195372, 9650.747499461866, 2487.3610884451214, 5463.062113476056, 8437.973860025682, 28233.498225265696, 6496.82180568255, 4957.488736051119, 1412.812776393767, 1509.5292387297109, 2229.4738101422327, 1279.4637053837812, 1650.8552049872892, 1261.4398166335445, 8882.184142803399, 1160.52451012673, 2370.121272539155, 2014.292766062788, 3199.0650011697726, 1947.1902306584761, 2774.6286647850193, 3102.8693316604163, 1841.1103619070475, 4455.860970137246, 6942.46956970125, 2816.2397950945324, 4207.636550863467, 3884.977869473852, 4277.495569655123, 4341.301600120893, 4172.164202101096, 3170.482489498344, 3760.081749947373, 3616.5918332128717, 3768.4259899129625, 3635.1821665299194, 3224.132705644368, 3214.3417675269698, 3029.0186623307686, 3119.430034829455], \"Total\": [64286.0, 66277.0, 84636.0, 51686.0, 36414.0, 113757.0, 45946.0, 28667.0, 21606.0, 24644.0, 16953.0, 41443.0, 32042.0, 21648.0, 19645.0, 14890.0, 11017.0, 51353.0, 22439.0, 41662.0, 14350.0, 20745.0, 23013.0, 36470.0, 26822.0, 20007.0, 10031.0, 33668.0, 16711.0, 18989.0, 549.9711843860097, 341.8043656950072, 156.52001767305464, 282.1624677629686, 544.4292293924016, 146.61043553465268, 355.40658658276806, 1191.493598722927, 404.65225632949375, 125.31892905768217, 338.7553406701164, 239.54151366022367, 210.1509490518826, 428.058763804867, 632.2500564048876, 369.05775129248417, 124.7622279576747, 1856.4976129875524, 1717.9355821383176, 1832.6560320190895, 190.64950944679808, 216.43512448951097, 310.4182494755452, 590.0922490519409, 286.61932537065763, 150.97917016346085, 270.3773696552238, 460.18413901792115, 241.05113865993715, 86.38485281574083, 22439.01623850874, 6412.252922128206, 4225.471894192236, 3424.8292227115367, 2951.5324955548317, 2190.783664536649, 1814.0683861128093, 1631.112608206457, 1495.2516005172693, 1406.8709016251507, 1405.569542232928, 1292.191310619974, 1260.7423883233853, 1161.9123004241612, 1067.9429582175746, 1062.1260427165316, 824.6777824204809, 914.7166389279366, 790.9724220350587, 777.467499947054, 718.1447314545244, 717.6887029785942, 701.0155009494391, 681.5600760915188, 641.3097174686759, 3584.1404580506414, 1434.5816186141049, 1082.4901580405242, 2194.489493062901, 3384.6283840472215, 2030.745726246338, 1842.3119630876943, 3601.2178013796124, 2277.284644528986, 10468.497727115191, 5216.976981278688, 22312.48895511205, 5590.754344697631, 2962.6209613376686, 29119.774802037453, 4252.586444683717, 3246.942740055154, 5769.640324934227, 17659.9050610743, 7049.067953240461, 10005.885289544314, 22087.895157879288, 11139.197325764744, 9524.552145943291, 6759.671546200325, 35733.29389316037, 4866.679304763842, 15085.151669208883, 22667.66279172458, 13860.452021641426, 22144.9932026888, 6931.3865784954, 21503.948833725866, 13888.518601394426, 63006.52209207531, 13332.572926315039, 15190.321230779587, 9135.499273406118, 70840.05526976135, 26101.438958438826, 23299.83664114194, 51353.38005171255, 54558.57703212766, 9282.448863847609, 20678.256390931034, 62217.3955580386, 44873.04833679946, 20562.414693472972, 17631.91095849897, 29228.62103860874, 38436.98421066852, 24330.076798889022, 33582.415060126965, 23066.27092306956, 27671.435801435313, 42622.95846210903, 67670.13365538216, 36860.80457021141, 28831.688478275137, 41700.907260132946, 5157.941261930098, 277.9898140780491, 463.3175819538945, 342.517888744813, 416.98563998493313, 381.9897823004647, 645.5374364480916, 333.68472609926476, 324.3217560470105, 416.98563998493313, 342.517888744813, 342.517888744813, 313.12534749824977, 4189.618352636855, 799.2108573855221, 232.84683573230126, 246.22634327910788, 1176.1853261899291, 1806.943899053773, 324.3217560470105, 12439.183771608601, 659.2253708042425, 513.7777519850788, 778.60014454591, 2440.7291002081997, 264.21433888167047, 5366.140543792614, 898.5556622847165, 2680.055475587044, 439.3087702572527, 10817.047438206588, 8230.933403527215, 6834.044788507255, 4810.349845004569, 3870.3161881718647, 3150.5702161536524, 2928.8752877969846, 2669.4906729441504, 2511.8094897881806, 1975.2851081856372, 1575.2841892089664, 1541.3369314266743, 1464.4367250306327, 1413.0429269740937, 1334.7444176042159, 1204.6286534572757, 918.6183137074219, 815.6764294164637, 998.5816382579276, 45946.056771979274, 5581.335181007853, 2442.743755079388, 8239.820527803424, 3884.766004341713, 6140.9535778606205, 4766.619260936132, 4542.0474149004585, 12358.036358893292, 9180.673767350105, 12810.483797192614, 7151.8116180717125, 5041.107022824094, 26056.49669384382, 21539.14564667376, 41443.64081369918, 33668.610135149305, 20517.155762812028, 8579.814722353567, 22380.96623195237, 5849.842722779933, 18945.869339311404, 31339.045045395807, 51353.38005171255, 67670.13365538216, 32886.03597528996, 10685.633438784556, 31600.03789753615, 27926.63582785314, 113757.47657047247, 28618.73682411911, 48370.03442040268, 27486.825870039032, 12933.190846570307, 62217.3955580386, 33508.60158070207, 14449.520874394557, 36470.567339355635, 18884.569421570723, 42622.95846210903, 70840.05526976135, 43954.41135071288, 21270.39887460833, 41700.907260132946, 54558.57703212766, 28148.605299662602, 551.3884275798539, 2262.7865054340205, 1086.3201485348245, 1134.6238103020137, 1396.1501615896846, 701.312509743559, 437.1891838741383, 2769.901339474632, 675.3268392120617, 337.4801676371712, 2425.175938375061, 352.8855616147563, 436.90433679269876, 217.6516993650808, 4983.552654364855, 536.5720261572885, 847.4310879117696, 831.7588037225659, 832.3966087330557, 543.2722362440419, 1875.7621389370563, 900.6633898008571, 656.3224598063932, 3615.5769210112817, 2333.7158156303108, 1201.064718767885, 1996.7297475139155, 445.3345662407369, 370.3829999879091, 1042.6740706083383, 14350.937413220674, 21606.974681836833, 7567.638256769837, 4036.6359766822, 3779.931245007871, 3292.2024140194285, 3136.1283648520275, 2985.719348885158, 2849.6562662700558, 2723.196376649255, 2604.695631185338, 1850.4541954968197, 2723.383824400885, 1745.5206829883118, 1618.8411181304587, 1260.9658776156075, 1098.2892812974387, 2501.6273571219017, 1909.063193360725, 3373.9508149787143, 21648.333159183163, 4455.301386480768, 3151.876342946398, 2008.6593617843641, 32042.749586865917, 6780.892385085309, 5986.198603019113, 18329.126668743957, 8786.807083482117, 2464.9040420355345, 113757.47657047247, 6412.911138587896, 26080.610552968697, 84636.38481709735, 6070.072156467038, 5072.590985761693, 6737.229455363053, 10025.582842434473, 7319.692331529939, 9732.524411872371, 8463.400064717463, 16333.845312857859, 31554.639141545056, 15534.744186847995, 34815.22866994414, 16739.71329151354, 70840.05526976135, 10391.302761909848, 27671.435801435313, 30147.82686193607, 32886.03597528996, 63006.52209207531, 35733.29389316037, 21503.948833725866, 19113.78956144091, 17071.122704467947, 29119.774802037453, 33668.610135149305, 28222.695455546494, 379.9768183037961, 576.8807651915149, 906.0925502439588, 1112.7732760625004, 2274.8492948976236, 791.9174873375691, 332.47948125773365, 250.07792153601417, 875.2774205378081, 531.2079482377382, 576.8807651915149, 466.19225901605876, 578.3532246107443, 1009.463690416885, 5668.473579551562, 333.4378547362534, 10402.3735773036, 821.4192434098995, 4834.0568644802415, 915.1054639375388, 1516.5655705768477, 541.8376877368514, 1241.1670251169003, 291.75788813613383, 7127.522604767634, 2026.4186158233529, 875.2774205378081, 1326.9946394966537, 51686.68844939146, 16953.04812996789, 2559.2056915179137, 2458.0073083059488, 2138.6792194706236, 1852.2734638697368, 1516.5655705768477, 1232.2091739565572, 1229.0027151206225, 1115.1912644690349, 3599.4687361038636, 627.2942646105245, 9769.531359672595, 3952.393854450097, 1748.9601092767543, 12128.742107071637, 24644.841496466423, 4836.072927476624, 13682.572439859947, 19645.526624724203, 9031.54549120489, 84636.38481709735, 11827.230022824879, 20007.69836895573, 13971.260619226083, 20745.774778948176, 8764.72444446815, 10340.583963222678, 5198.142163751507, 3804.440388696953, 10159.246861438693, 9256.825730127483, 23013.182849595894, 15159.365646278371, 23952.704786819693, 18989.587742710137, 23769.111759207644, 11966.99621202244, 22395.581196612005, 9060.811481137482, 15356.274512062719, 30178.847155665124, 113757.47657047247, 30147.82686193607, 67670.13365538216, 31600.03789753615, 44873.04833679946, 54558.57703212766, 33181.80554286936, 29767.858434117563, 577.7154791294952, 271.3522611068453, 675.2620043275788, 474.120759859008, 373.68114863472186, 320.29789349871226, 299.91395953219245, 417.98599811543295, 920.4413576919438, 566.768168030956, 3247.945254433701, 320.29789349871226, 669.2189251349314, 1825.3139674419747, 583.8453024634205, 960.8969551308292, 2251.2209418858165, 608.4368976024273, 365.0614836345179, 66277.71039438565, 587.2141691787609, 486.74919061847265, 3399.3912638276342, 346.77219680957495, 427.0644037707317, 229.0184582927463, 7734.807474347918, 613.900937442979, 513.1421717171339, 2337.6670130939096, 3906.188703395179, 2330.7445364498562, 3068.1597109004315, 1422.147223315598, 3989.564422096779, 1277.0211917130337, 1277.0211917130337, 6666.797315841365, 3329.420323208955, 976.5449046636453, 4377.24897937591, 1479.221841200449, 1857.336124702086, 1379.7342575004745, 3658.970779673745, 28667.216397465996, 16711.674541234817, 9193.980207691904, 1472.5611293552442, 2051.5394837699646, 3595.8033815302965, 5511.766646294565, 6062.8134199666, 2659.0226224309527, 6177.39125514975, 4757.7712925355545, 41662.527632429286, 5019.940168953102, 7357.982587938949, 26822.73362870404, 13241.655515891165, 6349.063932123048, 6494.212695580077, 43954.41135071288, 15350.280473498477, 7683.109375055542, 10738.004276566795, 38436.98421066852, 33508.60158070207, 31945.452529941336, 26638.237901119286, 32166.39689906807, 23574.673714122717, 48370.03442040268, 62217.3955580386, 12827.439208437258, 29767.858434117563, 33181.80554286936, 41443.64081369918, 15182.999979771519, 42622.95846210903, 41700.907260132946, 70840.05526976135, 63006.52209207531, 54558.57703212766, 345.979491950175, 64286.45072686131, 419.70186215509517, 403.6430204955423, 1130.076813488419, 914.876583552311, 581.1152012134385, 265.858562478709, 872.5799597204618, 368.181933365195, 749.4755690856814, 319.89597218590905, 443.22508948984057, 461.30518185526597, 5395.911028022534, 5954.109072988031, 1024.4874242500703, 2329.087176334277, 3897.8130687947605, 430.05144666043526, 535.6979419628898, 765.2841108932348, 1836.6862325681768, 1836.6862325681768, 1213.6333399123437, 6241.288732009517, 183.77477988603474, 4371.000997261543, 1900.8153101399967, 664.2936599384104, 11017.425160288192, 2847.032831712902, 6332.163610693656, 10031.254195893998, 36414.6269817472, 7783.775330538061, 5903.9430188155975, 1613.0173496492698, 1749.6747699001478, 2679.786258900254, 1462.7351569721288, 1945.185210235179, 1440.1937438804464, 14890.405300713914, 1324.9780067012314, 3196.2580143805453, 2661.3226761967385, 4880.943409153133, 2595.557800999737, 4278.428303505412, 5036.01057765833, 2633.6201009683514, 11966.99621202244, 36470.567339355635, 7144.200434512035, 23013.182849595894, 27343.89541728141, 41700.907260132946, 54558.57703212766, 48370.03442040268, 18024.01231044362, 44873.04833679946, 41443.64081369918, 70840.05526976135, 63006.52209207531, 28431.919808170976, 29228.62103860874, 18043.54613202923, 38436.98421066852], \"logprob\": [30.0, 29.0, 28.0, 27.0, 26.0, 25.0, 24.0, 23.0, 22.0, 21.0, 20.0, 19.0, 18.0, 17.0, 16.0, 15.0, 14.0, 13.0, 12.0, 11.0, 10.0, 9.0, 8.0, 7.0, 6.0, 5.0, 4.0, 3.0, 2.0, 1.0, -9.1191, -9.5947, -10.3758, -9.7865, -9.1292, -10.4412, -9.5557, -8.346, -9.426, -10.5981, -9.6037, -9.9503, -10.0812, -9.3697, -8.9797, -9.518, -10.6026, -7.9025, -7.9801, -7.9155, -10.1786, -10.0517, -9.6911, -9.0487, -9.7708, -10.4118, -9.8292, -9.2974, -9.944, -10.9702, -5.4104, -6.663, -7.0801, -7.2902, -7.4389, -7.737, -7.9257, -8.032, -8.1189, -8.1799, -8.1808, -8.2649, -8.2895, -8.3712, -8.4555, -8.461, -8.714, -8.6114, -8.7557, -8.7729, -8.8523, -8.853, -8.8765, -8.9046, -8.9655, -7.2771, -8.1783, -8.4602, -7.7911, -7.3813, -7.8689, -7.9605, -7.3375, -7.7677, -6.3618, -7.0165, -5.7349, -6.9758, -7.547, -5.5607, -7.2378, -7.4704, -6.9775, -6.02, -6.8169, -6.5305, -5.8709, -6.4455, -6.5755, -6.8609, -5.479, -7.1372, -6.2118, -5.9091, -6.3051, -5.9393, -6.8587, -5.9668, -6.3138, -5.1467, -6.3702, -6.2813, -6.6562, -5.2226, -5.9336, -6.0189, -5.5038, -5.477, -6.651, -6.1424, -5.4753, -5.6824, -6.1681, -6.2663, -5.9866, -5.8601, -6.1139, -5.9718, -6.1477, -6.0809, -5.9174, -5.798, -6.0376, -6.1871, -6.1781, -6.5693, -9.4901, -8.9792, -9.2813, -9.0846, -9.1722, -8.6476, -9.3074, -9.3359, -9.0846, -9.2813, -9.2813, -9.371, -6.7773, -8.434, -9.6673, -9.6114, -8.0476, -7.6182, -9.3359, -5.689, -8.6266, -8.8758, -8.4601, -7.3176, -9.5409, -6.5298, -8.3169, -7.224, -9.0324, -5.8288, -6.102, -6.288, -6.6391, -6.8565, -7.0623, -7.1353, -7.228, -7.2889, -7.5314, -7.7554, -7.7772, -7.8284, -7.8641, -7.9211, -8.0237, -8.2948, -8.4136, -8.2145, -4.43, -6.5191, -7.3316, -6.1412, -6.8831, -6.441, -6.696, -6.7498, -5.8042, -6.1029, -5.7963, -6.351, -6.6768, -5.1833, -5.3621, -4.7983, -4.9843, -5.4503, -6.2218, -5.4038, -6.554, -5.616, -5.2598, -4.9186, -4.7197, -5.2712, -6.1084, -5.3183, -5.4233, -4.45, -5.4302, -5.1405, -5.5211, -5.9895, -5.0575, -5.4775, -5.942, -5.5038, -5.8164, -5.4649, -5.3194, -5.5415, -5.8066, -5.6026, -5.6717, -5.795, -8.4449, -7.033, -7.7668, -7.7233, -7.5158, -8.2044, -8.677, -6.8308, -8.2421, -8.9358, -6.9637, -8.8912, -8.6776, -9.3744, -6.2434, -8.4721, -8.0151, -8.0338, -8.033, -8.4597, -7.2206, -7.9542, -8.2707, -6.5643, -7.0021, -7.6664, -7.1581, -8.6585, -8.8428, -7.8078, -5.1873, -4.7842, -5.8257, -6.4542, -6.5199, -6.658, -6.7066, -6.7557, -6.8024, -6.8478, -6.8923, -7.2341, -6.8516, -7.2925, -7.3679, -7.6177, -7.7558, -6.9475, -7.2137, -6.6559, -4.8538, -6.4134, -6.7446, -7.1735, -4.6459, -6.1151, -6.2313, -5.2906, -5.9227, -7.0017, -3.9715, -6.2481, -5.1747, -4.3581, -6.3124, -6.4488, -6.2542, -5.988, -6.2093, -6.0365, -6.1501, -5.766, -5.3979, -5.8978, -5.5136, -5.9054, -5.3036, -6.1347, -5.7632, -5.7847, -5.7914, -5.628, -5.8156, -5.9609, -6.0204, -6.082, -6.0393, -6.0326, -6.1078, -8.6305, -8.213, -7.7615, -7.556, -6.841, -7.8962, -8.7641, -9.0489, -7.7961, -8.2955, -8.213, -8.426, -8.2104, -7.6535, -5.928, -8.7612, -5.3208, -7.8596, -6.0872, -7.7516, -7.2464, -8.2757, -7.4468, -8.8947, -5.6989, -6.9566, -7.7961, -7.38, -3.7177, -4.8324, -6.7232, -6.7635, -6.9027, -7.0465, -7.2464, -7.4541, -7.4567, -7.5538, -6.3969, -8.1292, -5.4225, -6.3433, -7.1361, -5.3112, -4.666, -6.2064, -5.2508, -4.9493, -5.6679, -3.7302, -5.4643, -5.0037, -5.3194, -5.0112, -5.753, -5.6418, -6.2217, -6.4838, -5.6909, -5.7987, -5.1076, -5.431, -5.1356, -5.365, -5.2382, -5.7163, -5.3666, -5.8866, -5.5985, -5.2574, -4.6796, -5.3393, -5.3223, -5.5068, -5.4695, -5.5532, -5.6222, -5.6413, -8.1577, -8.9134, -8.0017, -8.3553, -8.5934, -8.7475, -8.8133, -8.4813, -7.6919, -8.1768, -6.431, -8.7475, -8.0107, -7.0073, -8.1472, -7.6489, -6.7976, -8.1059, -8.6167, -3.4152, -8.1414, -8.329, -6.3854, -8.6681, -8.4599, -9.0853, -5.5711, -8.1056, -8.2872, -6.7763, -6.2717, -6.7831, -6.5119, -7.2738, -6.2681, -7.3898, -7.3898, -5.7747, -6.4527, -7.658, -6.2066, -7.2582, -7.0459, -7.3431, -6.4293, -4.525, -5.0277, -5.5902, -7.2933, -7.0009, -6.5007, -6.13, -6.0608, -6.7818, -6.0674, -6.2919, -4.6441, -6.3164, -6.0246, -5.0537, -5.6208, -6.2245, -6.2168, -5.0455, -5.835, -6.184, -6.062, -5.4902, -5.597, -5.6507, -5.7551, -5.7483, -5.842, -5.71, -5.6629, -6.0555, -5.8935, -5.9195, -5.8956, -6.079, -5.9439, -6.0004, -5.9801, -5.9862, -6.0174, -8.0009, -2.7761, -7.8077, -7.8467, -6.8172, -7.0285, -7.4823, -8.2643, -7.0981, -7.9681, -7.2653, -8.1179, -7.7958, -7.7565, -5.3021, -5.2036, -6.976, -6.1563, -5.6473, -7.8552, -7.6374, -7.2808, -6.4053, -6.4053, -6.8252, -5.1941, -8.7417, -5.5757, -6.4182, -7.472, -4.6725, -6.0283, -5.2415, -4.8067, -3.599, -5.0682, -5.3386, -6.5939, -6.5277, -6.1377, -6.693, -6.4382, -6.7072, -4.7554, -6.7906, -6.0765, -6.2392, -5.7766, -6.2731, -5.919, -5.8072, -6.3291, -5.4453, -5.0018, -5.9041, -5.5026, -5.5824, -5.4861, -5.4713, -5.5111, -5.7856, -5.615, -5.654, -5.6128, -5.6488, -5.7688, -5.7719, -5.8313, -5.8018]}, \"mdsDat\": {\"y\": [0.08738447931027389, -0.09528641800918194, 0.1748939712277007, -0.13806851192863445, -0.05201040950056722, 0.023086888900409087], \"topics\": [1, 2, 3, 4, 5, 6], \"Freq\": [30.539660442734373, 22.369045546816817, 15.601402489383553, 12.94448170699428, 12.265951787307479, 6.27945802676349], \"cluster\": [1, 1, 1, 1, 1, 1], \"x\": [0.03315657740403045, 0.04519654523256066, -0.1480558626019833, -0.19879898187061185, 0.08446941145721176, 0.18403231037879259]}, \"plot.opts\": {\"xlab\": \"PC1\", \"ylab\": \"PC2\"}, \"lambda.step\": 0.01, \"topic.order\": [1, 5, 2, 6, 3, 4], \"R\": 30};\n",
       "\n",
       "function LDAvis_load_lib(url, callback){\n",
       "  var s = document.createElement('script');\n",
       "  s.src = url;\n",
       "  s.async = true;\n",
       "  s.onreadystatechange = s.onload = callback;\n",
       "  s.onerror = function(){console.warn(\"failed to load library \" + url);};\n",
       "  document.getElementsByTagName(\"head\")[0].appendChild(s);\n",
       "}\n",
       "\n",
       "if(typeof(LDAvis) !== \"undefined\"){\n",
       "   // already loaded: just create the visualization\n",
       "   !function(LDAvis){\n",
       "       new LDAvis(\"#\" + \"ldavis_el1049221179059802962668252011\", ldavis_el1049221179059802962668252011_data);\n",
       "   }(LDAvis);\n",
       "}else if(typeof define === \"function\" && define.amd){\n",
       "   // require.js is available: use it to load d3/LDAvis\n",
       "   require.config({paths: {d3: \"https://cdnjs.cloudflare.com/ajax/libs/d3/3.5.5/d3.min\"}});\n",
       "   require([\"d3\"], function(d3){\n",
       "      window.d3 = d3;\n",
       "      LDAvis_load_lib(\"https://cdn.rawgit.com/bmabey/pyLDAvis/files/ldavis.v1.0.0.js\", function(){\n",
       "        new LDAvis(\"#\" + \"ldavis_el1049221179059802962668252011\", ldavis_el1049221179059802962668252011_data);\n",
       "      });\n",
       "    });\n",
       "}else{\n",
       "    // require.js not available: dynamically load d3 & LDAvis\n",
       "    LDAvis_load_lib(\"https://cdnjs.cloudflare.com/ajax/libs/d3/3.5.5/d3.min.js\", function(){\n",
       "         LDAvis_load_lib(\"https://cdn.rawgit.com/bmabey/pyLDAvis/files/ldavis.v1.0.0.js\", function(){\n",
       "                 new LDAvis(\"#\" + \"ldavis_el1049221179059802962668252011\", ldavis_el1049221179059802962668252011_data);\n",
       "            })\n",
       "         });\n",
       "}\n",
       "</script>"
      ],
      "text/plain": [
       "<IPython.core.display.HTML object>"
      ]
     },
     "execution_count": 293,
     "metadata": {},
     "output_type": "execute_result"
    }
   ],
   "source": [
    "# Fit the NMF model\n",
    "print(\"Fitting the NMF model with tf-idfDense2 features, \" \"n_samples=%d and n_features=%d...\" % (n_samples, n_features))\n",
    "t0 = time()\n",
    "nmf = NMF(n_components=n_topics, random_state=1, alpha=.1, l1_ratio=.5).fit(tfidfDense2)\n",
    "print(\"done in %0.3fs.\" % (time() - t0))\n",
    "\n",
    "print(\"\\nTopics in NMF model:\")\n",
    "tfidf_feature_names = tfidf_vectorizer.get_feature_names()\n",
    "print_top_words(nmf, tfidf_feature_names, n_top_words)\n",
    "\n",
    "tfidfDense2sparse = sparse.csr_matrix(tfidfDense2)\n",
    "\n",
    "#http://nbviewer.jupyter.org/github/bmabey/pyLDAvis/blob/master/notebooks/sklearn.ipynb#topic=0&lambda=1&term=\n",
    "nmf_vis_data = pyLDAvis.sklearn.prepare(nmf, tfidfDense2sparse, tfidf_vectorizer)\n",
    "pyLDAvis.display(nmf_vis_data)"
   ]
  },
  {
   "cell_type": "markdown",
   "metadata": {},
   "source": [
    "Burasi klbnmf ten elde ettigimiz matrisleri birbiriyle carparak tum bir asil matrisi olusturup bunu nmf e sokuyoruz. Asil maksat yuvarlakli gorseli elde etmek."
   ]
  },
  {
   "cell_type": "code",
   "execution_count": 294,
   "metadata": {
    "collapsed": false
   },
   "outputs": [
    {
     "name": "stdout",
     "output_type": "stream",
     "text": [
      "Fitting the KLBNMF model with tf-idf(klbnmf['E_T']*klbnmf['E_V']) features, n_samples=86 and n_features=8346...\n",
      "done in 0.288s.\n",
      "\n",
      "Topics in NMF model:\n",
      "Topic #0:\n",
      "(robot, 0.020638)  (raspberri, 0.008837)  (kit, 0.006912)  (video, 0.006500)  (project, 0.005672)  (build, 0.005319)  (check, 0.004639)  \n",
      "Topic #1:\n",
      "(data, 0.013971)  (learn, 0.013928)  (machin, 0.006397)  (deep, 0.005747)  (work, 0.005716)  (python, 0.005161)  (interest, 0.004843)  \n",
      "Topic #2:\n",
      "(trump, 0.009387)  (time, 0.006389)  (peopl, 0.005227)  (love, 0.004533)  (think, 0.004455)  (work, 0.004136)  (day, 0.004133)  \n",
      "Topic #3:\n",
      "(learn, 0.011873)  (stem, 0.009998)  (today, 0.007903)  (love, 0.007885)  (maker, 0.007793)  (day, 0.006371)  (scienc, 0.005840)  \n",
      "Topic #4:\n",
      "(analyt, 0.009988)  (data, 0.008354)  (innov, 0.006202)  (busi, 0.005935)  (learn, 0.005738)  (team, 0.005422)  (market, 0.005255)  \n",
      "Topic #5:\n",
      "(3dprint, 0.013957)  (print, 0.007923)  (look, 0.005854)  (work, 0.005543)  (time, 0.005198)  (love, 0.004362)  (sorri, 0.004216)  \n",
      "\n"
     ]
    },
    {
     "data": {
      "text/html": [
       "\n",
       "<link rel=\"stylesheet\" type=\"text/css\" href=\"https://cdn.rawgit.com/bmabey/pyLDAvis/files/ldavis.v1.0.0.css\">\n",
       "\n",
       "\n",
       "<div id=\"ldavis_el1049221179059798161197247914\"></div>\n",
       "<script type=\"text/javascript\">\n",
       "\n",
       "var ldavis_el1049221179059798161197247914_data = {\"token.table\": {\"Topic\": [3, 4, 6, 5, 1, 2, 6, 6, 6, 2, 1, 5, 3, 5, 3, 5, 1, 3, 4, 5, 6, 3, 5, 6, 5, 2, 6, 3, 5, 3, 3, 5, 5, 3, 3, 3, 3, 6, 3, 3, 1, 2, 3, 4, 5, 6, 3, 4, 1, 3, 4, 3, 4, 1, 2, 3, 4, 1, 2, 3, 4, 1, 1, 2, 3, 4, 6, 1, 2, 3, 4, 5, 6, 1, 2, 3, 4, 5, 6, 1, 2, 3, 4, 2, 3, 4, 2, 3, 4, 6, 1, 2, 3, 4, 5, 6, 1, 2, 3, 4, 5, 6, 3, 3, 4, 3, 4, 3, 4, 5, 1, 2, 3, 4, 5, 6, 6, 3, 4, 2, 1, 1, 2, 3, 4, 5, 6, 1, 6, 1, 2, 3, 4, 5, 6, 2, 1, 1, 2, 3, 4, 5, 6, 1, 2, 3, 4, 5, 6, 1, 2, 3, 4, 5, 6, 6, 1, 2, 3, 4, 1, 3, 4, 2, 3, 4, 5, 6, 1, 5, 1, 6, 1, 2, 3, 4, 5, 6, 1, 2, 1, 2, 3, 4, 5, 6, 2, 1, 3, 4, 5, 1, 3, 4, 5, 1, 3, 5, 6, 1, 2, 3, 4, 6, 2, 5, 6, 5, 1, 2, 3, 4, 5, 6, 1, 2, 3, 4, 5, 6, 3, 4, 2, 3, 5, 6, 1, 3, 6, 3, 4, 3, 4, 6, 1, 2, 3, 4, 5, 6, 2, 2, 1, 2, 3, 4, 5, 6, 2, 1, 5, 3, 4, 1, 1, 3, 1, 2, 3, 4, 5, 6, 2, 6, 5, 1, 2, 3, 5, 1, 3, 4, 5, 6, 1, 2, 3, 4, 6, 1, 3, 1, 3, 1, 2, 3, 4, 5, 6, 5, 6, 1, 2, 3, 4, 5, 6, 3, 1, 2, 3, 4, 5, 6, 3, 4, 6, 2, 4, 6, 1, 2, 3, 4, 5, 6, 3, 1, 2, 3, 4, 5, 6, 6, 2, 6, 2, 3, 4, 6, 3, 6, 3, 4, 2, 5, 1, 1, 1, 2, 3, 4, 5, 6, 6, 1, 2, 3, 4, 5, 1, 2, 3, 1, 2, 3, 4, 5, 6, 1, 3, 4, 6, 5, 1, 2, 1, 6, 6, 3, 1, 2, 3, 4, 5, 6, 6, 1, 2, 3, 4, 5, 6, 5, 5, 5, 3, 1, 1, 5, 5, 6, 1, 2, 3, 4, 5, 6, 1, 2, 3, 4, 5, 6, 6, 1, 1, 3, 4, 5, 6, 5, 1, 2, 3, 4, 5, 6, 1, 2, 3, 4, 5, 6, 3, 4, 6, 1, 3, 4, 5, 6, 5, 6, 1, 2, 3, 4, 5, 2, 3, 5, 6, 3, 1, 2, 3, 4, 6, 2, 6, 3, 1, 2, 3, 5, 6, 1, 2, 3, 4, 5, 6, 1, 2, 3, 4, 5, 6, 3, 4, 3, 5, 1, 3, 2, 3, 5, 6, 2, 1, 2, 3, 3, 4, 2, 6, 2, 3, 4, 5, 6, 3, 4, 3, 4, 2, 1, 2, 3, 4, 5, 6, 3, 4, 1, 2, 1, 2, 3, 4, 5, 6, 1, 2, 3, 4, 6, 1, 2, 3, 4, 5, 6, 3, 1, 1, 1, 3, 5, 1, 2, 3, 4, 5, 6, 2, 1, 2, 3, 4, 5, 6, 1, 2, 3, 4, 5, 6, 5, 1, 2, 3, 4, 6, 1, 4, 6, 1, 3, 5, 6, 1, 2, 3, 4, 5, 6, 1, 2, 3, 4, 5, 6, 2, 1, 2, 3, 4, 1, 2, 3, 4, 5, 6, 1, 3, 4, 5, 6, 1, 1, 4, 1, 2, 3, 4, 5, 6, 1, 2, 3, 4, 5, 6, 1, 2, 3, 4, 5, 6, 1, 1, 2, 3, 4, 5, 6, 1, 2, 3, 4, 5, 6, 1, 2, 3, 4, 5, 6, 1, 4, 5, 6, 3, 2, 1, 2, 3, 4, 5, 6, 1, 2, 3, 4, 5, 6, 1, 5, 6, 1, 2, 3, 4, 5, 6, 1, 6, 6, 1, 5, 5, 6, 1, 2, 3, 4, 5, 6, 6, 1, 5, 1, 2, 3, 4, 5, 6, 2, 3, 2, 1, 2, 3, 4, 5, 6, 2, 3, 4, 5, 6, 2, 2, 2, 1, 6, 5, 1, 3, 1, 2, 3, 4, 5, 6, 2, 3, 5, 5, 2, 3, 4, 5, 6, 3, 4, 6, 3, 4, 1, 2, 3, 5, 6, 1, 6, 3, 4, 3, 1, 2, 3, 4, 5, 6, 1, 1, 2, 3, 4, 5, 6, 6, 6, 1, 5, 6, 3, 4, 1, 2, 3, 4, 5, 6, 1, 2, 3, 4, 5, 6, 2, 6, 1, 2, 3, 4, 5, 1, 2, 3, 4, 1, 2, 3, 4, 5, 6, 1, 2, 3, 4, 5, 6, 1, 2, 3, 4, 5, 1, 2, 3, 4, 5, 1, 2, 3, 4, 5, 6, 5, 6, 1, 3, 4, 5, 6, 2, 3, 4, 6, 2, 1, 2, 3, 4, 5, 6, 6, 5, 5, 3, 2, 3, 5, 6, 5, 2, 3, 1, 2, 5, 1, 3, 5, 6, 1, 2, 3, 4, 5, 6, 2, 2, 2, 5, 3, 3, 6, 1, 2, 3, 4, 5, 6, 1, 2, 3, 4, 5, 6, 1, 2, 3, 4, 5, 6, 1, 3, 4, 1, 2, 3, 5, 6, 3, 3, 5, 3, 4, 1, 2, 1, 2, 3, 4, 5, 6, 1, 2, 3, 4, 5, 6, 2, 6, 1, 2, 3, 4, 5, 6, 1, 1, 1, 2, 3, 4, 5, 6, 2, 3, 1, 2, 4, 6, 2, 6, 5, 6, 3, 3, 4, 5, 6, 1, 2, 3, 4, 5, 6, 2, 5, 6, 5, 3, 4, 1, 1, 5, 6, 1, 2, 3, 4, 5, 6, 1, 5, 5, 5, 6, 2, 3, 4, 5, 1, 3, 4, 6, 1, 2, 3, 4, 5, 6, 2, 1, 2, 3, 4, 5, 6, 3, 4, 1, 2, 3, 4, 1, 2, 3, 4, 5, 6, 1, 2, 3, 4, 5, 6, 5, 2, 3, 1, 1, 2, 3, 4, 5, 6, 1, 2, 3, 4, 5, 6, 3, 4, 3, 4, 3, 4, 1, 2, 3, 4, 5, 1, 2, 3, 4, 5, 6, 1, 2, 3, 4, 5, 6, 1, 2, 3, 4, 5, 6, 3, 4, 1, 2, 3, 4, 5, 6, 1, 2, 3, 4, 5, 6, 1, 2, 3, 4, 5, 6, 1, 2, 3, 4, 5, 6, 1, 2, 3, 4, 5, 6, 3, 1, 2, 3, 4, 5, 6, 1, 2, 3, 4, 5, 6, 3, 1, 2, 3, 4, 5, 6, 1, 2, 3, 5, 3, 4, 3, 4, 3, 4, 5, 6, 2, 3, 4, 2, 1, 2, 3, 4, 5, 6, 3, 1, 1, 2, 3, 4, 5, 6, 2, 3, 1, 2, 3, 4, 5, 6, 2, 3, 4, 1, 2, 3, 4, 5, 6, 5, 1, 2, 3, 4, 5, 6, 1, 2, 3, 4, 5, 6, 3, 4, 6, 1, 2, 3, 4, 5, 6, 3, 1, 2, 3, 4, 5, 6, 2, 3, 4, 5, 6, 2, 1, 2, 3, 4, 5, 6, 3, 4, 5, 1, 2, 3, 4, 5, 6, 1, 2, 3, 4, 5, 6, 1, 2, 3, 4, 5, 6, 3, 4, 6, 5], \"Term\": [\"0333\", \"0333\", \"0mi\", \"12v\", \"2010\", \"2010\", \"2010\", \"2015baf\", \"2016baffi\", \"2017careerwish\", \"227\", \"334\", \"3dexperi\", \"3dexperi\", \"3dhangout\", \"3dp\", \"3dprint\", \"3dprint\", \"3dprint\", \"3dprint\", \"3dprint\", \"3dprinter\", \"3dprinter\", \"3dprinter\", \"3dscompass\", \"3dthursday\", \"3dthursday\", \"4millionsmil\", \"4millionsmil\", \"4yo\", \"538\", \"6800\", \"9500\", \"9to5reward\", \"9to5toy\", \"abort\", \"abus\", \"abus\", \"acl14nlp\", \"acl2013\", \"actual\", \"actual\", \"actual\", \"actual\", \"actual\", \"actual\", \"actuanc2016\", \"actuanc2016\", \"aerial\", \"aerial\", \"aerial\", \"aerodrom\", \"aerodrom\", \"agil\", \"agil\", \"agil\", \"agil\", \"agricultur\", \"agricultur\", \"agricultur\", \"agricultur\", \"alaac15\", \"algorithm\", \"algorithm\", \"algorithm\", \"algorithm\", \"algorithm\", \"also\", \"also\", \"also\", \"also\", \"also\", \"also\", \"amaz\", \"amaz\", \"amaz\", \"amaz\", \"amaz\", \"amaz\", \"analysi\", \"analysi\", \"analysi\", \"analysi\", \"analyt\", \"analyt\", \"analyt\", \"apach\", \"apach\", \"apach\", \"arduinod15\", \"arm\", \"arm\", \"arm\", \"arm\", \"arm\", \"arm\", \"art\", \"art\", \"art\", \"art\", \"art\", \"art\", \"atheism\", \"automatica2016\", \"automatica2016\", \"aviat\", \"aviat\", \"b2b\", \"b2b\", \"b2b\", \"back\", \"back\", \"back\", \"back\", \"back\", \"back\", \"balluff_showman\", \"basketbal\", \"basketbal\", \"bibliographi\", \"bien\", \"big\", \"big\", \"big\", \"big\", \"big\", \"big\", \"blinki\", \"blinki\", \"board\", \"board\", \"board\", \"board\", \"board\", \"board\", \"bootstrap\", \"boulder\", \"build\", \"build\", \"build\", \"build\", \"build\", \"build\", \"busi\", \"busi\", \"busi\", \"busi\", \"busi\", \"busi\", \"canada\", \"canada\", \"canada\", \"canada\", \"canada\", \"canada\", \"capacit\", \"career\", \"career\", \"career\", \"career\", \"carv\", \"carv\", \"carv\", \"certif\", \"certif\", \"certif\", \"certif\", \"certif\", \"ces2015\", \"ces2015\", \"che\", \"che\", \"check\", \"check\", \"check\", \"check\", \"check\", \"check\", \"chi\", \"chi\", \"class\", \"class\", \"class\", \"class\", \"class\", \"class\", \"classif\", \"classroom\", \"classroom\", \"classroom\", \"classroom\", \"climat\", \"climat\", \"climat\", \"climat\", \"clock\", \"clock\", \"clock\", \"clock\", \"cloud\", \"cloud\", \"cloud\", \"cloud\", \"cloud\", \"cluster\", \"cluster\", \"cluster\", \"cmk16\", \"code\", \"code\", \"code\", \"code\", \"code\", \"code\", \"come\", \"come\", \"come\", \"come\", \"come\", \"come\", \"commerc\", \"commerc\", \"compat\", \"compat\", \"compat\", \"compat\", \"con\", \"con\", \"con\", \"conasta64\", \"conasta64\", \"conasta65\", \"conasta65\", \"conf4ca\", \"control\", \"control\", \"control\", \"control\", \"control\", \"control\", \"convex\", \"convolut\", \"cool\", \"cool\", \"cool\", \"cool\", \"cool\", \"cool\", \"corpus\", \"coupon\", \"coupon\", \"cro\", \"cro\", \"csk8\", \"cubelet\", \"curri\", \"custom\", \"custom\", \"custom\", \"custom\", \"custom\", \"custom\", \"cylind\", \"cylind\", \"d3ci\", \"d3js\", \"d3js\", \"d3js\", \"d3js\", \"daili\", \"daili\", \"daili\", \"daili\", \"daili\", \"data\", \"data\", \"data\", \"data\", \"data\", \"data15\", \"data15\", \"data16\", \"data16\", \"day\", \"day\", \"day\", \"day\", \"day\", \"day\", \"decor\", \"decor\", \"deep\", \"deep\", \"deep\", \"deep\", \"deep\", \"deep\", \"denial\", \"design\", \"design\", \"design\", \"design\", \"design\", \"design\", \"desk\", \"desk\", \"desk\", \"differenti\", \"differenti\", \"differenti\", \"digit\", \"digit\", \"digit\", \"digit\", \"digit\", \"digit\", \"disgrac\", \"dissect\", \"distribut\", \"distribut\", \"distribut\", \"distribut\", \"distribut\", \"distributor\", \"docker\", \"docker\", \"dosa\", \"drone\", \"drone\", \"drone\", \"eagl\", \"eagl\", \"easel\", \"easel\", \"ec2\", \"ec2\", \"eclipse2016\", \"ecsite2016\", \"educ\", \"educ\", \"educ\", \"educ\", \"educ\", \"educ\", \"ele16\", \"elect\", \"elect\", \"elect\", \"elect\", \"elect\", \"elector\", \"elector\", \"elector\", \"electron\", \"electron\", \"electron\", \"electron\", \"electron\", \"electron\", \"elementari\", \"elementari\", \"elementari\", \"emb2016\", \"encycl\", \"endeavor\", \"entiti\", \"erf2017\", \"esp32\", \"esp8266\", \"esslli2010\", \"even\", \"even\", \"even\", \"even\", \"even\", \"even\", \"ew17\", \"excit\", \"excit\", \"excit\", \"excit\", \"excit\", \"excit\", \"extrud\", \"extrus\", \"fab13\", \"fascism\", \"fetc17\", \"fidget\", \"fidget\", \"filament\", \"filament\", \"find\", \"find\", \"find\", \"find\", \"find\", \"find\", \"first\", \"first\", \"first\", \"first\", \"first\", \"first\", \"florenc\", \"flume\", \"forum\", \"forum\", \"forum\", \"forum\", \"forum\", \"fr4\", \"fun\", \"fun\", \"fun\", \"fun\", \"fun\", \"fun\", \"futur\", \"futur\", \"futur\", \"futur\", \"futur\", \"futur\", \"g4c14\", \"g4c14\", \"genuinod2016\", \"gift\", \"gift\", \"gift\", \"gift\", \"gift\", \"giggl\", \"giggl\", \"global\", \"global\", \"global\", \"global\", \"global\", \"god\", \"god\", \"god\", \"god\", \"gopigo2\", \"grade\", \"grade\", \"grade\", \"grade\", \"grade\", \"gradient\", \"gripper\", \"harass\", \"hardwar\", \"hardwar\", \"hardwar\", \"hardwar\", \"hardwar\", \"hear\", \"hear\", \"hear\", \"hear\", \"hear\", \"hear\", \"help\", \"help\", \"help\", \"help\", \"help\", \"help\", \"hm17\", \"hm17\", \"hopscotch\", \"hopscotch\", \"hoy\", \"hoy\", \"husband\", \"husband\", \"husband\", \"hydraul\", \"ibi\", \"icra2016\", \"impala\", \"impala\", \"imts2016\", \"imts2016\", \"induct\", \"induct\", \"industri\", \"industri\", \"industri\", \"industri\", \"industri\", \"industrie40\", \"industrie40\", \"industry40\", \"industry40\", \"infer\", \"innov\", \"innov\", \"innov\", \"innov\", \"innov\", \"innov\", \"innovation150\", \"innovation150\", \"inquiri\", \"inquiri\", \"inspir\", \"inspir\", \"inspir\", \"inspir\", \"inspir\", \"inspir\", \"interact\", \"interact\", \"interact\", \"interact\", \"interact\", \"interest\", \"interest\", \"interest\", \"interest\", \"interest\", \"interest\", \"interwork\", \"iste2015\", \"iste2016\", \"jam\", \"jam\", \"jam\", \"join\", \"join\", \"join\", \"join\", \"join\", \"join\", \"kdd2014\", \"kind\", \"kind\", \"kind\", \"kind\", \"kind\", \"kind\", \"kit\", \"kit\", \"kit\", \"kit\", \"kit\", \"kit\", \"lam2017\", \"languag\", \"languag\", \"languag\", \"languag\", \"languag\", \"las\", \"las\", \"las\", \"laser\", \"laser\", \"laser\", \"laser\", \"last\", \"last\", \"last\", \"last\", \"last\", \"last\", \"latest\", \"latest\", \"latest\", \"latest\", \"latest\", \"latest\", \"latex\", \"leadership\", \"leadership\", \"leadership\", \"leadership\", \"learn\", \"learn\", \"learn\", \"learn\", \"learn\", \"learn\", \"led\", \"led\", \"led\", \"led\", \"led\", \"linkag\", \"literaci\", \"literaci\", \"look\", \"look\", \"look\", \"look\", \"look\", \"look\", \"lot\", \"lot\", \"lot\", \"lot\", \"lot\", \"lot\", \"love\", \"love\", \"love\", \"love\", \"love\", \"love\", \"lune\", \"machin\", \"machin\", \"machin\", \"machin\", \"machin\", \"machin\", \"made\", \"made\", \"made\", \"made\", \"made\", \"made\", \"make\", \"make\", \"make\", \"make\", \"make\", \"make\", \"maker\", \"maker\", \"maker\", \"maker\", \"makev57\", \"malofiej25\", \"manag\", \"manag\", \"manag\", \"manag\", \"manag\", \"manag\", \"mani\", \"mani\", \"mani\", \"mani\", \"mani\", \"mani\", \"marbl\", \"marbl\", \"marbl\", \"market\", \"market\", \"market\", \"market\", \"market\", \"market\", \"mas\", \"mfr15\", \"mfr16\", \"micro4ed16\", \"mk2\", \"mk2s\", \"mkr1000\", \"model\", \"model\", \"model\", \"model\", \"model\", \"model\", \"mood4givin\", \"moss\", \"mrrf2017\", \"much\", \"much\", \"much\", \"much\", \"much\", \"much\", \"multistag\", \"naacl2013\", \"nanog61\", \"need\", \"need\", \"need\", \"need\", \"need\", \"need\", \"neural\", \"neural\", \"neural\", \"neural\", \"neural\", \"nips2014\", \"nips2015\", \"nips2016\", \"nous\", \"nous\", \"nozzl\", \"nsta15\", \"opal\", \"open\", \"open\", \"open\", \"open\", \"open\", \"open\", \"opposit\", \"opposit\", \"opposit\", \"orchestr8\", \"order\", \"order\", \"order\", \"order\", \"order\", \"orthosi\", \"orthosi\", \"oscilloscop\", \"p2irc\", \"p2irc\", \"paper\", \"paper\", \"paper\", \"paper\", \"paper\", \"para\", \"para\", \"part107\", \"part107\", \"penc\", \"peopl\", \"peopl\", \"peopl\", \"peopl\", \"peopl\", \"peopl\", \"pepper\", \"photo\", \"photo\", \"photo\", \"photo\", \"photo\", \"photo\", \"photoelectr\", \"pi3\", \"pier\", \"pinbal\", \"pinbal\", \"pix4d\", \"pix4d\", \"play\", \"play\", \"play\", \"play\", \"play\", \"play\", \"pleas\", \"pleas\", \"pleas\", \"pleas\", \"pleas\", \"pleas\", \"plotter\", \"plotter\", \"polit\", \"polit\", \"polit\", \"polit\", \"polit\", \"poll\", \"poll\", \"poll\", \"poll\", \"post\", \"post\", \"post\", \"post\", \"post\", \"post\", \"power\", \"power\", \"power\", \"power\", \"power\", \"power\", \"predict\", \"predict\", \"predict\", \"predict\", \"predict\", \"presid\", \"presid\", \"presid\", \"presid\", \"presid\", \"print\", \"print\", \"print\", \"print\", \"print\", \"print\", \"printabl\", \"printabl\", \"printer\", \"printer\", \"printer\", \"printer\", \"printer\", \"privaci\", \"privaci\", \"privaci\", \"privaci\", \"probabilist\", \"project\", \"project\", \"project\", \"project\", \"project\", \"project\", \"proxim\", \"prusai3\", \"prusai3mk2\", \"ps4share\", \"python\", \"python\", \"python\", \"python\", \"r17\", \"racist\", \"racist\", \"rad\", \"rad\", \"rad\", \"raspberri\", \"raspberri\", \"raspberri\", \"raspberri\", \"read\", \"read\", \"read\", \"read\", \"read\", \"read\", \"recurr\", \"regress\", \"reinforc\", \"reinforc\", \"repl4nlp\", \"republican\", \"res16\", \"research\", \"research\", \"research\", \"research\", \"research\", \"resistor\", \"right\", \"right\", \"right\", \"right\", \"right\", \"right\", \"robot\", \"robot\", \"robot\", \"robot\", \"robot\", \"robot\", \"robotlaunch2015\", \"roi\", \"roi\", \"sad\", \"sad\", \"sad\", \"sad\", \"sad\", \"sandbox15\", \"sander\", \"sander\", \"saskatoon\", \"saskatoon\", \"scala\", \"scala\", \"school\", \"school\", \"school\", \"school\", \"school\", \"school\", \"scienc\", \"scienc\", \"scienc\", \"scienc\", \"scienc\", \"scienc\", \"scolarticchat46\", \"scolarticchat46\", \"scratch\", \"scratch\", \"scratch\", \"scratch\", \"scratch\", \"scratch\", \"scratchmit2016\", \"scribbl\", \"search\", \"search\", \"search\", \"search\", \"search\", \"search\", \"semant\", \"semant\", \"sensor\", \"sensor\", \"sensor\", \"sensor\", \"servo\", \"servo\", \"shed\", \"shed\", \"sheep\", \"shield\", \"shield\", \"shield\", \"shield\", \"show\", \"show\", \"show\", \"show\", \"show\", \"show\", \"sigma\", \"sigma\", \"sigma\", \"slic3r\", \"smp2017\", \"smp2017\", \"socialmetrix_\", \"solder\", \"solder\", \"solder\", \"sorri\", \"sorri\", \"sorri\", \"sorri\", \"sorri\", \"sorri\", \"spinner\", \"spinner\", \"spitfir\", \"starter\", \"starter\", \"statist\", \"statist\", \"statist\", \"statist\", \"stem\", \"stem\", \"stem\", \"stem\", \"still\", \"still\", \"still\", \"still\", \"still\", \"still\", \"stochast\", \"store\", \"store\", \"store\", \"store\", \"store\", \"store\", \"strateg\", \"strateg\", \"strategi\", \"strategi\", \"strategi\", \"strategi\", \"success\", \"success\", \"success\", \"success\", \"success\", \"success\", \"sure\", \"sure\", \"sure\", \"sure\", \"sure\", \"sure\", \"sww16\", \"tableau\", \"tableau\", \"tai\", \"take\", \"take\", \"take\", \"take\", \"take\", \"take\", \"talk\", \"talk\", \"talk\", \"talk\", \"talk\", \"talk\", \"td3pi\", \"td3pi\", \"tdf2015\", \"tdf2015\", \"tdf2016\", \"tdf2016\", \"teacher\", \"teacher\", \"teacher\", \"teacher\", \"teacher\", \"team\", \"team\", \"team\", \"team\", \"team\", \"team\", \"tech\", \"tech\", \"tech\", \"tech\", \"tech\", \"tech\", \"technolog\", \"technolog\", \"technolog\", \"technolog\", \"technolog\", \"technolog\", \"telford\", \"telford\", \"text\", \"text\", \"text\", \"text\", \"text\", \"text\", \"think\", \"think\", \"think\", \"think\", \"think\", \"think\", \"time\", \"time\", \"time\", \"time\", \"time\", \"time\", \"today\", \"today\", \"today\", \"today\", \"today\", \"today\", \"tonight\", \"tonight\", \"tonight\", \"tonight\", \"tonight\", \"tonight\", \"tori\", \"train\", \"train\", \"train\", \"train\", \"train\", \"train\", \"transform\", \"transform\", \"transform\", \"transform\", \"transform\", \"transform\", \"trapez\", \"tri\", \"tri\", \"tri\", \"tri\", \"tri\", \"tri\", \"trump\", \"trump\", \"trump\", \"trump\", \"tucon2013\", \"tucon2013\", \"typhoon\", \"typhoon\", \"ugh\", \"ugh\", \"ugh\", \"ultrason\", \"unfair\", \"unman\", \"unman\", \"unsupervis\", \"use\", \"use\", \"use\", \"use\", \"use\", \"use\", \"ust\", \"vex\", \"video\", \"video\", \"video\", \"video\", \"video\", \"video\", \"vis\", \"vis\", \"vote\", \"vote\", \"vote\", \"vote\", \"vote\", \"vote\", \"votenature2016\", \"voter\", \"voter\", \"wait\", \"wait\", \"wait\", \"wait\", \"wait\", \"wait\", \"wantag\", \"watch\", \"watch\", \"watch\", \"watch\", \"watch\", \"watch\", \"way\", \"way\", \"way\", \"way\", \"way\", \"way\", \"wearabl\", \"wearabl\", \"wearabl\", \"well\", \"well\", \"well\", \"well\", \"well\", \"well\", \"whm17\", \"wireless\", \"wireless\", \"wireless\", \"wireless\", \"wireless\", \"wireless\", \"woman\", \"woman\", \"woman\", \"woman\", \"woman\", \"word2vec\", \"work\", \"work\", \"work\", \"work\", \"work\", \"work\", \"workbench\", \"workbench\", \"workbench\", \"workshop\", \"workshop\", \"workshop\", \"workshop\", \"workshop\", \"workshop\", \"world\", \"world\", \"world\", \"world\", \"world\", \"world\", \"year\", \"year\", \"year\", \"year\", \"year\", \"year\", \"youth\", \"youth\", \"youth\", \"z18\"], \"Freq\": [0.0008090921316029769, 0.9992287825296764, 0.9993827377652991, 0.9995567464933253, 0.0700424023142214, 0.7513639520980113, 0.17842817506527942, 0.9997133060486543, 0.999831096139148, 0.9998081300244741, 0.999712801525455, 0.999388228647547, 0.00010977420823492518, 0.9999332628119334, 1.0001058748833167, 0.9992628329366525, 0.0021865121397541022, 0.00010169823905833034, 0.018153135671911968, 0.9345559678265267, 0.045001470783311175, 0.00015706851779999993, 0.8517825720293997, 0.14811561228539996, 1.0000957873304055, 0.00015709502032561944, 0.9999098043725678, 0.00014755342130911802, 0.9999695362118929, 0.9999053720749472, 0.9996272036163841, 0.999388228647547, 0.9996934305043227, 1.0000386188023334, 0.9996365621007042, 1.000136343801913, 0.9072237608834919, 0.09249133606778775, 0.9991472712206415, 0.9990242687566393, 0.03483909344634909, 0.28232895727028723, 0.4249487398088859, 0.01940405204606785, 0.17031465682253188, 0.06817878287095658, 0.0005161715129916783, 0.9993080491518892, 0.0545813450461561, 0.0005513267176379404, 0.9449739940314299, 0.0005861973782268212, 0.9994665298767301, 0.014945159577921478, 0.006914924580829341, 0.0004461241665051187, 0.9774580488127151, 0.010481668085908216, 0.01977673223756267, 0.0005933019671268801, 0.9692576469629465, 1.0000074990442467, 0.029444184580527742, 0.817914722303394, 0.00018635559861093507, 0.13361696420404046, 0.019008271058315377, 0.12116553308194565, 0.3182185342260416, 0.2977857638834826, 0.018882423954699537, 0.2008692384065195, 0.04305192661671494, 0.3926426341368986, 0.09473904861159184, 0.1849388760192889, 0.11241450087524273, 0.1466306001015708, 0.06863852668919684, 0.006973187332662977, 0.7586152993356738, 0.049599606672651175, 0.18467699355213885, 0.08595751247067171, 0.0004838133910169139, 0.9135686991442047, 0.7033670421591178, 0.0002579270414958261, 0.2964441463592028, 0.9995704315607117, 0.033630406097623015, 0.06881298478436709, 0.06933037564740745, 0.040184023696134163, 0.1017535363979363, 0.686232748012523, 0.6307714547236841, 0.08349518100099634, 0.04927413676041331, 0.01161536204817354, 0.08266179179574622, 0.14219703314580162, 0.9996241313673345, 0.0007782657564616525, 0.9992932312967618, 0.0005126509476237338, 0.9996693478662809, 0.0006208804601122596, 0.9943400568697838, 0.0052774839109542065, 0.14699073082391814, 0.13016941146294703, 0.25116355781990984, 0.06258575141399, 0.26291237289464575, 0.14617017865996831, 0.9995770172373721, 0.9200476560844194, 0.07976117173122797, 0.9997681874232159, 1.0000806968703129, 0.15178180676447167, 0.28965423919424654, 0.12002772291745659, 0.2868045137207965, 0.10516844009160979, 0.046579441369606525, 0.026369017678582293, 0.9736635395657651, 0.14001530032044676, 0.027880172252508047, 0.051996905275338706, 0.0947004197998414, 0.05322578339115173, 0.6321041808213257, 0.99941563549854, 1.0000624160537557, 0.21761591761592908, 0.09850373627773593, 0.02378075626639276, 0.16370978267127245, 0.22449311782149736, 0.271892541460549, 0.018683688569822714, 0.06172537112696986, 0.053190846718532324, 0.7765033234747061, 0.04908504848960832, 0.04082731946739038, 0.03883466286472358, 0.01540277767630387, 0.013928043643466266, 0.8812355142889597, 0.012289450273646705, 0.03817922551679576, 0.9994784694616626, 0.06566048248492953, 0.07019279897503972, 0.03195864191744358, 0.8322030355302308, 0.08956328383173544, 0.0004204849006184762, 0.9100344461635372, 0.020900875935200975, 0.0004478759128971637, 0.8703721907301548, 0.055088737286351136, 0.053147941663796765, 0.0789993100321494, 0.9208873546007038, 0.028433511122780204, 0.9714075665678192, 0.3217271465446285, 0.09341645922283319, 0.03342759474033639, 0.12974986548277384, 0.20123282886503857, 0.22043270942420154, 0.987030378287437, 0.01296661822205237, 0.4971786864650433, 0.10133846151861757, 0.11374296199496287, 0.007989339289849517, 0.027384511644813148, 0.25234748638531274, 0.999841150507914, 0.9681035586465079, 0.007413320005343374, 0.016252278473252783, 0.008268703082882994, 0.07975160692716879, 0.0004436807061316762, 0.8888033745582803, 0.030946729252684414, 0.0997028573203093, 0.07335552430220475, 0.08927765360810966, 0.7377253245069273, 0.004362356843862668, 0.285173498821651, 0.0003739163009025144, 0.648620143298895, 0.061446912114979865, 0.8864198405526363, 0.06654877080604943, 0.04697560292191725, 0.9997533047004136, 0.46217055923584854, 0.20838119104738834, 0.031741921898614224, 0.004117397412791725, 0.17491638654342154, 0.11864528856860128, 0.29192700262050963, 0.09956649271699743, 0.15887561449378157, 0.11271175669747523, 0.13420603969258083, 0.20273016915838235, 0.025385049131297074, 0.9744685735276665, 0.09704579899383192, 0.008121858714076061, 0.051646691310022134, 0.8432155367511275, 0.7806810570141912, 0.016088118821995855, 0.20323977954875774, 0.00047843477263442044, 0.9996097182908491, 0.00031329072769639243, 0.9993974213514918, 0.9987988210837777, 0.03212055190031165, 0.09738761927514637, 0.08610201995882066, 0.049956534036602634, 0.05390254778356967, 0.6804506105269952, 0.9995800914601194, 0.9997433377289114, 0.23658165149061217, 0.2186706429666138, 0.0668179179472121, 0.020629947199368132, 0.24840903472847065, 0.2088484770018405, 0.999823205831244, 0.14857172683191286, 0.8513121556841519, 0.00043375486390267586, 0.9993712064317652, 0.9999674333239735, 1.0000430343527176, 0.999851747449137, 0.05630857509741969, 0.04783622004803941, 0.01485920731737464, 0.5947593244664955, 0.17896220742767877, 0.10733822127945628, 0.021088833243609422, 0.9788127429620097, 1.000104203008306, 0.005075503791338073, 0.9947047522913115, 9.399081095070504e-05, 9.399081095070504e-05, 0.03348622295425386, 0.05266379277671972, 0.8102274835874954, 0.09260878276962788, 0.010930221142338055, 0.015775103649469026, 0.6082129615863165, 0.00023633114081601537, 0.34996210745961576, 0.02581917713414968, 0.022055671886415083, 0.9778014536310686, 0.021806382119944918, 0.9786704295431279, 0.2831659836130424, 0.10596890133839695, 0.17504724826608964, 0.14763686465700304, 0.14984641627690762, 0.1383209172865945, 0.9716597567391094, 0.028698811380480027, 0.03437180925825212, 0.918280292139234, 0.018324403043042926, 0.012252411502152963, 0.008457416789096735, 0.008294774158537183, 0.999640668027382, 0.26047015591162975, 0.0361400601147296, 0.12242514971068263, 0.23772252177161893, 0.1916982387441551, 0.15152096081999886, 0.08289900537582522, 0.8658619260434149, 0.05116912888553206, 0.8954177159241629, 0.0381415254247615, 0.06642333679414247, 0.1471774256631066, 0.0040724770292880205, 0.04252423688721677, 0.6698751169338178, 0.017284350182443342, 0.11904892153058237, 0.9991368323228424, 1.0001000473247181, 0.7444923515652616, 0.00017688105287841808, 0.08702547801618168, 0.010789744225583502, 0.1574241370617921, 0.9992709870131103, 0.9520983918696602, 0.04740060663385433, 0.9992708825704416, 0.00024564873092570197, 0.6599967278146298, 0.33973219487024586, 0.0801569295006983, 0.9198118374196154, 0.0004831300079196925, 0.9995959863858437, 0.9840635781519852, 0.015497064222865908, 0.9999195518114663, 1.000044286215749, 0.7674970882876303, 0.043862081167342894, 0.02845228686720715, 0.08602685165814909, 0.012506499721849298, 0.06163917720054297, 0.9997209092783106, 0.028595875796150118, 0.06562650632353877, 0.8280460437374405, 0.06706658639960388, 0.010697737707912275, 0.019299541281628207, 0.08971678649837977, 0.8909085542978643, 0.1859234690000247, 7.94544739316345e-05, 0.0059590855448725865, 0.0041316326444449936, 0.07540229576112113, 0.7285180714791567, 0.9559587197983352, 0.014023197384254572, 0.029898515177750315, 0.9996597321196143, 0.999875362688409, 0.999968855708547, 0.9998634092178843, 0.9998122018872432, 0.9991087069320622, 0.9993946337604953, 0.99965888091901, 0.10110169144235523, 0.2195305595627242, 0.3423044689295675, 0.06756009255188833, 0.19425513670213537, 0.07524339719504425, 0.9989245760758606, 0.4757810865888872, 0.10717625639171598, 0.0802184811078526, 0.20303825082218835, 0.08614846406503171, 0.04765814523867886, 0.9999597537696024, 0.9999989358016934, 1.0000254049936113, 0.9996383526250526, 1.0001489445227045, 0.05901580501825723, 0.9408667275451664, 0.9550140754360975, 0.04492982552171963, 0.13673172386043853, 0.14672215067545624, 0.11325748569051129, 0.36151632719833715, 0.15563517852022696, 0.08615926916611683, 0.15012227438671738, 0.12302089667667168, 0.19169385198123387, 0.16285024284697097, 0.16807693711962263, 0.20422823917213, 0.9996152589327776, 1.0001163755880684, 0.11800763241477738, 0.006327945506299657, 0.17666939751371746, 0.04463766965254623, 0.6543437704622294, 1.0000172645958536, 0.43354566795778743, 0.09549289619223965, 0.09100532401458084, 0.0316439832233441, 0.24424271513993015, 0.10407207829658738, 0.16643858991669772, 0.1138705221587514, 0.024585680920639508, 0.5345768121231156, 0.07104776542362437, 0.08944658913890557, 0.0005899717873012796, 0.9994122076883677, 0.9994615910165512, 0.08000357423621471, 0.07293288191419246, 0.05813680353662738, 0.5779636279519668, 0.2109423209403304, 0.9806675197066599, 0.019134975994276292, 0.0790075118995112, 0.0856018396643523, 0.0004976851143276296, 0.7836052125088528, 0.05138598805432776, 0.10178619974050589, 0.7713216899660474, 0.09911264102311923, 0.02788139805274645, 0.9995101845765717, 0.8641896999871824, 0.031086877015608506, 0.05007025683251698, 0.02828396187485692, 0.026245478136128493, 0.9994743781235218, 0.9996496679757996, 0.9993845964321251, 0.06755723342732986, 0.09257843099300758, 0.06044594569813724, 0.1826547422294474, 0.596689716684662, 0.22044151236203696, 0.07654949892285531, 0.12842427963621295, 0.18419229947004567, 0.3454986662724336, 0.044877472564395594, 0.20286411836871554, 0.07385234520673783, 0.08424777585984074, 0.3136779947864859, 0.20894579888685738, 0.11640053642862158, 0.0003476164162676358, 0.9993971967694529, 0.00011010020416612118, 0.9999300542367126, 0.9955025242956616, 0.004532601955815377, 0.011014212379004937, 0.8736273000619826, 0.11514858396232436, 0.9992639066541625, 0.9994530889192572, 0.9998774364230331, 0.9997799427777786, 0.00014391535091086492, 0.000637884538549018, 0.9995650719063112, 0.12287574876216005, 0.8768860252572331, 0.09346360060303141, 0.000422912219923219, 0.7637089838113463, 0.02156852321608417, 0.12081192415806624, 0.0004270785312834176, 0.9995773024688389, 0.00031633618628230795, 0.9996223486520931, 0.9998058407461555, 0.13118577877128118, 0.015001780054136778, 0.0004103830409946231, 0.8019796583348257, 0.015229770632467124, 0.036113707607526836, 0.00031458679079153675, 0.9994422343447122, 0.9881588148605194, 0.011735852908082179, 0.5960734083552782, 0.016178375524217473, 0.12291132966754809, 0.12299997830055749, 0.09955241486956834, 0.04228539794548895, 0.24013697186231317, 0.1487777413344618, 0.044828970659383294, 0.0610762826061427, 0.5052828950981723, 0.18230806240692274, 0.5267743487442136, 0.09237187858391246, 0.07340298302173467, 0.06151974494581785, 0.06362329951205158, 0.998694328303252, 0.999697468020813, 1.0000591260153187, 0.11163810302272194, 0.759192135282786, 0.12887438971269088, 0.5237184052742953, 0.07193876880832165, 0.000138944990455474, 0.21616366890110364, 0.10035301935646608, 0.08767428897740408, 0.9998547333516098, 0.02932040474907242, 0.13097064077188184, 0.5842807470028091, 0.08278158438618238, 0.06696521463195089, 0.10571994519933683, 0.06683554320660774, 4.49465657072009e-05, 0.001393343536923228, 0.01146137425533623, 0.23448623329446708, 0.6857946995604713, 0.9998280392820686, 0.15113071694425625, 0.6636307402015423, 0.09549977819176929, 0.006606173976857826, 0.0830987147615274, 0.8208652500140371, 0.12056299523425981, 0.0585533602486793, 0.08444632679375239, 0.00662324131715705, 0.24837154939338937, 0.6605500492200379, 0.2064140753140319, 0.1364393222408462, 0.24475901906460526, 0.1275875541312611, 0.19512044013973365, 0.08962415210954915, 0.05092881978100009, 0.036918661179535385, 0.04605366324062555, 0.7042944594249827, 0.07071343564387932, 0.09101869929262377, 0.9997421563632117, 0.0299404200691666, 0.017068837609524885, 0.0005596340199844225, 0.9524971020134869, 0.3510444650812739, 0.4077061901707821, 0.00011918329554322497, 0.16161254875661307, 0.02522713088998262, 0.054297923061234245, 0.23736242507715635, 0.08475629989783366, 0.023512315691605112, 0.1084925424055493, 0.5458216142694043, 0.9999914756673128, 0.9531106889310746, 0.046982541287569624, 0.18987945755836924, 0.1368398408919667, 0.1288491932486402, 0.2002740712299847, 0.2609826781133934, 0.08317383871115086, 0.17717221209045583, 0.2641632444713381, 0.28825599892384296, 0.037758012412720095, 0.13260537776724524, 0.10003730653105286, 0.4171900273672836, 0.06872598772383427, 0.22855345283902476, 0.025183533644859882, 0.2041519061245628, 0.05617865197699513, 0.9997796499015876, 0.07505754486742547, 0.637481985799688, 3.38097048952367e-05, 0.006525273044780683, 0.07039180559188281, 0.21049922267774368, 0.2676989653733744, 0.056908900958468935, 0.214133935535525, 0.04700347141248266, 0.22558511682594865, 0.1886763506832609, 0.5235091749725684, 0.05302330333573548, 0.12130577387347474, 0.10107279361971118, 0.10880983614467084, 0.09229186440487601, 0.6497605840901611, 0.004256868616943428, 0.11384322978865156, 0.23213936819634262, 0.9997443517647195, 0.9996147509017256, 0.03329756053995268, 0.17107471154965484, 0.00042471378239735563, 0.7292335643762596, 0.016224066487578983, 0.049691512540490604, 0.16502640822141412, 0.21617866161721452, 0.28000243428836236, 0.14256518676344043, 0.15455863142873583, 0.04161682919194367, 0.8909470503227486, 0.07844057815341536, 0.03068664376111634, 0.013579299506975366, 0.07439094512516939, 0.04030851355627865, 0.7998368428970233, 0.060650626256451234, 0.011217682201414432, 0.9999349550692632, 0.9998516353015919, 0.9995021685735148, 0.9999587015393603, 0.999821883438632, 0.9994799917102523, 0.9996035193040242, 0.030778897436722838, 0.4164626610705619, 0.0944931755700663, 0.2564908119726903, 0.16827104224959938, 0.0334581645172019, 0.9989245760758606, 0.9999910168207389, 0.9998508938634576, 0.16254025676813716, 0.1776775370149758, 0.369972937797732, 0.046190965459103124, 0.2096958528312055, 0.033873374670008956, 0.9994613020917356, 0.9998463720697427, 0.9996326375504481, 0.131313316751274, 0.15479991409089197, 0.16388748443961343, 0.24391204798988422, 0.2294092816114452, 0.07670490314891136, 0.9794579901463774, 8.736580056608486e-05, 0.0034946320226433942, 8.736580056608486e-05, 0.016861599509254376, 0.9997600720922625, 0.9996448560374548, 0.999806996481777, 0.9537510615855147, 0.04622559889728334, 0.9999958586395951, 0.9998470894218913, 0.9998204426939691, 0.301325742588242, 0.2417808076996674, 0.040375612538984626, 0.09057232001988443, 0.0920272970483163, 0.23392393174613524, 0.10528410907857595, 0.8643873430286738, 0.030287209460960206, 0.9999257925232362, 0.06192084701714782, 0.08691247875361109, 0.07471724952138503, 0.4807668538169119, 0.2957772498294828, 0.0008764963379559609, 0.9992058252697955, 0.9994486214079862, 0.000655062450847547, 0.9996252999933567, 0.21493066717697099, 0.6552806644478802, 0.020339893280969752, 0.045199762846599455, 0.06426479102163948, 0.9468968913450992, 0.05314086688658651, 0.0008732876855789142, 0.9990411123022779, 0.9992457983070826, 0.11316814933725643, 0.2227175497131471, 0.40656096285647114, 0.09699343807054585, 0.08671290124848403, 0.07382796176483322, 0.9999428685678309, 0.1876811758121352, 0.03804475415358887, 0.09464103446622975, 0.10358720190333603, 0.4978777604208524, 0.07816125234524446, 0.9995655462758651, 0.9993479468768485, 0.9998119066084336, 0.883285276044587, 0.11658672191167511, 0.0007877444361141029, 0.9996476894287966, 0.531228676201642, 0.043976777156357366, 0.23029801828629845, 0.0163496484397255, 0.07246725364538398, 0.10565218364680702, 0.07663158813765562, 0.08319251177957819, 0.22477724397226725, 0.14036002644619686, 0.27827064139940927, 0.19678396976673096, 0.11743127991031395, 0.8825320168770023, 0.04596162297556552, 0.1694964829189407, 0.7019026133146318, 0.06967033346974864, 0.012894210970520643, 0.0244592291789055, 0.017294404469933182, 0.684858417009354, 0.2732515906249443, 0.14799495117015185, 0.3630155744041507, 0.12044782506188154, 0.10202639299359377, 0.06532523218062046, 0.20116203818570239, 0.1450473921552822, 0.09074306362885338, 0.11329616423836372, 0.15893302664819642, 0.07659209854053317, 0.4154192688740003, 0.00755958400631564, 0.7045532293886176, 0.03905785069929747, 0.23535504872996027, 0.013481258144596225, 0.06186786256528987, 0.06155539861293992, 0.6066487634874257, 0.2521584095464087, 0.01765421330777211, 0.03447194469863185, 0.013871031977432122, 0.00011216467906279344, 0.030807898515913933, 0.7801427311080826, 0.14061711931838872, 0.888263956621785, 0.11158539753582125, 0.019585789285312908, 9.109669435029259e-05, 0.010385023155933355, 0.7045418341051629, 0.2653646706424023, 0.7480062580273257, 0.013565293776898375, 0.15719781612052822, 0.0810725792784044, 0.9997609845701537, 0.28989834073550746, 0.088806561019284, 0.041387673101502764, 0.09360691566897503, 0.10102284817266437, 0.38529000364603433, 0.9998650276123943, 0.9999620662823896, 0.9993834519305098, 0.9999727605382904, 0.8362421041336774, 0.04177912168956053, 5.497252853889544e-05, 0.12198404082780898, 0.9994635871187648, 0.09376484990671595, 0.9061994189742236, 0.10325425482448894, 0.06517710437426212, 0.8315226368590073, 0.0009076742864807855, 0.09317276550725263, 0.02060420630311383, 0.8853001153190341, 0.1002522160569095, 0.2953130889278194, 0.2411043114671828, 0.22286190757576715, 0.06866013116502626, 0.0717707364466886, 0.9996493349413739, 0.9996261191862656, 0.9774222963336295, 0.022193555384776575, 1.0000204854938193, 0.9996654194394746, 0.9989343904126288, 0.11858894320629365, 0.484765787860224, 0.061546930996695524, 0.3003685039937643, 0.034700050116831305, 0.9998249774325648, 0.10990619348690077, 0.14196376053946702, 0.3141871100271201, 0.13155844044603263, 0.2307915298665062, 0.07157483049564613, 0.037429253294955445, 5.998277771627475e-05, 0.005898306475433684, 0.04262776069703259, 0.0030591216635300123, 0.9109184566585871, 0.9999322370810549, 0.000420469636556499, 0.9994563260947982, 0.06730294629660118, 0.1658167094472306, 0.5490737069296343, 0.19421707359876342, 0.023666970126277338, 0.9995488558980152, 0.9798584385576802, 0.019833020911725473, 0.0006722306622343374, 0.9996069947424597, 0.034739989550993805, 0.9650445934572581, 0.6855314956518198, 0.06515767781766992, 0.058032592385119285, 0.013857062703305367, 0.12584375029491152, 0.051595446235711474, 0.5331354948331836, 0.15976279351667358, 0.04489303833174858, 0.22934087000215003, 0.01984002445398998, 0.013001808915752321, 0.00023260160086179568, 0.9997216805039979, 0.9001037718536454, 0.024881291876169363, 0.007756205183620696, 0.007756205183620696, 0.008063381626536368, 0.051375260077646, 1.0000084183865403, 1.000002666451455, 0.029050037808554134, 0.5574211800277757, 0.04753642550490676, 0.3076663095178688, 0.04649892415460126, 0.011695469767080236, 0.9955340046246121, 0.004260487894256542, 0.014740879504105247, 0.00011792703603284198, 0.056015342115599935, 0.9291471169027619, 0.0002191681128048202, 0.9998449306155897, 0.8944151112376966, 0.10553885102804762, 1.000002934266556, 0.018224941246285147, 0.009829181795749292, 0.06552787863832862, 0.9065372460371275, 0.21383688261045192, 0.05598702604791514, 0.24960146549594975, 0.10159790767843276, 0.13670018347345841, 0.24227193369472427, 0.018987846957792293, 0.9716352543258856, 0.009222668522356257, 0.9995503891804465, 0.0004916440070772781, 0.9995122663881064, 0.9998024176261396, 0.16908793835793826, 0.1985854221099412, 0.6323377914553391, 0.01979624001891092, 0.06506132684577741, 0.10361189951418288, 0.038145386469188, 0.6427410794444061, 0.130643607376263, 0.06669442907853033, 0.9332128893201993, 0.9997555614714292, 0.2040918341330945, 0.7959581531190686, 0.8856402173667411, 0.000170413742037087, 0.08895597334335942, 0.025221233821488876, 0.822550510596889, 0.004863892281449149, 0.11651232874198642, 0.05607293999466092, 0.10012103327756612, 0.19469426664499562, 0.3115704003223032, 0.07271713573487788, 0.20984832411765067, 0.11103046531562, 0.9995479810508078, 0.053496811099594435, 0.06210796781582694, 0.0495141511183369, 0.20946638712235569, 0.4982630554930033, 0.12722984048233527, 0.00031326852040130555, 0.9996398486005661, 0.0046196374827589945, 0.01355093661609305, 0.03757305152643982, 0.9442539014759385, 0.14594218873517606, 0.06535872519752353, 0.04552042978462815, 0.6553557821864624, 0.04944195329647956, 0.03836941632184028, 0.08493713358376159, 0.2081167612443881, 0.25804446184473956, 0.04493954919902122, 0.32963367177123787, 0.07426803197536087, 1.0000401324999728, 0.2461138023696213, 0.7539123464466964, 1.0000079057175357, 0.17536140403884926, 0.0921324815921548, 0.1681998455957616, 0.24625806754493718, 0.2086806238223266, 0.10933128217748501, 0.2924102791073979, 0.3682770349236626, 0.12462262482786987, 0.06624676372428873, 0.07517961352398064, 0.07327435534992048, 0.00045834105170112295, 0.9996418337601493, 0.0003993935858794857, 0.9995490142610596, 0.0004903974835806151, 0.9994300715372934, 0.8754335623363405, 0.012913312974442459, 0.05016896305013277, 0.036661934536635486, 0.02493605264030268, 0.13948031416670986, 0.06317313461910039, 0.0682321741471187, 0.4986396909154454, 0.07757193942961403, 0.1529062267602969, 0.1702109623394978, 0.14686935164279674, 0.04119934900080368, 0.4018694178986243, 0.036664608368462664, 0.20318450275140382, 0.12787606920681482, 0.06764495784110997, 0.003579098298471427, 0.6284385312358901, 0.006544636888633466, 0.16591677112199685, 0.0007102127930492532, 0.9992693998202992, 0.013628116572344638, 0.7060198758958544, 0.09428431669438433, 0.019607800374495856, 0.1257124222591791, 0.04060622488902688, 0.18098651357283754, 0.24246506402418255, 0.29457501050227486, 0.0798894886077372, 0.176511956451284, 0.025565568553876226, 0.13918657994831596, 0.18928640602690222, 0.25594967516923756, 0.12722644672155084, 0.19328253082403862, 0.09507388077427323, 0.3482693726339241, 0.08663807540064423, 0.12666359323480483, 0.21860090509426178, 0.11224611750607984, 0.10759818385226089, 0.41838907382609236, 0.03762559230427675, 0.3885264989023985, 0.020847457965597598, 0.09778897700379414, 0.036811727578893054, 0.9998353314547344, 0.09639936674111045, 0.4282628742737584, 0.0687923384821409, 0.33450194146881984, 0.03172555928128668, 0.040348733609263186, 0.09262596236421192, 0.04305510250584747, 0.0003832798442657045, 0.7963277564360454, 0.012009435120325406, 0.05557557741852715, 0.998879060524109, 0.22169161725657655, 0.2424000071272031, 0.21148993910427116, 0.004541610871790438, 0.23094430209238842, 0.08890033818437552, 3.683519716400202e-05, 0.017349377864244953, 0.9809949708717018, 0.001583913478052087, 0.0008655251476979483, 0.9996815455911303, 0.0007010858247120953, 0.9990473002147359, 0.8953938500573431, 0.0202245017466751, 0.08457518912245951, 0.999536502299741, 0.9992847062970605, 0.00031854718860889285, 0.9996010778547058, 0.9992761598622694, 0.09544623152320374, 0.33049967959468224, 0.11809289051041966, 0.18390974319201592, 0.18022966110659333, 0.09181332997733785, 0.9996300361298789, 0.9998700183786847, 0.2275843849039189, 0.07413261491392034, 0.03879931005921966, 0.1410838665263913, 0.1605832627129657, 0.35779646532117154, 0.9997250563822969, 0.00019419678639904757, 0.1742961670101668, 0.03343155148795691, 0.5349048238073105, 0.10648127609153535, 0.006305595120504328, 0.144433820307401, 0.9992327882987218, 0.9233294735839961, 0.07658671811413371, 0.3215850228164553, 0.07254733934119807, 0.17161233991512306, 0.03757101121818842, 0.32495811084018766, 0.07176893441264445, 1.0001282919091672, 0.18521987250795283, 0.06054984817234807, 0.2543312214748267, 0.22125103968151014, 0.17297874796769475, 0.10565256299627522, 0.22179859381901396, 0.18390904969896674, 0.14032978001670646, 0.21230732595638419, 0.16621047859172874, 0.07545180314138307, 0.036159729427190195, 0.1049078569801197, 0.8586819697925968, 0.06368198893527666, 0.19254824617657007, 0.28752161517555574, 0.08438413148328086, 0.3300984109999467, 0.04180733565888991, 0.9997061419284499, 0.0143454191688402, 0.03362207617696922, 0.0829344545698574, 0.052450438836071984, 0.06634756365588593, 0.7506688874444661, 0.038669183890346674, 0.6813864037148668, 0.17590687573647898, 0.09123905480009901, 0.012636988199459697, 0.999328013479825, 0.19495177120362459, 0.21891305002116, 0.15246078327881937, 0.13212488233009764, 0.1896891259101854, 0.11187994068274396, 0.0002548847572765786, 0.20518222960764576, 0.7944757884310955, 0.5504839320799974, 0.17352329788295565, 0.029804663519133575, 0.01186717795165502, 0.03122653737509224, 0.203163899034094, 0.16325056191739135, 0.12440715013152218, 0.1422955634539619, 0.351725289847433, 0.06460873988222357, 0.15369003177195295, 0.22021737478335113, 0.13837854185690124, 0.21031493988592745, 0.20111525843283706, 0.1524336107435671, 0.07752648224531378, 0.00035070539086065486, 0.798088567801897, 0.201538697947923, 0.9999552394235919]}, \"tinfo\": {\"loglift\": [30.0, 29.0, 28.0, 27.0, 26.0, 25.0, 24.0, 23.0, 22.0, 21.0, 20.0, 19.0, 18.0, 17.0, 16.0, 15.0, 14.0, 13.0, 12.0, 11.0, 10.0, 9.0, 8.0, 7.0, 6.0, 5.0, 4.0, 3.0, 2.0, 1.0, 1.7087, 1.7087, 1.7087, 1.7087, 1.7087, 1.7087, 1.7087, 1.7087, 1.7087, 1.7087, 1.7087, 1.7087, 1.7087, 1.7087, 1.7087, 1.7087, 1.7086, 1.7086, 1.7086, 1.7086, 1.7086, 1.7086, 1.7086, 1.7086, 1.7086, 1.7086, 1.7086, 1.7086, 1.7085, 1.7085, 1.7042, 1.6957, 1.6763, 1.6541, 1.6966, 1.6035, 1.6637, 1.6606, 1.5133, 1.6613, 1.4441, 1.5628, 1.5757, 1.5933, 1.5113, 1.2776, 1.3312, 1.4611, 1.2479, 1.1913, 1.0797, 1.0615, 1.0619, 0.6619, 0.8345, 0.9369, 0.6539, 0.9659, 1.1117, 0.873, 0.447, 0.5747, 1.0762, 0.7739, 0.4774, 0.0737, 1.0099, 0.0473, 0.4704, -0.2632, 1.7186, 1.7185, 1.7185, 1.7185, 1.7184, 1.7184, 1.7184, 1.7184, 1.7184, 1.7184, 1.7184, 1.7184, 1.7184, 1.7184, 1.7183, 1.7183, 1.7183, 1.7183, 1.7183, 1.7183, 1.7183, 1.7183, 1.7183, 1.7182, 1.7182, 1.7182, 1.7182, 1.7182, 1.7182, 1.7182, 1.7135, 1.7143, 1.698, 1.6832, 1.6335, 1.7027, 1.696, 1.5399, 1.5972, 1.2215, 1.6082, 1.5981, 1.6698, 1.2685, 1.4425, 1.296, 1.3669, 1.5177, 1.4329, 0.8215, 1.0777, 1.3685, 1.4285, 1.3707, 1.3087, 1.4238, 0.7055, 0.9947, 0.7198, 1.1343, 0.1997, 0.0542, 0.499, 0.3019, 0.8707, 0.4797, 0.5737, 0.2169, 0.6116, 0.8428, 0.3016, -0.2702, 0.1504, 0.0254, -0.1469, -0.5258, 1.7568, 1.7568, 1.7568, 1.7568, 1.7567, 1.7567, 1.7567, 1.7567, 1.7567, 1.7567, 1.7567, 1.7566, 1.7566, 1.7566, 1.7566, 1.7566, 1.7566, 1.7566, 1.7566, 1.7565, 1.7565, 1.7564, 1.7564, 1.7564, 1.7564, 1.7564, 1.7564, 1.7564, 1.7564, 1.7563, 1.7377, 1.7366, 1.7345, 1.7351, 1.6734, 1.6596, 1.5682, 1.6463, 1.6773, 1.4744, 1.6581, 1.4971, 1.6413, 1.6217, 1.611, 1.4815, 1.2194, 1.4029, 0.8569, 1.2572, 0.7626, 1.3784, 1.1312, 0.3941, 0.5347, 1.3731, 1.1573, 0.8115, 0.5907, 0.2809, 0.599, 0.6849, 0.5105, 0.5455, 0.9011, 0.0142, 0.4839, -0.124, 0.3344, 0.3878, 0.3752, 0.513, 0.105, 0.3495, -0.0518, 0.2157, -0.3094, 0.1977, -0.2922, -0.0828, 0.2033, 1.7568, 1.7568, 1.7568, 1.7568, 1.7568, 1.7568, 1.7568, 1.7568, 1.7568, 1.7568, 1.7568, 1.7568, 1.7568, 1.7567, 1.7567, 1.7567, 1.7567, 1.7567, 1.7567, 1.7566, 1.7566, 1.7566, 1.7566, 1.7566, 1.7566, 1.7566, 1.7566, 1.7565, 1.7565, 1.7565, 1.7516, 1.7345, 1.6999, 1.726, 1.6669, 1.7086, 1.7314, 1.663, 1.6394, 1.7006, 1.5366, 1.5339, 1.5043, 1.6132, 1.6307, 1.6183, 1.5736, 1.5468, 1.4877, 1.4067, 1.3566, 1.5317, 1.4415, 1.3417, 1.2927, 1.5295, 1.3244, 1.5133, 1.0614, 1.131, 1.3347, 0.7073, 1.2376, 0.8456, 0.5978, 0.7124, 0.7398, 0.2367, -0.0653, 0.3463, 0.1491, -0.2668, -0.1557, 0.3559, -0.3046, 0.3206, 1.8312, 1.8312, 1.8312, 1.8312, 1.8311, 1.8311, 1.8311, 1.8311, 1.8311, 1.8311, 1.8311, 1.8311, 1.8311, 1.8311, 1.8311, 1.831, 1.831, 1.831, 1.831, 1.831, 1.831, 1.831, 1.831, 1.8309, 1.8309, 1.8309, 1.8309, 1.8309, 1.8309, 1.8308, 1.7636, 1.8116, 1.7851, 1.8022, 1.8022, 1.7197, 1.7488, 1.583, 1.7072, 1.6709, 1.7703, 1.6703, 1.7622, 1.7128, 1.4811, 1.3892, 1.6013, 1.6467, 1.283, 0.488, 1.1339, 1.0988, 0.7229, 1.1345, 0.1689, 0.1877, 0.3591, 0.2424, 0.7216, 0.3373, 0.7685, 0.228, 0.2656, 0.7072, -0.0669, 0.4217, 0.4386, 0.4953, 0.2643, 0.3423, 0.0969, 0.3657, 0.5521, 0.1794, -0.3557, 0.0479, 0.0367, 2.0076, 2.0075, 2.0075, 2.0075, 2.0075, 2.0075, 2.0074, 2.0074, 2.0074, 2.0073, 2.0073, 2.0073, 2.0073, 2.0073, 2.0073, 2.0073, 2.0073, 2.0073, 2.0072, 2.0072, 2.0071, 2.0071, 2.0071, 2.007, 2.007, 2.007, 2.007, 2.007, 2.007, 2.007, 2.007, 1.9144, 1.9788, 1.9343, 1.8859, 1.9809, 1.9861, 1.9095, 1.8553, 1.8828, 1.8372, 1.6305, 1.691, 1.924, 1.6227, 1.7794, 1.5491, 1.8765, 1.593, 1.7035, 1.5494, 1.7209, 1.6311, 1.054, 0.9799, 1.1292, 1.3251, 1.4913, 1.4022, 0.7054, 1.5837, 0.4956, 0.5473, 0.4118, 0.4192, 0.0296, 0.4041, 0.9282, -0.1826, 0.555, 0.4494, 0.4416, -0.2217, 0.34, -0.3454, 0.4141, 0.5901], \"Category\": [\"Default\", \"Default\", \"Default\", \"Default\", \"Default\", \"Default\", \"Default\", \"Default\", \"Default\", \"Default\", \"Default\", \"Default\", \"Default\", \"Default\", \"Default\", \"Default\", \"Default\", \"Default\", \"Default\", \"Default\", \"Default\", \"Default\", \"Default\", \"Default\", \"Default\", \"Default\", \"Default\", \"Default\", \"Default\", \"Default\", \"Topic1\", \"Topic1\", \"Topic1\", \"Topic1\", \"Topic1\", \"Topic1\", \"Topic1\", \"Topic1\", \"Topic1\", \"Topic1\", \"Topic1\", \"Topic1\", \"Topic1\", \"Topic1\", \"Topic1\", \"Topic1\", \"Topic1\", \"Topic1\", \"Topic1\", \"Topic1\", \"Topic1\", \"Topic1\", \"Topic1\", \"Topic1\", \"Topic1\", \"Topic1\", \"Topic1\", \"Topic1\", \"Topic1\", \"Topic1\", \"Topic1\", \"Topic1\", \"Topic1\", \"Topic1\", \"Topic1\", \"Topic1\", \"Topic1\", \"Topic1\", \"Topic1\", \"Topic1\", \"Topic1\", \"Topic1\", \"Topic1\", \"Topic1\", \"Topic1\", \"Topic1\", \"Topic1\", \"Topic1\", \"Topic1\", \"Topic1\", \"Topic1\", \"Topic1\", \"Topic1\", \"Topic1\", \"Topic1\", \"Topic1\", \"Topic1\", \"Topic1\", \"Topic1\", \"Topic1\", \"Topic1\", \"Topic1\", \"Topic1\", \"Topic1\", \"Topic1\", \"Topic1\", \"Topic1\", \"Topic1\", \"Topic1\", \"Topic1\", \"Topic2\", \"Topic2\", \"Topic2\", \"Topic2\", \"Topic2\", \"Topic2\", \"Topic2\", \"Topic2\", \"Topic2\", \"Topic2\", \"Topic2\", \"Topic2\", \"Topic2\", \"Topic2\", \"Topic2\", \"Topic2\", \"Topic2\", \"Topic2\", \"Topic2\", \"Topic2\", \"Topic2\", \"Topic2\", \"Topic2\", \"Topic2\", \"Topic2\", \"Topic2\", \"Topic2\", \"Topic2\", \"Topic2\", \"Topic2\", \"Topic2\", \"Topic2\", \"Topic2\", \"Topic2\", \"Topic2\", \"Topic2\", \"Topic2\", \"Topic2\", \"Topic2\", \"Topic2\", \"Topic2\", \"Topic2\", \"Topic2\", \"Topic2\", \"Topic2\", \"Topic2\", \"Topic2\", \"Topic2\", \"Topic2\", \"Topic2\", \"Topic2\", \"Topic2\", \"Topic2\", \"Topic2\", \"Topic2\", \"Topic2\", \"Topic2\", \"Topic2\", \"Topic2\", \"Topic2\", \"Topic2\", \"Topic2\", \"Topic2\", \"Topic2\", \"Topic2\", \"Topic2\", \"Topic2\", \"Topic2\", \"Topic2\", \"Topic2\", \"Topic2\", \"Topic2\", \"Topic2\", \"Topic2\", \"Topic2\", \"Topic2\", \"Topic3\", \"Topic3\", \"Topic3\", \"Topic3\", \"Topic3\", \"Topic3\", \"Topic3\", \"Topic3\", \"Topic3\", \"Topic3\", \"Topic3\", \"Topic3\", \"Topic3\", \"Topic3\", \"Topic3\", \"Topic3\", \"Topic3\", \"Topic3\", \"Topic3\", \"Topic3\", \"Topic3\", \"Topic3\", \"Topic3\", \"Topic3\", \"Topic3\", \"Topic3\", \"Topic3\", \"Topic3\", \"Topic3\", \"Topic3\", \"Topic3\", \"Topic3\", \"Topic3\", \"Topic3\", \"Topic3\", \"Topic3\", \"Topic3\", \"Topic3\", \"Topic3\", \"Topic3\", \"Topic3\", \"Topic3\", \"Topic3\", \"Topic3\", \"Topic3\", \"Topic3\", \"Topic3\", \"Topic3\", \"Topic3\", \"Topic3\", \"Topic3\", \"Topic3\", \"Topic3\", \"Topic3\", \"Topic3\", \"Topic3\", \"Topic3\", \"Topic3\", \"Topic3\", \"Topic3\", \"Topic3\", \"Topic3\", \"Topic3\", \"Topic3\", \"Topic3\", \"Topic3\", \"Topic3\", \"Topic3\", \"Topic3\", \"Topic3\", \"Topic3\", \"Topic3\", \"Topic3\", \"Topic3\", \"Topic3\", \"Topic3\", \"Topic3\", \"Topic3\", \"Topic3\", \"Topic3\", \"Topic3\", \"Topic4\", \"Topic4\", \"Topic4\", \"Topic4\", \"Topic4\", \"Topic4\", \"Topic4\", \"Topic4\", \"Topic4\", \"Topic4\", \"Topic4\", \"Topic4\", \"Topic4\", \"Topic4\", \"Topic4\", \"Topic4\", \"Topic4\", \"Topic4\", \"Topic4\", \"Topic4\", \"Topic4\", \"Topic4\", \"Topic4\", \"Topic4\", \"Topic4\", \"Topic4\", \"Topic4\", \"Topic4\", \"Topic4\", \"Topic4\", \"Topic4\", \"Topic4\", \"Topic4\", \"Topic4\", \"Topic4\", \"Topic4\", \"Topic4\", \"Topic4\", \"Topic4\", \"Topic4\", \"Topic4\", \"Topic4\", \"Topic4\", \"Topic4\", \"Topic4\", \"Topic4\", \"Topic4\", \"Topic4\", \"Topic4\", \"Topic4\", \"Topic4\", \"Topic4\", \"Topic4\", \"Topic4\", \"Topic4\", \"Topic4\", \"Topic4\", \"Topic4\", \"Topic4\", \"Topic4\", \"Topic4\", \"Topic4\", \"Topic4\", \"Topic4\", \"Topic4\", \"Topic4\", \"Topic4\", \"Topic4\", \"Topic4\", \"Topic4\", \"Topic4\", \"Topic4\", \"Topic4\", \"Topic4\", \"Topic4\", \"Topic4\", \"Topic5\", \"Topic5\", \"Topic5\", \"Topic5\", \"Topic5\", \"Topic5\", \"Topic5\", \"Topic5\", \"Topic5\", \"Topic5\", \"Topic5\", \"Topic5\", \"Topic5\", \"Topic5\", \"Topic5\", \"Topic5\", \"Topic5\", \"Topic5\", \"Topic5\", \"Topic5\", \"Topic5\", \"Topic5\", \"Topic5\", \"Topic5\", \"Topic5\", \"Topic5\", \"Topic5\", \"Topic5\", \"Topic5\", \"Topic5\", \"Topic5\", \"Topic5\", \"Topic5\", \"Topic5\", \"Topic5\", \"Topic5\", \"Topic5\", \"Topic5\", \"Topic5\", \"Topic5\", \"Topic5\", \"Topic5\", \"Topic5\", \"Topic5\", \"Topic5\", \"Topic5\", \"Topic5\", \"Topic5\", \"Topic5\", \"Topic5\", \"Topic5\", \"Topic5\", \"Topic5\", \"Topic5\", \"Topic5\", \"Topic5\", \"Topic5\", \"Topic5\", \"Topic5\", \"Topic5\", \"Topic5\", \"Topic5\", \"Topic5\", \"Topic5\", \"Topic5\", \"Topic5\", \"Topic5\", \"Topic5\", \"Topic5\", \"Topic5\", \"Topic5\", \"Topic5\", \"Topic5\", \"Topic5\", \"Topic5\", \"Topic5\", \"Topic5\", \"Topic6\", \"Topic6\", \"Topic6\", \"Topic6\", \"Topic6\", \"Topic6\", \"Topic6\", \"Topic6\", \"Topic6\", \"Topic6\", \"Topic6\", \"Topic6\", \"Topic6\", \"Topic6\", \"Topic6\", \"Topic6\", \"Topic6\", \"Topic6\", \"Topic6\", \"Topic6\", \"Topic6\", \"Topic6\", \"Topic6\", \"Topic6\", \"Topic6\", \"Topic6\", \"Topic6\", \"Topic6\", \"Topic6\", \"Topic6\", \"Topic6\", \"Topic6\", \"Topic6\", \"Topic6\", \"Topic6\", \"Topic6\", \"Topic6\", \"Topic6\", \"Topic6\", \"Topic6\", \"Topic6\", \"Topic6\", \"Topic6\", \"Topic6\", \"Topic6\", \"Topic6\", \"Topic6\", \"Topic6\", \"Topic6\", \"Topic6\", \"Topic6\", \"Topic6\", \"Topic6\", \"Topic6\", \"Topic6\", \"Topic6\", \"Topic6\", \"Topic6\", \"Topic6\", \"Topic6\", \"Topic6\", \"Topic6\", \"Topic6\", \"Topic6\", \"Topic6\", \"Topic6\", \"Topic6\", \"Topic6\", \"Topic6\", \"Topic6\", \"Topic6\", \"Topic6\", \"Topic6\", \"Topic6\", \"Topic6\", \"Topic6\", \"Topic6\"], \"Term\": [\"robot\", \"3dprint\", \"data\", \"analyt\", \"trump\", \"learn\", \"stem\", \"raspberri\", \"maker\", \"print\", \"kit\", \"deep\", \"innov\", \"machin\", \"python\", \"strategi\", \"drone\", \"busi\", \"neural\", \"educ\", \"market\", \"d3js\", \"scratchmit2016\", \"para\", \"3dexperi\", \"hopscotch\", \"tai\", \"classroom\", \"scratch\", \"electron\", \"pepper\", \"moss\", \"tai\", \"scratchmit2016\", \"ecsite2016\", \"boulder\", \"endeavor\", \"flume\", \"micro4ed16\", \"eclipse2016\", \"dissect\", \"iste2016\", \"pier\", \"alaac15\", \"robotlaunch2015\", \"linkag\", \"vex\", \"csk8\", \"icra2016\", \"scribbl\", \"mas\", \"iste2015\", \"bien\", \"cubelet\", \"erf2017\", \"fetc17\", \"nsta15\", \"lune\", \"socialmetrix_\", \"227\", \"hoy\", \"chi\", \"classroom\", \"para\", \"inquiri\", \"scratch\", \"elementari\", \"literaci\", \"stem\", \"nous\", \"educ\", \"grade\", \"teacher\", \"marbl\", \"las\", \"maker\", \"school\", \"con\", \"art\", \"inspir\", \"scienc\", \"make\", \"join\", \"learn\", \"love\", \"code\", \"today\", \"excit\", \"workshop\", \"fun\", \"day\", \"check\", \"play\", \"amaz\", \"come\", \"work\", \"class\", \"look\", \"project\", \"time\", \"impala\", \"vis\", \"entiti\", \"infer\", \"2017careerwish\", \"nips2015\", \"kdd2014\", \"latex\", \"bibliographi\", \"probabilist\", \"classif\", \"nips2016\", \"nips2014\", \"gradient\", \"malofiej25\", \"convolut\", \"word2vec\", \"convex\", \"unsupervis\", \"recurr\", \"regress\", \"stochast\", \"nanog61\", \"corpus\", \"votenature2016\", \"unfair\", \"bootstrap\", \"dosa\", \"ibi\", \"multistag\", \"d3js\", \"semant\", \"neural\", \"scala\", \"deep\", \"ec2\", \"reinforc\", \"python\", \"statist\", \"data\", \"differenti\", \"cluster\", \"docker\", \"machin\", \"analysi\", \"paper\", \"apach\", \"algorithm\", \"2010\", \"learn\", \"interest\", \"predict\", \"privaci\", \"text\", \"languag\", \"distribut\", \"post\", \"research\", \"talk\", \"search\", \"work\", \"time\", \"read\", \"think\", \"train\", \"big\", \"also\", \"peopl\", \"use\", \"model\", \"tri\", \"look\", \"code\", \"way\", \"need\", \"day\", \"sheep\", \"4yo\", \"ps4share\", \"opal\", \"repl4nlp\", \"curri\", \"ust\", \"esslli2010\", \"538\", \"9to5toy\", \"naacl2013\", \"republican\", \"gopigo2\", \"harass\", \"tori\", \"penc\", \"sandbox15\", \"abort\", \"makev57\", \"whm17\", \"acl2013\", \"3dhangout\", \"fascism\", \"acl14nlp\", \"atheism\", \"9to5reward\", \"trapez\", \"denial\", \"disgrac\", \"interwork\", \"trump\", \"sander\", \"data15\", \"data16\", \"basketbal\", \"abus\", \"elect\", \"ugh\", \"voter\", \"tableau\", \"racist\", \"god\", \"elector\", \"husband\", \"opposit\", \"jam\", \"kind\", \"polit\", \"peopl\", \"presid\", \"much\", \"poll\", \"vote\", \"time\", \"think\", \"woman\", \"sad\", \"tonight\", \"still\", \"love\", \"right\", \"even\", \"well\", \"also\", \"actual\", \"day\", \"mani\", \"work\", \"read\", \"watch\", \"back\", \"lot\", \"first\", \"last\", \"need\", \"made\", \"today\", \"year\", \"look\", \"come\", \"tri\", \"tdf2015\", \"conasta64\", \"industrie40\", \"easel\", \"tdf2016\", \"aerodrom\", \"g4c14\", \"conasta65\", \"strateg\", \"innovation150\", \"industry40\", \"unman\", \"hm17\", \"roi\", \"cro\", \"td3pi\", \"smp2017\", \"aviat\", \"actuanc2016\", \"imts2016\", \"p2irc\", \"saskatoon\", \"typhoon\", \"telford\", \"automatica2016\", \"pix4d\", \"0333\", \"tucon2013\", \"part107\", \"orthosi\", \"b2b\", \"agil\", \"strategi\", \"agricultur\", \"analyt\", \"leadership\", \"commerc\", \"carv\", \"climat\", \"aerial\", \"innov\", \"market\", \"busi\", \"desk\", \"canada\", \"certif\", \"career\", \"daili\", \"industri\", \"latest\", \"digit\", \"youth\", \"manag\", \"drone\", \"technolog\", \"transform\", \"cloud\", \"global\", \"team\", \"futur\", \"success\", \"data\", \"custom\", \"tech\", \"help\", \"world\", \"find\", \"today\", \"learn\", \"need\", \"look\", \"work\", \"day\", \"take\", \"time\", \"design\", \"3dexperi\", \"hopscotch\", \"4millionsmil\", \"mk2\", \"prusai3\", \"nozzl\", \"mrrf2017\", \"lam2017\", \"extrud\", \"fab13\", \"spitfir\", \"sww16\", \"cmk16\", \"slic3r\", \"r17\", \"wantag\", \"mk2s\", \"z18\", \"3dscompass\", \"9500\", \"encycl\", \"prusai3mk2\", \"3dp\", \"orchestr8\", \"fr4\", \"6800\", \"334\", \"12v\", \"extrus\", \"d3ci\", \"3dprint\", \"giggl\", \"filament\", \"sigma\", \"decor\", \"shed\", \"ces2015\", \"print\", \"pinbal\", \"3dprinter\", \"fidget\", \"coupon\", \"spinner\", \"printabl\", \"printer\", \"sorri\", \"workbench\", \"rad\", \"gift\", \"look\", \"photo\", \"order\", \"well\", \"store\", \"work\", \"time\", \"need\", \"love\", \"sure\", \"build\", \"hear\", \"check\", \"help\", \"wait\", \"day\", \"fun\", \"cool\", \"back\", \"take\", \"made\", \"think\", \"tri\", \"pleas\", \"design\", \"today\", \"first\", \"way\", \"3dthursday\", \"servo\", \"scolarticchat46\", \"resistor\", \"2016baffi\", \"balluff_showman\", \"emb2016\", \"mfr16\", \"esp8266\", \"mfr15\", \"proxim\", \"mkr1000\", \"capacit\", \"oscilloscop\", \"ultrason\", \"pi3\", \"2015baf\", \"ele16\", \"photoelectr\", \"distributor\", \"gripper\", \"res16\", \"hydraul\", \"0mi\", \"arduinod15\", \"florenc\", \"conf4ca\", \"esp32\", \"genuinod2016\", \"ew17\", \"mood4givin\", \"robot\", \"che\", \"sensor\", \"raspberri\", \"blinki\", \"cylind\", \"shield\", \"wearabl\", \"plotter\", \"compat\", \"kit\", \"electron\", \"eagl\", \"control\", \"starter\", \"board\", \"induct\", \"laser\", \"clock\", \"solder\", \"wireless\", \"arm\", \"project\", \"video\", \"power\", \"interact\", \"hardwar\", \"led\", \"build\", \"forum\", \"check\", \"maker\", \"come\", \"first\", \"day\", \"post\", \"drone\", \"work\", \"open\", \"machin\", \"cool\", \"today\", \"made\", \"time\", \"tech\", \"show\"], \"Freq\": [50014.0, 39332.0, 67701.0, 31003.0, 27147.0, 100685.0, 36185.0, 22034.0, 35706.0, 26746.0, 22248.0, 18445.0, 21930.0, 29577.0, 18190.0, 12988.0, 16283.0, 21676.0, 11446.0, 22388.0, 18631.0, 10639.0, 10245.0, 11723.0, 9109.0, 9082.0, 9568.0, 10521.0, 13021.0, 12585.0, 8284.473303824614, 8477.076151094676, 9568.924350786961, 10245.913745937627, 7585.664059644855, 7174.552192764663, 4211.119722988697, 4183.500798594813, 3775.117139651246, 3456.215119218681, 3294.594078679865, 3271.72966904847, 2781.409305369644, 2770.864682659752, 2763.071987981936, 2601.894486698009, 2174.1230021193983, 2174.9111205684844, 2174.106722211125, 2190.831761806215, 2084.965103032943, 2022.4363241273204, 1982.6593848835932, 1730.7061116294308, 1660.0791725397535, 1624.520447782875, 1618.0087933651696, 1591.1065112599929, 1567.0622964806294, 1529.1853469296577, 4173.058501893817, 6927.158634570535, 10185.816123077431, 11100.521367060264, 2104.6089551020714, 11721.244576577406, 3613.039791665141, 3752.863791743005, 29763.64848266356, 3424.9358568883185, 17183.4035830611, 6783.4246632305285, 5898.478132865126, 5168.242536787044, 8074.712151554875, 23201.114357094735, 13951.378724642738, 7667.1556423328275, 12109.640054324549, 13447.574993958842, 17386.12308860354, 17050.835016616093, 15077.011110229085, 35345.15905833101, 23474.455454484487, 15827.002814320369, 23527.871519289845, 13078.238658446504, 10065.6141647589, 13139.337804945822, 18967.351376511728, 14947.383862978046, 9845.442273012606, 11418.361514994858, 13146.614647991333, 15002.601714531678, 9459.062626379002, 11215.549747295998, 9420.609570619668, 9857.439783771197, 6947.268268862707, 5148.325978897746, 3433.5314367992537, 3190.7038162818612, 2689.6432636207846, 2621.0653018902876, 2571.5122105478085, 2573.801322362156, 2566.734044617553, 2387.7254478733034, 2310.528532122553, 2299.606311476672, 2268.709666147206, 2198.326880087772, 2082.984131083555, 2015.7047576962245, 1940.4983612917142, 1787.9584840080588, 1768.489237750711, 1758.826874634901, 1719.8564316831025, 1684.9783838172393, 1648.825604180683, 1531.5002727318551, 1526.4019071078112, 1491.2997485516878, 1464.0879710592676, 1357.2350846969555, 1344.9819749660924, 1318.958762874696, 10583.334201887104, 5608.2833694562, 11211.37096797435, 4778.004814266054, 16937.815775770592, 2032.1527240327696, 2158.313142478034, 15211.576612063349, 5196.61955154585, 41177.2996795349, 3450.751404081401, 3622.8546172285546, 2330.372913403208, 18855.09353926088, 6745.235294125916, 11307.869695548694, 8180.991443894342, 4388.795814029263, 5428.400122608008, 41050.07640443782, 14273.841664183949, 5591.523824330238, 4687.405065346826, 5077.233573068014, 5726.179100433674, 4209.315882258876, 12809.399697059112, 7963.361724147172, 11791.212363305314, 5909.976041230626, 16846.97553572882, 13404.848816044694, 9113.800385801233, 10404.243793768455, 6654.891492462481, 8538.245918537144, 8004.968667785697, 8124.115620210976, 7004.948446872985, 6372.874420689204, 7151.940775381881, 8083.394947482358, 7136.2274028418615, 7304.521248415637, 7461.096020569709, 7098.257226706998, 6331.721856374999, 6010.312094611801, 5330.893196174684, 2533.2173743381345, 2011.7033101988204, 1984.0358333224467, 1902.4444241702768, 1732.3255260911294, 1693.364487291608, 1585.3054528892092, 1452.9477419822595, 1252.1362726407074, 1227.3160296463727, 1175.437834083317, 1154.9039784554946, 995.458993574386, 995.1554959900033, 980.5736447007358, 942.9429925473146, 841.9316690718172, 782.4390292319288, 774.590675317912, 759.9461791509035, 742.2994793129492, 734.9435365238369, 697.633872275881, 689.4325369903653, 681.9026093473758, 678.2430945452998, 648.4996549243263, 26631.687481196634, 1828.1549719445563, 1463.070877185448, 1121.752057755657, 1810.6946334080283, 1795.0954925850135, 4025.019061085506, 1947.8581049950023, 1507.3304344935284, 6487.755838550589, 1555.5918413519225, 4038.609488330554, 1707.8943300067242, 1744.9276311278413, 1797.7159746587936, 2863.36229183194, 6316.530072823343, 3374.964367819903, 14830.335564296169, 3883.423264061651, 9972.411920581362, 2772.103180360753, 4496.008230398078, 18125.72494384156, 12640.142045137149, 2695.732015990574, 3711.7895762515336, 6206.350861778134, 8367.896742709605, 12859.77500352506, 8212.547119334322, 6460.379137671777, 7847.492761312223, 7491.140021844724, 4818.285098508196, 11724.885472231705, 6606.92447405768, 11732.658855835605, 7441.246690104187, 6981.172659629999, 6733.974273461998, 6054.233626324569, 7921.744083686175, 6415.430462678173, 7898.576945986374, 6787.685362695093, 8556.724841256235, 6583.709357631916, 7611.111682306938, 7154.834928063739, 6240.137732126715, 7508.13302932478, 6267.697074183173, 4680.874515264061, 4137.788154156793, 4076.465150574978, 3410.231500106388, 3388.413111306606, 3190.4244005835862, 3190.649977747602, 3177.279365838499, 3159.7070723951388, 3137.774577476489, 2875.3632134402856, 2377.099491152705, 2304.280506226713, 2180.650294214331, 2032.906245792754, 1949.5833025986913, 1936.284397332093, 1566.7394216656157, 1525.6424799034169, 1486.6670673940769, 1425.4599053530976, 1407.1354717930267, 1284.0466484877707, 1268.5899067614366, 1235.1035070000357, 1154.540267095385, 1144.273103913041, 1140.0817981140594, 3203.136592332019, 4382.078342410158, 12264.27583379515, 4901.141174303472, 28324.488616719373, 6808.425640151695, 3071.167181305862, 8657.269031482396, 8013.432976124242, 3427.9640569401176, 17588.444979889144, 14902.387518054566, 16831.57888393616, 6904.0837213690775, 5377.601785418088, 5829.548780104854, 7161.159891053293, 8154.048513397772, 10835.452868191665, 14879.878778289007, 14145.803652227607, 6826.956826393676, 8585.209891383922, 10746.882269061389, 12290.581316610336, 6232.7217862637635, 10408.20038390775, 6297.707930372524, 15376.132346755307, 13219.9818191008, 8523.191103938872, 23692.776297979486, 9125.767741781217, 11431.571626231216, 13306.59716345169, 11699.380317890229, 11072.990726305718, 14767.668850691829, 16271.52618467914, 11755.543429692707, 11829.536953339866, 10167.90738070901, 9889.141458228254, 8906.106122982057, 9009.511826261807, 8537.968392216068, 9108.809522158284, 9081.838628096522, 6776.566654580188, 4380.303428348472, 3514.715343040784, 3299.6102939996094, 2800.0481641232864, 2779.1099573580595, 2665.746991622518, 2518.585718890059, 2449.253217426158, 2307.5714483711545, 1626.1112527738028, 1521.4017015080685, 1381.4610912059115, 1277.5505963109615, 1082.2677700194429, 1038.7490840789071, 1020.6038794077422, 1003.0084083456098, 988.8227502568492, 971.2982990312529, 961.4075509989801, 905.7601073503694, 890.6763759630933, 816.1790834927584, 816.1790834927584, 790.0254337587963, 789.6758516076038, 768.5907798767379, 36758.387687970084, 1639.7036640249949, 3740.527484851209, 1790.5498303221846, 1421.5479302725312, 4195.142310155986, 2786.001026452282, 20865.513390654796, 4076.257179920543, 5423.058345235582, 1944.9692584378697, 4434.87291768643, 1833.0748003774315, 2411.9764115771677, 7734.111550066651, 11103.933875268025, 3117.434715823413, 2423.8904133968863, 4413.919260127668, 15416.479386542018, 5287.072627240334, 5597.627047462664, 9008.577519412303, 4628.535548380852, 14597.572718764864, 13688.353296741541, 11057.392248893131, 11487.086516506295, 7137.452155302041, 9694.580083893392, 6566.974209439153, 9348.875035958361, 8864.083149789976, 6261.668333325062, 10037.258257812631, 7401.997053393438, 7309.121869844928, 7049.011122246332, 7547.078104349532, 7151.31588834388, 7574.08890579749, 6814.40896165972, 6362.130899444573, 6884.536206877092, 7583.451661336161, 6945.729285501364, 6601.839670637024, 6364.539732996615, 4561.795419370997, 4298.302182594331, 3758.798338028272, 3186.7156380032443, 2931.4348049852397, 2314.0222816946116, 2095.2921253548184, 2046.491022407107, 1889.5424154823418, 1830.5128667651413, 1776.9742704417256, 1769.1877486980109, 1552.139506518371, 1516.9891786196713, 1503.267711789825, 1491.7151151902199, 1457.697228717552, 1242.8418753462172, 1232.1942659651831, 1177.7168294226963, 1056.4355312380553, 1033.070112196165, 993.9248882439659, 952.7225285539189, 936.6733478459754, 915.4142709292669, 894.112735546584, 893.7968389580517, 874.2571722773432, 874.2571722773432, 45558.69957793131, 2289.0784511109173, 7879.303457676425, 19507.142247556425, 1956.7709387493055, 1345.7203447392478, 4426.5786601796935, 3846.8628278336078, 2946.1668481280426, 4049.0318852182145, 15257.804347338848, 9168.631957166097, 2076.752420501798, 8621.93782341142, 3782.65783780201, 8230.109346557709, 2355.4159686268295, 5584.630559958284, 3891.951989908861, 5445.003346966414, 3348.731287815133, 3978.611835255447, 12521.0196153694, 14348.606955719975, 9393.5081135133, 5939.941281286614, 4530.7339862919125, 4874.842063635134, 11742.181891200398, 3826.272475424409, 10240.859997038704, 8288.652149813497, 9129.738415986005, 8440.11160053563, 9265.021754971918, 7098.231513678702, 5532.226102329294, 8609.7790116936, 6431.372470558029, 6225.842338699789, 6145.355439391007, 7268.576099470558, 5980.954857294323, 6732.730452553096, 5779.924934926659, 5487.237729277079], \"Total\": [50014.0, 39332.0, 67701.0, 31003.0, 27147.0, 100685.0, 36185.0, 22034.0, 35706.0, 26746.0, 22248.0, 18445.0, 21930.0, 29577.0, 18190.0, 12988.0, 16283.0, 21676.0, 11446.0, 22388.0, 18631.0, 10639.0, 10245.0, 11723.0, 9109.0, 9082.0, 9568.0, 10521.0, 13021.0, 12585.0, 8284.473303824614, 8477.076151094676, 9568.924350786961, 10245.913745937627, 7585.664059644855, 7174.552192764663, 4211.131152695966, 4183.513141198001, 3775.1559081276805, 3456.2780513082967, 3294.6703770429485, 3271.8065511157392, 2781.5231861298, 2770.9792203042202, 2763.187241633085, 2602.022180502726, 2174.2826167797266, 2175.0708348272124, 2174.2664858777885, 2190.9941578204403, 2085.1356275024677, 2022.611904782681, 1982.8399910183934, 1730.925510741043, 1660.3118034232707, 1624.7580011950017, 1618.247447152667, 1591.3506542732778, 1567.3096727657194, 1529.4392526202616, 4191.852755925941, 7018.021078559713, 10521.601649973176, 11723.557339205805, 2130.2243812874603, 13021.831889296654, 3779.451900142908, 3937.6328936243867, 36185.011882615654, 3591.0838141624545, 22388.358551740108, 7848.971123007605, 6737.233130815238, 5800.569178749595, 9837.180950054732, 35706.99818993732, 20350.633178035176, 9820.912049952083, 19198.712797339424, 22560.979589924224, 32610.846901949426, 32570.58484389211, 28788.37147627738, 100685.25077533103, 56266.92504644671, 34244.933355703826, 67556.90235423301, 27487.43144407595, 18285.728998420956, 30305.919240044837, 66981.91554646323, 46458.62234670528, 18532.508580660782, 29079.878259015055, 45035.23100632947, 76957.49521726357, 19025.35297169273, 59069.05435809023, 32497.5989034562, 70818.60911921388, 6948.52907400655, 5149.415799008837, 3434.469116822819, 3191.619682496109, 2690.5162292830646, 2621.9311630227567, 2572.373680102916, 2574.6638606933484, 2567.5952008596496, 2388.570905301649, 2311.3671594993107, 2300.4439937842753, 2269.544527069897, 2199.1559244636846, 2083.8027831431878, 2016.5175639776605, 1941.3045304760344, 1788.751111867594, 1769.2806763684666, 1759.6170362111625, 1720.6433155229543, 1685.7619963661857, 1649.6060033021686, 1532.2708965594663, 1527.1716639704587, 1492.067266319961, 1464.8560098519079, 1357.990134276069, 1345.7359979290218, 1319.7109255150888, 10639.337929794709, 5633.157656040709, 11446.126442160676, 4951.066543860823, 18445.348489992182, 2064.9072327379286, 2207.848141069412, 18190.90419485538, 5868.0713658782915, 67701.61538912918, 3854.067145006411, 4087.228008954819, 2447.2260639202623, 29577.306371014365, 8891.199539353684, 17256.72770999245, 11631.19610336998, 5366.085094592492, 7224.195391385967, 100685.25077533103, 27096.991404437278, 7936.944671806426, 6265.990357300965, 7191.015682891218, 8628.292291374317, 5653.516777104247, 35284.98748579736, 16426.489243700566, 32016.65833560344, 10602.395839543648, 76957.49521726357, 70818.60911921388, 30862.160675267765, 42909.27454588816, 15539.521167426541, 29476.523539758335, 25155.66863341081, 36476.694407169285, 21195.179398027805, 15302.692403725992, 29504.949627525708, 59069.05435809023, 34244.933355703826, 39720.72071470794, 48197.70116680566, 66981.91554646323, 6331.981420278686, 6010.56876765087, 5331.145217526021, 2533.454900336855, 2011.9587840307652, 1984.2941766733545, 1902.7039317102701, 1732.591019856425, 1693.6313796535132, 1585.5762585045643, 1453.223255680972, 1252.419035062764, 1227.6012980496052, 1175.7235444640978, 1155.1902234936078, 995.7509970877278, 995.4490909862245, 980.8662649642665, 943.2411379323563, 842.2475012264783, 782.7637670636948, 774.9179556518653, 760.2749514404267, 742.6332647573676, 735.2763673228169, 697.9730451169366, 689.7731940025689, 682.2451524964556, 678.5857332711399, 648.847181400269, 27147.94753365054, 1865.5756056872426, 1496.2137707682323, 1146.453357667895, 1968.3762987966688, 1978.563698829884, 4860.840807635403, 2175.5789364370166, 1632.1367866125058, 8605.77496917106, 1717.061352523621, 5236.466253370616, 1917.1440118745916, 1997.41926548792, 2080.0859874927114, 3771.1138813807415, 10811.583356809855, 4808.359359230847, 36476.694407169285, 6400.738341042518, 26953.322746680988, 4047.5519189861093, 8405.23360398709, 70818.60911921388, 42909.27454588816, 3956.638972103953, 6760.476695846785, 15973.170472367203, 26857.49349535047, 56266.92504644671, 26140.474061113036, 18872.08782345523, 27291.86115349539, 25155.66863341081, 11337.838069991267, 66981.91554646323, 23596.223428528258, 76957.49521726357, 30862.160675267765, 27448.458586870624, 26811.21440726061, 21002.164820859332, 41326.312336691604, 26209.452973443775, 48197.70116680566, 31699.786318427163, 67556.90235423301, 31305.431766146, 59069.05435809023, 45035.23100632947, 29504.949627525708, 7511.387528655078, 6270.447240866306, 4682.979483866308, 4139.672484041701, 4078.3243531289977, 3411.820104091504, 3389.992611593585, 3191.9233848794024, 3192.149657166231, 3178.773010411163, 3161.1938291105585, 3139.252317269025, 2876.734104611685, 2378.2930158516424, 2305.449651913012, 2181.781440454704, 2033.9920462872985, 1950.6449849263943, 1937.3405444327998, 1567.6818288693407, 1526.5720065409923, 1487.584628580068, 1426.358891809937, 1408.0287060256462, 1284.908132854838, 1269.447239682125, 1235.953188691621, 1155.3679320118158, 1145.0980204044517, 1140.9060787773017, 3221.2319898719084, 4483.05684865214, 12988.032118088646, 5056.447081286075, 31003.689187833177, 7147.528308074161, 3151.461302525843, 9512.826724851577, 9015.492323014998, 3627.6130577684285, 21930.73080746024, 18631.299786122243, 21676.661890743715, 7973.557668193194, 6102.7953512964505, 6698.283863032452, 8604.871280525229, 10063.840298154315, 14187.341290562183, 21127.526705447453, 21117.3689578883, 8554.188439013715, 11772.634200323826, 16283.414064165572, 19557.998736691818, 7827.179135254197, 16046.371836472275, 8037.2104466174005, 30835.89268991288, 24729.841811685932, 13005.14961745623, 67701.61538912918, 15344.021732128547, 28447.051432223787, 42422.48490863313, 33261.75381097744, 30629.322016554645, 67556.90235423301, 100685.25077533103, 48197.70116680566, 59069.05435809023, 76957.49521726357, 66981.91554646323, 36165.31262828509, 70818.60911921388, 35915.82293663574, 9109.607949618947, 9082.63529185815, 6777.206459381537, 4380.780289521278, 3515.1333420755614, 3300.0136665459345, 2800.417559442994, 2779.4779610256523, 2666.1073007686914, 2518.936006446849, 2449.5987763204726, 2307.9073779072187, 1626.4012255375817, 1521.6841656648262, 1381.7411837695072, 1277.8360639717505, 1082.5629417038597, 1039.0465083206273, 1020.9022105026509, 1003.3075834998828, 989.123281666659, 971.5990375108959, 961.7089401552092, 906.0672369634334, 890.9846175106669, 816.4995110101279, 816.4995110101279, 790.350325553303, 790.0008407175569, 768.9198762357499, 39332.04780178886, 1672.330292422208, 3917.2197522761226, 1843.2842900935952, 1463.4752444335377, 4690.215926914446, 3025.342878345862, 26746.387767226635, 4614.590677037675, 6366.648224651422, 2067.2428337164574, 5209.604926216329, 1964.1820435369814, 2715.4090650860535, 10977.346731756443, 17276.007952686712, 3923.34171209339, 2915.1341076611156, 7637.158787381059, 59069.05435809023, 10619.072431616423, 11643.897568137796, 27291.86115349539, 9290.273378627007, 76957.49521726357, 70818.60911921388, 48197.70116680566, 56266.92504644671, 21651.307530721555, 43186.17913137474, 19007.30926359574, 46458.62234670528, 42422.48490863313, 19270.176035334018, 66981.91554646323, 30305.919240044837, 29423.245446725698, 26811.21440726061, 36165.31262828509, 31699.786318427163, 42909.27454588816, 29504.949627525708, 22862.634620762783, 35915.82293663574, 67556.90235423301, 41326.312336691604, 39720.72071470794, 6365.574146954151, 4562.70753624889, 4299.196550217071, 3759.658025000214, 3187.5383875402695, 2932.240287097325, 2314.787647886489, 2096.0434763137882, 2047.2393295743104, 1890.2804508890029, 1831.2471678025345, 1777.7048256465118, 1769.9230689309552, 1552.8562116715914, 1517.703452059705, 1503.9806752964867, 1492.4278700431612, 1458.407027869925, 1243.5402606973717, 1232.8987992361638, 1178.4128357540935, 1057.1264841165387, 1033.7609445524718, 994.6139376218011, 953.4095546543955, 937.360641133442, 916.1004004862068, 894.797526832874, 894.4815969273153, 874.9409324109236, 874.9409324109236, 50014.356023829634, 2356.3744804742496, 8479.819671898698, 22034.33577207916, 2009.9345620693405, 1375.1353460385444, 4883.417663590064, 4480.122018783266, 3338.1225198208094, 4801.856492825807, 22248.640897602323, 12585.823686409858, 2258.0705264966914, 12671.015157620972, 4752.762422466317, 13020.005641010528, 2685.6397891723323, 8455.074686005455, 5275.676285887694, 8610.903971860063, 4461.354474675436, 5798.324273395632, 32497.5989034562, 40103.80590853462, 22613.29866922776, 11755.790781015668, 7593.561399340386, 8931.48946936685, 43186.17913137474, 5847.079429360668, 46458.62234670528, 35706.99818993732, 45035.23100632947, 41326.312336691604, 66981.91554646323, 35284.98748579736, 16283.414064165572, 76957.49521726357, 27491.842976456166, 29577.306371014365, 29423.245446725698, 67556.90235423301, 31699.786318427163, 70818.60911921388, 28447.051432223787, 22648.10420390633], \"logprob\": [30.0, 29.0, 28.0, 27.0, 26.0, 25.0, 24.0, 23.0, 22.0, 21.0, 20.0, 19.0, 18.0, 17.0, 16.0, 15.0, 14.0, 13.0, 12.0, 11.0, 10.0, 9.0, 8.0, 7.0, 6.0, 5.0, 4.0, 3.0, 2.0, 1.0, -5.8843, -5.8613, -5.7402, -5.6718, -5.9724, -6.0281, -6.5609, -6.5675, -6.6702, -6.7585, -6.8064, -6.8134, -6.9757, -6.9795, -6.9823, -7.0424, -7.222, -7.2217, -7.2221, -7.2144, -7.2639, -7.2944, -7.3142, -7.4501, -7.4918, -7.5135, -7.5175, -7.5342, -7.5495, -7.5739, -6.57, -6.0632, -5.6777, -5.5917, -7.2545, -5.5373, -6.7141, -6.6762, -4.6054, -6.7676, -5.1547, -6.0842, -6.224, -6.3561, -5.9099, -4.8545, -5.3631, -5.9617, -5.5047, -5.3999, -5.143, -5.1625, -5.2855, -4.4335, -4.8428, -5.237, -4.8405, -5.4277, -5.6895, -5.4231, -5.056, -5.2941, -5.7117, -5.5634, -5.4225, -5.2904, -5.7517, -5.5814, -5.7558, -5.7104, -6.0503, -6.35, -6.755, -6.8284, -6.9992, -7.0251, -7.0441, -7.0433, -7.046, -7.1183, -7.1512, -7.1559, -7.1694, -7.2009, -7.2548, -7.2877, -7.3257, -7.4076, -7.4185, -7.424, -7.4464, -7.4669, -7.4886, -7.5624, -7.5657, -7.589, -7.6074, -7.6832, -7.6923, -7.7118, -5.6294, -6.2644, -5.5717, -6.4246, -5.1591, -7.2795, -7.2193, -5.2666, -6.3406, -4.2708, -6.75, -6.7014, -7.1426, -5.0519, -6.0798, -5.5631, -5.8868, -6.5096, -6.297, -4.2738, -5.3302, -6.2674, -6.4438, -6.3639, -6.2436, -6.5513, -5.4385, -5.9138, -5.5213, -6.212, -5.1645, -5.393, -5.7788, -5.6464, -6.0933, -5.8441, -5.9086, -5.8938, -6.042, -6.1366, -6.0213, -5.8988, -6.0235, -6.0001, -5.9789, -6.0288, -6.1049, -6.157, -6.277, -7.021, -7.2515, -7.2654, -7.3074, -7.401, -7.4238, -7.4897, -7.5769, -7.7257, -7.7457, -7.7889, -7.8065, -7.9551, -7.9554, -7.9701, -8.0093, -8.1226, -8.1958, -8.2059, -8.225, -8.2485, -8.2585, -8.3106, -8.3224, -8.3334, -8.3388, -8.3836, -4.6684, -7.3472, -7.57, -7.8356, -7.3568, -7.3654, -6.558, -7.2838, -7.5402, -6.0806, -7.5087, -6.5546, -7.4152, -7.3938, -7.364, -6.8985, -6.1073, -6.7341, -5.2538, -6.5938, -5.6507, -6.9309, -6.4473, -5.0532, -5.4136, -6.9588, -6.639, -6.1249, -5.8261, -5.3964, -5.8448, -6.0848, -5.8903, -5.9368, -6.3781, -5.4888, -6.0624, -5.4881, -5.9435, -6.0073, -6.0433, -6.1497, -5.8809, -6.0918, -5.8838, -6.0354, -5.8038, -6.0659, -5.9209, -5.9827, -6.1195, -5.9341, -6.1147, -6.4066, -6.53, -6.5449, -6.7234, -6.7298, -6.79, -6.7899, -6.7941, -6.7997, -6.8066, -6.894, -7.0843, -7.1154, -7.1705, -7.2407, -7.2825, -7.2894, -7.5011, -7.5277, -7.5536, -7.5956, -7.6086, -7.7001, -7.7122, -7.739, -7.8064, -7.8154, -7.819, -6.786, -6.4726, -5.4434, -6.3607, -4.6064, -6.032, -6.8281, -5.7917, -5.869, -6.7182, -5.0829, -5.2486, -5.1269, -6.018, -6.2679, -6.1872, -5.9815, -5.8516, -5.5673, -5.2501, -5.3007, -6.0293, -5.8001, -5.5755, -5.4413, -6.1203, -5.6075, -6.1099, -5.2173, -5.3684, -5.8073, -4.785, -5.739, -5.5138, -5.3619, -5.4906, -5.5456, -5.2577, -5.1607, -5.4858, -5.4795, -5.6309, -5.6587, -5.7634, -5.7519, -5.8056, -5.6669, -5.6698, -5.9626, -6.399, -6.6192, -6.6823, -6.8465, -6.854, -6.8956, -6.9524, -6.9803, -7.0399, -7.3899, -7.4565, -7.553, -7.6312, -7.7971, -7.8381, -7.8557, -7.8731, -7.8874, -7.9052, -7.9155, -7.9751, -7.9919, -8.0792, -8.0792, -8.1118, -8.1122, -8.1393, -4.2717, -7.3816, -6.5569, -7.2936, -7.5244, -6.4422, -6.8515, -4.838, -6.4709, -6.1855, -7.2109, -6.3866, -7.2701, -6.9957, -5.8305, -5.4688, -6.7391, -6.9907, -6.3913, -5.1407, -6.2108, -6.1538, -5.6779, -6.3439, -5.1953, -5.2596, -5.473, -5.4349, -5.9108, -5.6045, -5.9941, -5.6409, -5.6941, -6.0417, -5.5698, -5.8744, -5.887, -5.9232, -5.855, -5.9088, -5.8514, -5.9571, -6.0257, -5.9468, -5.8501, -5.938, -5.9888, -5.8489, -6.1819, -6.2414, -6.3755, -6.5406, -6.6241, -6.8607, -6.9599, -6.9835, -7.0633, -7.095, -7.1247, -7.1291, -7.26, -7.2829, -7.292, -7.2997, -7.3228, -7.4822, -7.4908, -7.5361, -7.6447, -7.6671, -7.7057, -7.7481, -7.7651, -7.788, -7.8116, -7.8119, -7.834, -7.834, -3.8806, -6.8715, -5.6354, -4.7289, -7.0283, -7.4027, -6.212, -6.3524, -6.6191, -6.3012, -4.9745, -5.4838, -6.9688, -5.5453, -6.3692, -5.5918, -6.8429, -5.9796, -6.3407, -6.0049, -6.4911, -6.3187, -5.1722, -5.036, -5.4596, -5.9179, -6.1888, -6.1155, -5.2365, -6.3577, -5.3733, -5.5848, -5.4881, -5.5666, -5.4734, -5.7398, -5.989, -5.5467, -5.8384, -5.8709, -5.8839, -5.7161, -5.9111, -5.7927, -5.9452, -5.9972]}, \"mdsDat\": {\"y\": [0.1011710320797988, -0.10763514633610269, -0.11516215322601896, 0.03938637643769018, -0.03678128231473065, 0.11902117335936338], \"topics\": [1, 2, 3, 4, 5, 6], \"Freq\": [18.11003171501341, 17.929219242789525, 17.258451086836544, 17.251998671127364, 16.021090297779256, 13.429208986453894], \"cluster\": [1, 1, 1, 1, 1, 1], \"x\": [-0.003313004570069212, -0.05667036316724548, 0.044374516983279405, -0.18585032765922935, 0.11111644276870548, 0.09034273564455919]}, \"plot.opts\": {\"xlab\": \"PC1\", \"ylab\": \"PC2\"}, \"lambda.step\": 0.01, \"topic.order\": [4, 2, 3, 5, 6, 1], \"R\": 30};\n",
       "\n",
       "function LDAvis_load_lib(url, callback){\n",
       "  var s = document.createElement('script');\n",
       "  s.src = url;\n",
       "  s.async = true;\n",
       "  s.onreadystatechange = s.onload = callback;\n",
       "  s.onerror = function(){console.warn(\"failed to load library \" + url);};\n",
       "  document.getElementsByTagName(\"head\")[0].appendChild(s);\n",
       "}\n",
       "\n",
       "if(typeof(LDAvis) !== \"undefined\"){\n",
       "   // already loaded: just create the visualization\n",
       "   !function(LDAvis){\n",
       "       new LDAvis(\"#\" + \"ldavis_el1049221179059798161197247914\", ldavis_el1049221179059798161197247914_data);\n",
       "   }(LDAvis);\n",
       "}else if(typeof define === \"function\" && define.amd){\n",
       "   // require.js is available: use it to load d3/LDAvis\n",
       "   require.config({paths: {d3: \"https://cdnjs.cloudflare.com/ajax/libs/d3/3.5.5/d3.min\"}});\n",
       "   require([\"d3\"], function(d3){\n",
       "      window.d3 = d3;\n",
       "      LDAvis_load_lib(\"https://cdn.rawgit.com/bmabey/pyLDAvis/files/ldavis.v1.0.0.js\", function(){\n",
       "        new LDAvis(\"#\" + \"ldavis_el1049221179059798161197247914\", ldavis_el1049221179059798161197247914_data);\n",
       "      });\n",
       "    });\n",
       "}else{\n",
       "    // require.js not available: dynamically load d3 & LDAvis\n",
       "    LDAvis_load_lib(\"https://cdnjs.cloudflare.com/ajax/libs/d3/3.5.5/d3.min.js\", function(){\n",
       "         LDAvis_load_lib(\"https://cdn.rawgit.com/bmabey/pyLDAvis/files/ldavis.v1.0.0.js\", function(){\n",
       "                 new LDAvis(\"#\" + \"ldavis_el1049221179059798161197247914\", ldavis_el1049221179059798161197247914_data);\n",
       "            })\n",
       "         });\n",
       "}\n",
       "</script>"
      ],
      "text/plain": [
       "<IPython.core.display.HTML object>"
      ]
     },
     "execution_count": 294,
     "metadata": {},
     "output_type": "execute_result"
    }
   ],
   "source": [
    "XX = np.dot(klbnmf['E_T'],klbnmf['E_V'])\n",
    "\n",
    "# Fit the NMF model\n",
    "print(\"Fitting the KLBNMF model with tf-idf(klbnmf['E_T']*klbnmf['E_V']) features, \" \"n_samples=%d and n_features=%d...\" % (n_samples, n_features))\n",
    "t0 = time()\n",
    "nmf = NMF(n_components=n_topics, random_state=1, alpha=.1, l1_ratio=.5).fit(XX)\n",
    "print(\"done in %0.3fs.\" % (time() - t0))\n",
    "\n",
    "print(\"\\nTopics in NMF model:\")\n",
    "tfidf_feature_names = tfidf_vectorizer.get_feature_names()\n",
    "print_top_words(nmf, tfidf_feature_names, n_top_words)\n",
    "\n",
    "XXsparse = sparse.csr_matrix(XX)\n",
    "\n",
    "#http://nbviewer.jupyter.org/github/bmabey/pyLDAvis/blob/master/notebooks/sklearn.ipynb#topic=0&lambda=1&term=\n",
    "nmf_vis_data = pyLDAvis.sklearn.prepare(nmf, XXsparse, tfidf_vectorizer)\n",
    "pyLDAvis.display(nmf_vis_data)"
   ]
  },
  {
   "cell_type": "markdown",
   "metadata": {},
   "source": [
    "Asil en anlamli kisim burasi diyebiliriz. Cunku burada direkt klbnmf ten elde ettigimiz decompose edilmis matristeki kelimelerin topiclere nasil dagildigini gozlemleyebiliyoruz.\n",
    "\n",
    "ilk kisim normal decompose edilmis klbnmf amtrislerin carpiminin nmf i, ikinci kisim direkt klbnmf\n",
    "\n",
    "Burda klbnmf ile cikan sonuclarin, klbnmf ten cikan matrislerin carpimiyla cikan matrsiten elde ettigimiz sonuclarla neredeyse birebir ayni oldugunu gorebiliriz. Yani yukardaki yuvarlakli guzel gorseli asil olay olarak kullanabiliriz."
   ]
  },
  {
   "cell_type": "code",
   "execution_count": 295,
   "metadata": {
    "collapsed": false
   },
   "outputs": [
    {
     "name": "stdout",
     "output_type": "stream",
     "text": [
      "Topic #0:\n",
      "(robot, 0.020638)  (raspberri, 0.008837)  (kit, 0.006912)  (video, 0.006500)  (project, 0.005672)  (build, 0.005319)  (check, 0.004639)  \n",
      "Topic #1:\n",
      "(data, 0.013971)  (learn, 0.013928)  (machin, 0.006397)  (deep, 0.005747)  (work, 0.005716)  (python, 0.005161)  (interest, 0.004843)  \n",
      "Topic #2:\n",
      "(trump, 0.009387)  (time, 0.006389)  (peopl, 0.005227)  (love, 0.004533)  (think, 0.004455)  (work, 0.004136)  (day, 0.004133)  \n",
      "Topic #3:\n",
      "(learn, 0.011873)  (stem, 0.009998)  (today, 0.007903)  (love, 0.007885)  (maker, 0.007793)  (day, 0.006371)  (scienc, 0.005840)  \n",
      "Topic #4:\n",
      "(analyt, 0.009988)  (data, 0.008354)  (innov, 0.006202)  (busi, 0.005935)  (learn, 0.005738)  (team, 0.005422)  (market, 0.005255)  \n",
      "Topic #5:\n",
      "(3dprint, 0.013957)  (print, 0.007923)  (look, 0.005854)  (work, 0.005543)  (time, 0.005198)  (love, 0.004362)  (sorri, 0.004216)  \n",
      "\n",
      "Topic #0:\n",
      "(learn, 0.011873)  (stem, 0.009998)  (today, 0.007903)  (love, 0.007885)  (maker, 0.007793)  (day, 0.006371)  (scienc, 0.005840)  \n",
      "Topic #1:\n",
      "(robot, 0.020630)  (raspberri, 0.008833)  (kit, 0.006910)  (video, 0.006498)  (project, 0.005670)  (build, 0.005318)  (check, 0.004639)  \n",
      "Topic #2:\n",
      "(trump, 0.009393)  (time, 0.006390)  (peopl, 0.005230)  (love, 0.004535)  (think, 0.004457)  (work, 0.004135)  (day, 0.004133)  \n",
      "Topic #3:\n",
      "(analyt, 0.009985)  (data, 0.008352)  (innov, 0.006200)  (busi, 0.005933)  (learn, 0.005737)  (team, 0.005420)  (market, 0.005253)  \n",
      "Topic #4:\n",
      "(data, 0.013957)  (learn, 0.013914)  (machin, 0.006389)  (deep, 0.005740)  (work, 0.005715)  (python, 0.005155)  (interest, 0.004838)  \n",
      "Topic #5:\n",
      "(3dprint, 0.013954)  (print, 0.007921)  (look, 0.005853)  (work, 0.005542)  (time, 0.005198)  (love, 0.004362)  (sorri, 0.004215)  \n",
      "\n"
     ]
    }
   ],
   "source": [
    "print_top_words(nmf, tfidf_vectorizer.get_feature_names(), n_top_words)\n",
    "print_top_words2(klbnmf['E_V'], tfidf_vectorizer.get_feature_names(), n_top_words)"
   ]
  }
 ],
 "metadata": {
  "anaconda-cloud": {},
  "kernelspec": {
   "display_name": "Python [default]",
   "language": "python",
   "name": "python3"
  },
  "language_info": {
   "codemirror_mode": {
    "name": "ipython",
    "version": 3
   },
   "file_extension": ".py",
   "mimetype": "text/x-python",
   "name": "python",
   "nbconvert_exporter": "python",
   "pygments_lexer": "ipython3",
   "version": "3.5.2"
  }
 },
 "nbformat": 4,
 "nbformat_minor": 2
}
